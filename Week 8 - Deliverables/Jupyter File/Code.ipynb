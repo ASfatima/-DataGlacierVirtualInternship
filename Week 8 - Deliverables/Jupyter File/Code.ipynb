{
 "cells": [
  {
   "cell_type": "markdown",
   "id": "fdb9a8c4-07a8-47e0-ab14-90ff887d90fd",
   "metadata": {},
   "source": [
    "<h1><center>Data Analyst <br>\n",
    "    Cross selling recommendation <br>\n",
    "    How to increase cross selling of Banking Products</center></h1>"
   ]
  },
  {
   "cell_type": "markdown",
   "id": "9f00c010-e9c0-4fcf-973c-f29540674405",
   "metadata": {},
   "source": [
    "## Team member's details:\n",
    "<b> 1. Group Name: </b> Data Girl.<br>\n",
    "<b> 2. Name:  </b>Fatimah Asiri.<br>\n",
    "<b> 3. Email: </b> alassirifatima@gmail.com<br>\n",
    "<b> 4. Country:  </b>Saudi Arabia. <br>\n",
    "<b> 5. College/Company:  </b>Freelancer<br>\n",
    "<b> 6. Specialization:  </b>Data Analyst.\n"
   ]
  },
  {
   "cell_type": "markdown",
   "id": "d9e216a8-2a39-401e-9dd0-25e293bdae57",
   "metadata": {},
   "source": [
    "##  Business understanding\n",
    "<b> 1. Business Objectives: </b>\n",
    "\n",
    "ABC analytics help  XYZ Credit Union to solve the problem is an existing customer not buying more than 1 product which means the bank is not performing well in cross-selling \n",
    "\n",
    "ABC company came up with a framework that will be utilizing a machine learning algorithm in the core to increase cross-selling.\n",
    "\n",
    "<b> 2. Information the Stakeholders are seeking: </b>\n",
    "\n",
    "How does XYZ credit union sell more than 1 product for new customers and be able to sell their other offerings to an existing customer?\n",
    "\n",
    "<b> 3. The type of analysis:  </b>\n",
    "\n",
    "Cross-selling analysis\n",
    "\n",
    "<b> 4. The deliverables: </b>\n",
    "\n",
    "Provide a machine learning algorithm for XYZ credit union on how to sell more than 1 product for new customers and be able to sell their other offerings to an existing customer.\n",
    "\n",
    "Create dashboard which should capture type of customer their count, segment wise (VIP,student etc) customer average age and other KPIs which gives better business insight in taking decision.\n"
   ]
  },
  {
   "cell_type": "markdown",
   "id": "e4d7ef7d-439e-4485-a045-78336445434b",
   "metadata": {},
   "source": [
    "<hr>"
   ]
  },
  {
   "cell_type": "markdown",
   "id": "0257a0af-6510-4dd0-b759-a2dd2086b4e1",
   "metadata": {},
   "source": [
    "## Data Understanding"
   ]
  },
  {
   "cell_type": "markdown",
   "id": "ab7b9483-99d4-497b-b6f4-3d9fb71a3ee3",
   "metadata": {},
   "source": [
    "###  Import libraries"
   ]
  },
  {
   "cell_type": "code",
   "execution_count": 1,
   "id": "5d321e24-f0a9-412c-8c05-31b56ab0cc50",
   "metadata": {},
   "outputs": [],
   "source": [
    "import pandas as pd\n",
    "import numpy as np\n",
    "# plot\n",
    "import seaborn as sns \n",
    "import matplotlib.pyplot as plt"
   ]
  },
  {
   "cell_type": "markdown",
   "id": "f6d2c05c-0e3a-4e90-8378-a57a7169ef26",
   "metadata": {},
   "source": [
    "### load Dataset Teat"
   ]
  },
  {
   "cell_type": "code",
   "execution_count": 2,
   "id": "29d24836-3ef2-494f-a90c-943fbd7c6b60",
   "metadata": {},
   "outputs": [
    {
     "name": "stderr",
     "output_type": "stream",
     "text": [
      "C:\\Users\\Fatimah Asiri\\anaconda3\\lib\\site-packages\\IPython\\core\\interactiveshell.py:3457: DtypeWarning: Columns (15) have mixed types.Specify dtype option on import or set low_memory=False.\n",
      "  exec(code_obj, self.user_global_ns, self.user_ns)\n"
     ]
    }
   ],
   "source": [
    "# read csv file by pandas\n",
    "test_df= pd.read_csv('Test.csv')"
   ]
  },
  {
   "cell_type": "markdown",
   "id": "9e390f69",
   "metadata": {},
   "source": [
    "### Basic information about data"
   ]
  },
  {
   "cell_type": "code",
   "execution_count": 3,
   "id": "25fb4c27",
   "metadata": {},
   "outputs": [
    {
     "data": {
      "text/html": [
       "<div>\n",
       "<style scoped>\n",
       "    .dataframe tbody tr th:only-of-type {\n",
       "        vertical-align: middle;\n",
       "    }\n",
       "\n",
       "    .dataframe tbody tr th {\n",
       "        vertical-align: top;\n",
       "    }\n",
       "\n",
       "    .dataframe thead th {\n",
       "        text-align: right;\n",
       "    }\n",
       "</style>\n",
       "<table border=\"1\" class=\"dataframe\">\n",
       "  <thead>\n",
       "    <tr style=\"text-align: right;\">\n",
       "      <th></th>\n",
       "      <th>fecha_dato</th>\n",
       "      <th>ncodpers</th>\n",
       "      <th>ind_empleado</th>\n",
       "      <th>pais_residencia</th>\n",
       "      <th>sexo</th>\n",
       "      <th>age</th>\n",
       "      <th>fecha_alta</th>\n",
       "      <th>ind_nuevo</th>\n",
       "      <th>antiguedad</th>\n",
       "      <th>indrel</th>\n",
       "      <th>...</th>\n",
       "      <th>indext</th>\n",
       "      <th>conyuemp</th>\n",
       "      <th>canal_entrada</th>\n",
       "      <th>indfall</th>\n",
       "      <th>tipodom</th>\n",
       "      <th>cod_prov</th>\n",
       "      <th>nomprov</th>\n",
       "      <th>ind_actividad_cliente</th>\n",
       "      <th>renta</th>\n",
       "      <th>segmento</th>\n",
       "    </tr>\n",
       "  </thead>\n",
       "  <tbody>\n",
       "    <tr>\n",
       "      <th>0</th>\n",
       "      <td>2016-06-28</td>\n",
       "      <td>15889</td>\n",
       "      <td>F</td>\n",
       "      <td>ES</td>\n",
       "      <td>V</td>\n",
       "      <td>56</td>\n",
       "      <td>1995-01-16</td>\n",
       "      <td>0</td>\n",
       "      <td>256</td>\n",
       "      <td>1</td>\n",
       "      <td>...</td>\n",
       "      <td>N</td>\n",
       "      <td>N</td>\n",
       "      <td>KAT</td>\n",
       "      <td>N</td>\n",
       "      <td>1</td>\n",
       "      <td>28.0</td>\n",
       "      <td>MADRID</td>\n",
       "      <td>1</td>\n",
       "      <td>326124.90</td>\n",
       "      <td>01 - TOP</td>\n",
       "    </tr>\n",
       "    <tr>\n",
       "      <th>1</th>\n",
       "      <td>2016-06-28</td>\n",
       "      <td>1170544</td>\n",
       "      <td>N</td>\n",
       "      <td>ES</td>\n",
       "      <td>H</td>\n",
       "      <td>36</td>\n",
       "      <td>2013-08-28</td>\n",
       "      <td>0</td>\n",
       "      <td>34</td>\n",
       "      <td>1</td>\n",
       "      <td>...</td>\n",
       "      <td>N</td>\n",
       "      <td>NaN</td>\n",
       "      <td>KAT</td>\n",
       "      <td>N</td>\n",
       "      <td>1</td>\n",
       "      <td>3.0</td>\n",
       "      <td>ALICANTE</td>\n",
       "      <td>0</td>\n",
       "      <td>NA</td>\n",
       "      <td>02 - PARTICULARES</td>\n",
       "    </tr>\n",
       "    <tr>\n",
       "      <th>2</th>\n",
       "      <td>2016-06-28</td>\n",
       "      <td>1170545</td>\n",
       "      <td>N</td>\n",
       "      <td>ES</td>\n",
       "      <td>V</td>\n",
       "      <td>22</td>\n",
       "      <td>2013-08-28</td>\n",
       "      <td>0</td>\n",
       "      <td>34</td>\n",
       "      <td>1</td>\n",
       "      <td>...</td>\n",
       "      <td>N</td>\n",
       "      <td>NaN</td>\n",
       "      <td>KHE</td>\n",
       "      <td>N</td>\n",
       "      <td>1</td>\n",
       "      <td>15.0</td>\n",
       "      <td>CORUÑA, A</td>\n",
       "      <td>1</td>\n",
       "      <td>NA</td>\n",
       "      <td>03 - UNIVERSITARIO</td>\n",
       "    </tr>\n",
       "    <tr>\n",
       "      <th>3</th>\n",
       "      <td>2016-06-28</td>\n",
       "      <td>1170547</td>\n",
       "      <td>N</td>\n",
       "      <td>ES</td>\n",
       "      <td>H</td>\n",
       "      <td>22</td>\n",
       "      <td>2013-08-28</td>\n",
       "      <td>0</td>\n",
       "      <td>34</td>\n",
       "      <td>1</td>\n",
       "      <td>...</td>\n",
       "      <td>N</td>\n",
       "      <td>NaN</td>\n",
       "      <td>KHE</td>\n",
       "      <td>N</td>\n",
       "      <td>1</td>\n",
       "      <td>8.0</td>\n",
       "      <td>BARCELONA</td>\n",
       "      <td>0</td>\n",
       "      <td>148402.98</td>\n",
       "      <td>03 - UNIVERSITARIO</td>\n",
       "    </tr>\n",
       "    <tr>\n",
       "      <th>4</th>\n",
       "      <td>2016-06-28</td>\n",
       "      <td>1170548</td>\n",
       "      <td>N</td>\n",
       "      <td>ES</td>\n",
       "      <td>H</td>\n",
       "      <td>22</td>\n",
       "      <td>2013-08-28</td>\n",
       "      <td>0</td>\n",
       "      <td>34</td>\n",
       "      <td>1</td>\n",
       "      <td>...</td>\n",
       "      <td>N</td>\n",
       "      <td>NaN</td>\n",
       "      <td>KHE</td>\n",
       "      <td>N</td>\n",
       "      <td>1</td>\n",
       "      <td>7.0</td>\n",
       "      <td>BALEARS, ILLES</td>\n",
       "      <td>0</td>\n",
       "      <td>106885.80</td>\n",
       "      <td>03 - UNIVERSITARIO</td>\n",
       "    </tr>\n",
       "  </tbody>\n",
       "</table>\n",
       "<p>5 rows × 24 columns</p>\n",
       "</div>"
      ],
      "text/plain": [
       "   fecha_dato  ncodpers ind_empleado pais_residencia sexo  age  fecha_alta  \\\n",
       "0  2016-06-28     15889            F              ES    V   56  1995-01-16   \n",
       "1  2016-06-28   1170544            N              ES    H   36  2013-08-28   \n",
       "2  2016-06-28   1170545            N              ES    V   22  2013-08-28   \n",
       "3  2016-06-28   1170547            N              ES    H   22  2013-08-28   \n",
       "4  2016-06-28   1170548            N              ES    H   22  2013-08-28   \n",
       "\n",
       "   ind_nuevo  antiguedad  indrel  ... indext  conyuemp canal_entrada indfall  \\\n",
       "0          0         256       1  ...      N         N           KAT       N   \n",
       "1          0          34       1  ...      N       NaN           KAT       N   \n",
       "2          0          34       1  ...      N       NaN           KHE       N   \n",
       "3          0          34       1  ...      N       NaN           KHE       N   \n",
       "4          0          34       1  ...      N       NaN           KHE       N   \n",
       "\n",
       "  tipodom cod_prov         nomprov ind_actividad_cliente        renta  \\\n",
       "0       1     28.0          MADRID                     1    326124.90   \n",
       "1       1      3.0        ALICANTE                     0           NA   \n",
       "2       1     15.0       CORUÑA, A                     1           NA   \n",
       "3       1      8.0       BARCELONA                     0    148402.98   \n",
       "4       1      7.0  BALEARS, ILLES                     0    106885.80   \n",
       "\n",
       "             segmento  \n",
       "0            01 - TOP  \n",
       "1   02 - PARTICULARES  \n",
       "2  03 - UNIVERSITARIO  \n",
       "3  03 - UNIVERSITARIO  \n",
       "4  03 - UNIVERSITARIO  \n",
       "\n",
       "[5 rows x 24 columns]"
      ]
     },
     "execution_count": 3,
     "metadata": {},
     "output_type": "execute_result"
    }
   ],
   "source": [
    "# to see first 5 rows in data \n",
    "test_df.head()"
   ]
  },
  {
   "cell_type": "code",
   "execution_count": 4,
   "id": "e8d03604",
   "metadata": {},
   "outputs": [
    {
     "name": "stdout",
     "output_type": "stream",
     "text": [
      "The Shape of Dataset: (929615, 24)\n"
     ]
    }
   ],
   "source": [
    "# to know how many rows and columns\n",
    "print(\"The Shape of Dataset:\",test_df.shape)"
   ]
  },
  {
   "cell_type": "code",
   "execution_count": 5,
   "id": "d097ad17-2e1b-4bb3-b82b-c527bf05fa52",
   "metadata": {},
   "outputs": [
    {
     "data": {
      "text/html": [
       "<div>\n",
       "<style scoped>\n",
       "    .dataframe tbody tr th:only-of-type {\n",
       "        vertical-align: middle;\n",
       "    }\n",
       "\n",
       "    .dataframe tbody tr th {\n",
       "        vertical-align: top;\n",
       "    }\n",
       "\n",
       "    .dataframe thead th {\n",
       "        text-align: right;\n",
       "    }\n",
       "</style>\n",
       "<table border=\"1\" class=\"dataframe\">\n",
       "  <thead>\n",
       "    <tr style=\"text-align: right;\">\n",
       "      <th></th>\n",
       "      <th>ncodpers</th>\n",
       "      <th>age</th>\n",
       "      <th>ind_nuevo</th>\n",
       "      <th>antiguedad</th>\n",
       "      <th>indrel</th>\n",
       "      <th>indrel_1mes</th>\n",
       "      <th>tipodom</th>\n",
       "      <th>cod_prov</th>\n",
       "      <th>ind_actividad_cliente</th>\n",
       "    </tr>\n",
       "  </thead>\n",
       "  <tbody>\n",
       "    <tr>\n",
       "      <th>count</th>\n",
       "      <td>9.296150e+05</td>\n",
       "      <td>929615.000000</td>\n",
       "      <td>929615.000000</td>\n",
       "      <td>929615.000000</td>\n",
       "      <td>929615.000000</td>\n",
       "      <td>929592.000000</td>\n",
       "      <td>929615.0</td>\n",
       "      <td>925619.000000</td>\n",
       "      <td>929615.000000</td>\n",
       "    </tr>\n",
       "    <tr>\n",
       "      <th>mean</th>\n",
       "      <td>8.794566e+05</td>\n",
       "      <td>40.249821</td>\n",
       "      <td>0.027849</td>\n",
       "      <td>77.728413</td>\n",
       "      <td>1.177422</td>\n",
       "      <td>1.000058</td>\n",
       "      <td>1.0</td>\n",
       "      <td>26.546150</td>\n",
       "      <td>0.425272</td>\n",
       "    </tr>\n",
       "    <tr>\n",
       "      <th>std</th>\n",
       "      <td>4.481569e+05</td>\n",
       "      <td>17.185119</td>\n",
       "      <td>0.164541</td>\n",
       "      <td>1797.824518</td>\n",
       "      <td>4.166039</td>\n",
       "      <td>0.010779</td>\n",
       "      <td>0.0</td>\n",
       "      <td>12.836614</td>\n",
       "      <td>0.494384</td>\n",
       "    </tr>\n",
       "    <tr>\n",
       "      <th>min</th>\n",
       "      <td>1.588900e+04</td>\n",
       "      <td>2.000000</td>\n",
       "      <td>0.000000</td>\n",
       "      <td>-999999.000000</td>\n",
       "      <td>1.000000</td>\n",
       "      <td>1.000000</td>\n",
       "      <td>1.0</td>\n",
       "      <td>1.000000</td>\n",
       "      <td>0.000000</td>\n",
       "    </tr>\n",
       "    <tr>\n",
       "      <th>25%</th>\n",
       "      <td>4.833615e+05</td>\n",
       "      <td>25.000000</td>\n",
       "      <td>0.000000</td>\n",
       "      <td>23.000000</td>\n",
       "      <td>1.000000</td>\n",
       "      <td>1.000000</td>\n",
       "      <td>1.0</td>\n",
       "      <td>15.000000</td>\n",
       "      <td>0.000000</td>\n",
       "    </tr>\n",
       "    <tr>\n",
       "      <th>50%</th>\n",
       "      <td>9.664250e+05</td>\n",
       "      <td>39.000000</td>\n",
       "      <td>0.000000</td>\n",
       "      <td>55.000000</td>\n",
       "      <td>1.000000</td>\n",
       "      <td>1.000000</td>\n",
       "      <td>1.0</td>\n",
       "      <td>28.000000</td>\n",
       "      <td>0.000000</td>\n",
       "    </tr>\n",
       "    <tr>\n",
       "      <th>75%</th>\n",
       "      <td>1.264316e+06</td>\n",
       "      <td>51.000000</td>\n",
       "      <td>0.000000</td>\n",
       "      <td>136.000000</td>\n",
       "      <td>1.000000</td>\n",
       "      <td>1.000000</td>\n",
       "      <td>1.0</td>\n",
       "      <td>35.000000</td>\n",
       "      <td>1.000000</td>\n",
       "    </tr>\n",
       "    <tr>\n",
       "      <th>max</th>\n",
       "      <td>1.553689e+06</td>\n",
       "      <td>164.000000</td>\n",
       "      <td>1.000000</td>\n",
       "      <td>257.000000</td>\n",
       "      <td>99.000000</td>\n",
       "      <td>3.000000</td>\n",
       "      <td>1.0</td>\n",
       "      <td>52.000000</td>\n",
       "      <td>1.000000</td>\n",
       "    </tr>\n",
       "  </tbody>\n",
       "</table>\n",
       "</div>"
      ],
      "text/plain": [
       "           ncodpers            age      ind_nuevo     antiguedad  \\\n",
       "count  9.296150e+05  929615.000000  929615.000000  929615.000000   \n",
       "mean   8.794566e+05      40.249821       0.027849      77.728413   \n",
       "std    4.481569e+05      17.185119       0.164541    1797.824518   \n",
       "min    1.588900e+04       2.000000       0.000000 -999999.000000   \n",
       "25%    4.833615e+05      25.000000       0.000000      23.000000   \n",
       "50%    9.664250e+05      39.000000       0.000000      55.000000   \n",
       "75%    1.264316e+06      51.000000       0.000000     136.000000   \n",
       "max    1.553689e+06     164.000000       1.000000     257.000000   \n",
       "\n",
       "              indrel    indrel_1mes   tipodom       cod_prov  \\\n",
       "count  929615.000000  929592.000000  929615.0  925619.000000   \n",
       "mean        1.177422       1.000058       1.0      26.546150   \n",
       "std         4.166039       0.010779       0.0      12.836614   \n",
       "min         1.000000       1.000000       1.0       1.000000   \n",
       "25%         1.000000       1.000000       1.0      15.000000   \n",
       "50%         1.000000       1.000000       1.0      28.000000   \n",
       "75%         1.000000       1.000000       1.0      35.000000   \n",
       "max        99.000000       3.000000       1.0      52.000000   \n",
       "\n",
       "       ind_actividad_cliente  \n",
       "count          929615.000000  \n",
       "mean                0.425272  \n",
       "std                 0.494384  \n",
       "min                 0.000000  \n",
       "25%                 0.000000  \n",
       "50%                 0.000000  \n",
       "75%                 1.000000  \n",
       "max                 1.000000  "
      ]
     },
     "execution_count": 5,
     "metadata": {},
     "output_type": "execute_result"
    }
   ],
   "source": [
    "# to Generate descriptive statistics for numeric  \n",
    "test_df.describe()"
   ]
  },
  {
   "cell_type": "code",
   "execution_count": 6,
   "id": "26b29e62",
   "metadata": {},
   "outputs": [
    {
     "data": {
      "text/html": [
       "<div>\n",
       "<style scoped>\n",
       "    .dataframe tbody tr th:only-of-type {\n",
       "        vertical-align: middle;\n",
       "    }\n",
       "\n",
       "    .dataframe tbody tr th {\n",
       "        vertical-align: top;\n",
       "    }\n",
       "\n",
       "    .dataframe thead th {\n",
       "        text-align: right;\n",
       "    }\n",
       "</style>\n",
       "<table border=\"1\" class=\"dataframe\">\n",
       "  <thead>\n",
       "    <tr style=\"text-align: right;\">\n",
       "      <th></th>\n",
       "      <th>fecha_dato</th>\n",
       "      <th>ind_empleado</th>\n",
       "      <th>pais_residencia</th>\n",
       "      <th>sexo</th>\n",
       "      <th>fecha_alta</th>\n",
       "      <th>ult_fec_cli_1t</th>\n",
       "      <th>tiprel_1mes</th>\n",
       "      <th>indresi</th>\n",
       "      <th>indext</th>\n",
       "      <th>conyuemp</th>\n",
       "      <th>canal_entrada</th>\n",
       "      <th>indfall</th>\n",
       "      <th>nomprov</th>\n",
       "      <th>renta</th>\n",
       "      <th>segmento</th>\n",
       "    </tr>\n",
       "  </thead>\n",
       "  <tbody>\n",
       "    <tr>\n",
       "      <th>count</th>\n",
       "      <td>929615</td>\n",
       "      <td>929615</td>\n",
       "      <td>929615</td>\n",
       "      <td>929610</td>\n",
       "      <td>929615</td>\n",
       "      <td>1683</td>\n",
       "      <td>929592</td>\n",
       "      <td>929615</td>\n",
       "      <td>929615</td>\n",
       "      <td>104</td>\n",
       "      <td>927534</td>\n",
       "      <td>929615</td>\n",
       "      <td>925619</td>\n",
       "      <td>929615</td>\n",
       "      <td>927367</td>\n",
       "    </tr>\n",
       "    <tr>\n",
       "      <th>unique</th>\n",
       "      <td>1</td>\n",
       "      <td>5</td>\n",
       "      <td>118</td>\n",
       "      <td>2</td>\n",
       "      <td>6750</td>\n",
       "      <td>21</td>\n",
       "      <td>3</td>\n",
       "      <td>2</td>\n",
       "      <td>2</td>\n",
       "      <td>2</td>\n",
       "      <td>162</td>\n",
       "      <td>2</td>\n",
       "      <td>52</td>\n",
       "      <td>516403</td>\n",
       "      <td>3</td>\n",
       "    </tr>\n",
       "    <tr>\n",
       "      <th>top</th>\n",
       "      <td>2016-06-28</td>\n",
       "      <td>N</td>\n",
       "      <td>ES</td>\n",
       "      <td>V</td>\n",
       "      <td>2014-07-28</td>\n",
       "      <td>2016-06-01</td>\n",
       "      <td>I</td>\n",
       "      <td>S</td>\n",
       "      <td>N</td>\n",
       "      <td>N</td>\n",
       "      <td>KHE</td>\n",
       "      <td>N</td>\n",
       "      <td>MADRID</td>\n",
       "      <td>NA</td>\n",
       "      <td>02 - PARTICULARES</td>\n",
       "    </tr>\n",
       "    <tr>\n",
       "      <th>freq</th>\n",
       "      <td>929615</td>\n",
       "      <td>929096</td>\n",
       "      <td>925619</td>\n",
       "      <td>504515</td>\n",
       "      <td>3421</td>\n",
       "      <td>138</td>\n",
       "      <td>535943</td>\n",
       "      <td>925620</td>\n",
       "      <td>883548</td>\n",
       "      <td>103</td>\n",
       "      <td>251665</td>\n",
       "      <td>927215</td>\n",
       "      <td>298250</td>\n",
       "      <td>227965</td>\n",
       "      <td>545378</td>\n",
       "    </tr>\n",
       "  </tbody>\n",
       "</table>\n",
       "</div>"
      ],
      "text/plain": [
       "        fecha_dato ind_empleado pais_residencia    sexo  fecha_alta  \\\n",
       "count       929615       929615          929615  929610      929615   \n",
       "unique           1            5             118       2        6750   \n",
       "top     2016-06-28            N              ES       V  2014-07-28   \n",
       "freq        929615       929096          925619  504515        3421   \n",
       "\n",
       "       ult_fec_cli_1t tiprel_1mes indresi  indext conyuemp canal_entrada  \\\n",
       "count            1683      929592  929615  929615      104        927534   \n",
       "unique             21           3       2       2        2           162   \n",
       "top        2016-06-01           I       S       N        N           KHE   \n",
       "freq              138      535943  925620  883548      103        251665   \n",
       "\n",
       "       indfall nomprov        renta           segmento  \n",
       "count   929615  925619       929615             927367  \n",
       "unique       2      52       516403                  3  \n",
       "top          N  MADRID           NA  02 - PARTICULARES  \n",
       "freq    927215  298250       227965             545378  "
      ]
     },
     "execution_count": 6,
     "metadata": {},
     "output_type": "execute_result"
    }
   ],
   "source": [
    "# to Generate descriptive statistics for obiect\n",
    "test_df.describe(include=['object']) "
   ]
  },
  {
   "cell_type": "code",
   "execution_count": 7,
   "id": "12a7c975",
   "metadata": {},
   "outputs": [
    {
     "name": "stdout",
     "output_type": "stream",
     "text": [
      "<class 'pandas.core.frame.DataFrame'>\n",
      "RangeIndex: 929615 entries, 0 to 929614\n",
      "Data columns (total 24 columns):\n",
      " #   Column                 Non-Null Count   Dtype  \n",
      "---  ------                 --------------   -----  \n",
      " 0   fecha_dato             929615 non-null  object \n",
      " 1   ncodpers               929615 non-null  int64  \n",
      " 2   ind_empleado           929615 non-null  object \n",
      " 3   pais_residencia        929615 non-null  object \n",
      " 4   sexo                   929610 non-null  object \n",
      " 5   age                    929615 non-null  int64  \n",
      " 6   fecha_alta             929615 non-null  object \n",
      " 7   ind_nuevo              929615 non-null  int64  \n",
      " 8   antiguedad             929615 non-null  int64  \n",
      " 9   indrel                 929615 non-null  int64  \n",
      " 10  ult_fec_cli_1t         1683 non-null    object \n",
      " 11  indrel_1mes            929592 non-null  float64\n",
      " 12  tiprel_1mes            929592 non-null  object \n",
      " 13  indresi                929615 non-null  object \n",
      " 14  indext                 929615 non-null  object \n",
      " 15  conyuemp               104 non-null     object \n",
      " 16  canal_entrada          927534 non-null  object \n",
      " 17  indfall                929615 non-null  object \n",
      " 18  tipodom                929615 non-null  int64  \n",
      " 19  cod_prov               925619 non-null  float64\n",
      " 20  nomprov                925619 non-null  object \n",
      " 21  ind_actividad_cliente  929615 non-null  int64  \n",
      " 22  renta                  929615 non-null  object \n",
      " 23  segmento               927367 non-null  object \n",
      "dtypes: float64(2), int64(7), object(15)\n",
      "memory usage: 170.2+ MB\n"
     ]
    }
   ],
   "source": [
    "# to see basic infornation about data\n",
    "test_df.info()"
   ]
  },
  {
   "cell_type": "code",
   "execution_count": 8,
   "id": "dd4de1c3",
   "metadata": {},
   "outputs": [
    {
     "data": {
      "text/plain": [
       "fecha_dato                object\n",
       "ncodpers                   int64\n",
       "ind_empleado              object\n",
       "pais_residencia           object\n",
       "sexo                      object\n",
       "age                        int64\n",
       "fecha_alta                object\n",
       "ind_nuevo                  int64\n",
       "antiguedad                 int64\n",
       "indrel                     int64\n",
       "ult_fec_cli_1t            object\n",
       "indrel_1mes              float64\n",
       "tiprel_1mes               object\n",
       "indresi                   object\n",
       "indext                    object\n",
       "conyuemp                  object\n",
       "canal_entrada             object\n",
       "indfall                   object\n",
       "tipodom                    int64\n",
       "cod_prov                 float64\n",
       "nomprov                   object\n",
       "ind_actividad_cliente      int64\n",
       "renta                     object\n",
       "segmento                  object\n",
       "dtype: object"
      ]
     },
     "execution_count": 8,
     "metadata": {},
     "output_type": "execute_result"
    }
   ],
   "source": [
    "# to see waht the data types for each column\n",
    "test_df.dtypes"
   ]
  },
  {
   "cell_type": "markdown",
   "id": "320b710d",
   "metadata": {},
   "source": [
    "### Data Cleansing and Transformation"
   ]
  },
  {
   "cell_type": "markdown",
   "id": "df8ce53c",
   "metadata": {},
   "source": [
    "#### Check on duplicate rows in data\n"
   ]
  },
  {
   "cell_type": "code",
   "execution_count": 9,
   "id": "366e4417",
   "metadata": {},
   "outputs": [
    {
     "data": {
      "text/html": [
       "<div>\n",
       "<style scoped>\n",
       "    .dataframe tbody tr th:only-of-type {\n",
       "        vertical-align: middle;\n",
       "    }\n",
       "\n",
       "    .dataframe tbody tr th {\n",
       "        vertical-align: top;\n",
       "    }\n",
       "\n",
       "    .dataframe thead th {\n",
       "        text-align: right;\n",
       "    }\n",
       "</style>\n",
       "<table border=\"1\" class=\"dataframe\">\n",
       "  <thead>\n",
       "    <tr style=\"text-align: right;\">\n",
       "      <th></th>\n",
       "      <th>fecha_dato</th>\n",
       "      <th>ncodpers</th>\n",
       "      <th>ind_empleado</th>\n",
       "      <th>pais_residencia</th>\n",
       "      <th>sexo</th>\n",
       "      <th>age</th>\n",
       "      <th>fecha_alta</th>\n",
       "      <th>ind_nuevo</th>\n",
       "      <th>antiguedad</th>\n",
       "      <th>indrel</th>\n",
       "      <th>...</th>\n",
       "      <th>indext</th>\n",
       "      <th>conyuemp</th>\n",
       "      <th>canal_entrada</th>\n",
       "      <th>indfall</th>\n",
       "      <th>tipodom</th>\n",
       "      <th>cod_prov</th>\n",
       "      <th>nomprov</th>\n",
       "      <th>ind_actividad_cliente</th>\n",
       "      <th>renta</th>\n",
       "      <th>segmento</th>\n",
       "    </tr>\n",
       "  </thead>\n",
       "  <tbody>\n",
       "  </tbody>\n",
       "</table>\n",
       "<p>0 rows × 24 columns</p>\n",
       "</div>"
      ],
      "text/plain": [
       "Empty DataFrame\n",
       "Columns: [fecha_dato, ncodpers, ind_empleado, pais_residencia, sexo, age, fecha_alta, ind_nuevo, antiguedad, indrel, ult_fec_cli_1t, indrel_1mes, tiprel_1mes, indresi, indext, conyuemp, canal_entrada, indfall, tipodom, cod_prov, nomprov, ind_actividad_cliente, renta, segmento]\n",
       "Index: []\n",
       "\n",
       "[0 rows x 24 columns]"
      ]
     },
     "execution_count": 9,
     "metadata": {},
     "output_type": "execute_result"
    }
   ],
   "source": [
    "#identify duplicate rows\n",
    "duplicateRows = test_df[test_df.duplicated()]\n",
    "\n",
    "#view duplicate rows\n",
    "duplicateRows"
   ]
  },
  {
   "cell_type": "markdown",
   "id": "9d0ef403",
   "metadata": {},
   "source": [
    "#### Analysis the columns\n",
    "- Show the columns names\n",
    "- show unique values in each column and description about it\n",
    "- Check in missing values\n",
    "- Handleing Missing values\n"
   ]
  },
  {
   "cell_type": "code",
   "execution_count": 10,
   "id": "2ac488b8",
   "metadata": {},
   "outputs": [
    {
     "data": {
      "text/plain": [
       "Index(['fecha_dato', 'ncodpers', 'ind_empleado', 'pais_residencia', 'sexo',\n",
       "       'age', 'fecha_alta', 'ind_nuevo', 'antiguedad', 'indrel',\n",
       "       'ult_fec_cli_1t', 'indrel_1mes', 'tiprel_1mes', 'indresi', 'indext',\n",
       "       'conyuemp', 'canal_entrada', 'indfall', 'tipodom', 'cod_prov',\n",
       "       'nomprov', 'ind_actividad_cliente', 'renta', 'segmento'],\n",
       "      dtype='object')"
      ]
     },
     "execution_count": 10,
     "metadata": {},
     "output_type": "execute_result"
    }
   ],
   "source": [
    "# to see the coulmns names for dataset\n",
    "test_df.columns"
   ]
  },
  {
   "cell_type": "code",
   "execution_count": 11,
   "id": "1f9a5af3",
   "metadata": {},
   "outputs": [
    {
     "data": {
      "text/plain": [
       "fecha_dato                    1\n",
       "ncodpers                 929615\n",
       "ind_empleado                  5\n",
       "pais_residencia             118\n",
       "sexo                          2\n",
       "age                         118\n",
       "fecha_alta                 6750\n",
       "ind_nuevo                     2\n",
       "antiguedad                  259\n",
       "indrel                        2\n",
       "ult_fec_cli_1t               21\n",
       "indrel_1mes                   2\n",
       "tiprel_1mes                   3\n",
       "indresi                       2\n",
       "indext                        2\n",
       "conyuemp                      2\n",
       "canal_entrada               162\n",
       "indfall                       2\n",
       "tipodom                       1\n",
       "cod_prov                     52\n",
       "nomprov                      52\n",
       "ind_actividad_cliente         2\n",
       "renta                    516403\n",
       "segmento                      3\n",
       "dtype: int64"
      ]
     },
     "execution_count": 11,
     "metadata": {},
     "output_type": "execute_result"
    }
   ],
   "source": [
    "# to see how many unique value in each columns\n",
    "test_df.nunique()"
   ]
  },
  {
   "cell_type": "code",
   "execution_count": 12,
   "id": "bc57e9c7",
   "metadata": {},
   "outputs": [
    {
     "data": {
      "text/plain": [
       "array(['2016-06-28'], dtype=object)"
      ]
     },
     "execution_count": 12,
     "metadata": {},
     "output_type": "execute_result"
    }
   ],
   "source": [
    "# The unquie value in coulmn (fecha_dato)\n",
    "# Description about column: The table is partitioned for this column \n",
    "test_df['fecha_dato'].unique()"
   ]
  },
  {
   "cell_type": "code",
   "execution_count": 13,
   "id": "15da89cc",
   "metadata": {},
   "outputs": [
    {
     "data": {
      "text/plain": [
       "0"
      ]
     },
     "execution_count": 13,
     "metadata": {},
     "output_type": "execute_result"
    }
   ],
   "source": [
    "# Check the missing values in (fecha_dato)\n",
    "\n",
    "test_df['fecha_dato'].isnull().sum()"
   ]
  },
  {
   "cell_type": "markdown",
   "id": "817fae01",
   "metadata": {},
   "source": [
    "So, no missing values in fecha_dato column.\n",
    "<hr> "
   ]
  },
  {
   "cell_type": "code",
   "execution_count": 14,
   "id": "8151fb0d",
   "metadata": {},
   "outputs": [
    {
     "data": {
      "text/plain": [
       "array([  15889, 1170544, 1170545, ...,  660240,  660243,  660248],\n",
       "      dtype=int64)"
      ]
     },
     "execution_count": 14,
     "metadata": {},
     "output_type": "execute_result"
    }
   ],
   "source": [
    "# The unquie value in coulmn (ncodpers)\n",
    "# Description about column: Customer code is primary key for table\n",
    "test_df['ncodpers'].unique()"
   ]
  },
  {
   "cell_type": "code",
   "execution_count": 15,
   "id": "6196fcd8",
   "metadata": {},
   "outputs": [
    {
     "data": {
      "text/plain": [
       "0"
      ]
     },
     "execution_count": 15,
     "metadata": {},
     "output_type": "execute_result"
    }
   ],
   "source": [
    "# Check the missing values in column (ncodpers)\n",
    "\n",
    "test_df['ncodpers'].isnull().sum()"
   ]
  },
  {
   "cell_type": "markdown",
   "id": "967161f6",
   "metadata": {},
   "source": [
    "So, no missing values in ncodpers column.\n",
    "<hr> "
   ]
  },
  {
   "cell_type": "code",
   "execution_count": 16,
   "id": "4bd09190",
   "metadata": {},
   "outputs": [
    {
     "data": {
      "text/plain": [
       "array(['F', 'N', 'A', 'B', 'S'], dtype=object)"
      ]
     },
     "execution_count": 16,
     "metadata": {},
     "output_type": "execute_result"
    }
   ],
   "source": [
    "# The unquie value in coulmn (ind_empleado)\n",
    "# Description about column: Employee index: A active, B ex employed, F filial, N not employee, P pasive\n",
    "test_df['ind_empleado'].unique()"
   ]
  },
  {
   "cell_type": "code",
   "execution_count": 17,
   "id": "20a7ffaf",
   "metadata": {},
   "outputs": [
    {
     "data": {
      "text/plain": [
       "0"
      ]
     },
     "execution_count": 17,
     "metadata": {},
     "output_type": "execute_result"
    }
   ],
   "source": [
    "# Check the missing values in column (ind_empleado)\n",
    "\n",
    "test_df['ind_empleado'].isnull().sum()"
   ]
  },
  {
   "cell_type": "markdown",
   "id": "11e1e37b",
   "metadata": {},
   "source": [
    "So, no missing values in ind_empleado column.\n",
    "<hr> "
   ]
  },
  {
   "cell_type": "code",
   "execution_count": 18,
   "id": "36d81151",
   "metadata": {},
   "outputs": [
    {
     "data": {
      "text/plain": [
       "array(['ES', 'CH', 'DE', 'GB', 'BE', 'DJ', 'IE', 'QA', 'US', 'VE', 'DO',\n",
       "       'SE', 'AR', 'CA', 'PL', 'CN', 'CM', 'FR', 'AT', 'RO', 'LU', 'PT',\n",
       "       'CL', 'IT', 'MR', 'MX', 'SN', 'BR', 'CO', 'PE', 'RU', 'LT', 'EE',\n",
       "       'MA', 'HN', 'BG', 'NO', 'GT', 'UA', 'NL', 'GA', 'IL', 'JP', 'EC',\n",
       "       'IN', 'DZ', 'ET', 'SA', 'HU', 'JM', 'CI', 'CU', 'BO', 'TG', 'TN',\n",
       "       'NG', 'AU', 'GR', 'DK', 'LB', 'UY', 'TH', 'SG', 'MD', 'SK', 'AD',\n",
       "       'BY', 'HK', 'HR', 'EG', 'GQ', 'PR', 'ZA', 'PA', 'KE', 'TR', 'FI',\n",
       "       'BA', 'SV', 'PY', 'PK', 'KR', 'AO', 'GN', 'IS', 'TW', 'MK', 'VN',\n",
       "       'CZ', 'CR', 'MZ', 'MT', 'LY', 'GH', 'KH', 'AE', 'RS', 'OM', 'GE',\n",
       "       'NI', 'GI', 'NZ', 'MM', 'PH', 'KW', 'BM', 'CG', 'ML', 'AL', 'ZW',\n",
       "       'CF', 'GM', 'CD', 'BZ', 'KZ', 'GW', 'SL', 'LV'], dtype=object)"
      ]
     },
     "execution_count": 18,
     "metadata": {},
     "output_type": "execute_result"
    }
   ],
   "source": [
    "# The unquie value in coulmn (pais_residencia)\n",
    "# Description about column: Customer's Country residence\n",
    "test_df['pais_residencia'].unique()"
   ]
  },
  {
   "cell_type": "code",
   "execution_count": 19,
   "id": "2cda9e83",
   "metadata": {},
   "outputs": [
    {
     "data": {
      "text/plain": [
       "0"
      ]
     },
     "execution_count": 19,
     "metadata": {},
     "output_type": "execute_result"
    }
   ],
   "source": [
    "# Check the missing values in column (pais_residencia)\n",
    "\n",
    "test_df['pais_residencia'].isnull().sum()"
   ]
  },
  {
   "cell_type": "markdown",
   "id": "4d6ede1d",
   "metadata": {},
   "source": [
    "So, no missing values in pais_residencia column.\n",
    "<hr> "
   ]
  },
  {
   "cell_type": "code",
   "execution_count": 20,
   "id": "c94c3df9",
   "metadata": {},
   "outputs": [
    {
     "data": {
      "text/plain": [
       "array(['V', 'H', nan], dtype=object)"
      ]
     },
     "execution_count": 20,
     "metadata": {},
     "output_type": "execute_result"
    }
   ],
   "source": [
    "# The unquie value in coulmn (sexo)\n",
    "# Description about column: Customer's sex\n",
    "test_df['sexo'].unique()"
   ]
  },
  {
   "cell_type": "code",
   "execution_count": 21,
   "id": "793148bd",
   "metadata": {},
   "outputs": [
    {
     "data": {
      "text/plain": [
       "5"
      ]
     },
     "execution_count": 21,
     "metadata": {},
     "output_type": "execute_result"
    }
   ],
   "source": [
    "# Check the missing values in column (sexo)\n",
    "\n",
    "test_df['sexo'].isnull().sum()"
   ]
  },
  {
   "cell_type": "code",
   "execution_count": 22,
   "id": "66d3d745",
   "metadata": {},
   "outputs": [
    {
     "data": {
      "text/plain": [
       "'V'"
      ]
     },
     "execution_count": 22,
     "metadata": {},
     "output_type": "execute_result"
    }
   ],
   "source": [
    "# Calculate mode for sexo Column \n",
    "sexo_mode = test_df['sexo'].mode()[0]\n",
    "sexo_mode"
   ]
  },
  {
   "cell_type": "code",
   "execution_count": 23,
   "id": "cc4b3722",
   "metadata": {},
   "outputs": [],
   "source": [
    "# Replace NaN values with mode\n",
    "test_df['sexo'] = test_df['sexo'].replace(np.NaN, sexo_mode)"
   ]
  },
  {
   "cell_type": "code",
   "execution_count": 24,
   "id": "444c9407",
   "metadata": {},
   "outputs": [
    {
     "data": {
      "text/plain": [
       "0"
      ]
     },
     "execution_count": 24,
     "metadata": {},
     "output_type": "execute_result"
    }
   ],
   "source": [
    "# how many NaN values in sexo Column after handling \n",
    "test_df['sexo'].isnull().sum()"
   ]
  },
  {
   "cell_type": "code",
   "execution_count": 25,
   "id": "74baaf85",
   "metadata": {},
   "outputs": [],
   "source": [
    "# Replace 'V' to Female and 'H' to Male \n",
    "\n",
    "test_df['sexo'] = test_df['sexo'].replace(['V', 'H'], ['Female', 'Male'])\n"
   ]
  },
  {
   "cell_type": "markdown",
   "id": "a2c0cc7b",
   "metadata": {},
   "source": [
    "Sexo column has 5 missing values.So, handling  missing values in column by mode\n",
    "<hr> "
   ]
  },
  {
   "cell_type": "code",
   "execution_count": 26,
   "id": "e9c44918",
   "metadata": {},
   "outputs": [
    {
     "data": {
      "text/plain": [
       "array([ 56,  36,  22,  51,  41,  33,  23,  43,  63,  62,  32,  58,  71,\n",
       "        31,  30,  59,  45,  37,  39,  38,  46,  34,  35,  42,  29,  88,\n",
       "        64,  48,  72,  47,  27,  24,  50,  49,  57,  67,  25,  28,  13,\n",
       "        40,  53,  54,  26,  11,  21,  60,  44,  55,   7,  52,  66,  90,\n",
       "        73,  78,  79,  61,  69,  12,   9,  65,  77,  83,  81,  10,   5,\n",
       "        18,  17,  87,  70,  80,  75,  68,  74,  16,   4,  82,  91,  76,\n",
       "        19,  15,   6,  97,  89,  85,  86,  14,  20,   8,  84,  95,  93,\n",
       "       100,  96,  92,  98,  94, 105, 102, 101, 104, 103,  99,   3,   2,\n",
       "       116, 106, 107, 109, 110, 117, 108, 113, 111, 112, 114, 164, 118,\n",
       "       127], dtype=int64)"
      ]
     },
     "execution_count": 26,
     "metadata": {},
     "output_type": "execute_result"
    }
   ],
   "source": [
    "# The unquie value in column (age)\n",
    "# Description about column: Customer's age\n",
    "test_df['age'].unique()"
   ]
  },
  {
   "cell_type": "code",
   "execution_count": 27,
   "id": "1c364cab",
   "metadata": {},
   "outputs": [
    {
     "data": {
      "text/plain": [
       "0"
      ]
     },
     "execution_count": 27,
     "metadata": {},
     "output_type": "execute_result"
    }
   ],
   "source": [
    "# Check the missing values in column (age)\n",
    "\n",
    "test_df['age'].isnull().sum()"
   ]
  },
  {
   "cell_type": "markdown",
   "id": "bf8a4bab",
   "metadata": {},
   "source": [
    "So, no missing values in age column.\n",
    "<hr> "
   ]
  },
  {
   "cell_type": "code",
   "execution_count": 28,
   "id": "faf95845",
   "metadata": {},
   "outputs": [
    {
     "data": {
      "text/plain": [
       "array(['1995-01-16', '2013-08-28', '2016-01-22', ..., '2006-12-10',\n",
       "       '2006-12-24', '2012-08-19'], dtype=object)"
      ]
     },
     "execution_count": 28,
     "metadata": {},
     "output_type": "execute_result"
    }
   ],
   "source": [
    "# The unquie value in coulmn (fecha_alta)\n",
    "# Description about column: The date in which the customer became as the first holder of a contract in the bank\n",
    "test_df['fecha_alta'].unique()"
   ]
  },
  {
   "cell_type": "code",
   "execution_count": 29,
   "id": "f39a767b",
   "metadata": {},
   "outputs": [
    {
     "data": {
      "text/plain": [
       "0"
      ]
     },
     "execution_count": 29,
     "metadata": {},
     "output_type": "execute_result"
    }
   ],
   "source": [
    "# Check the missing values in column (fecha_alta)\n",
    "\n",
    "test_df['fecha_alta'].isnull().sum()"
   ]
  },
  {
   "cell_type": "markdown",
   "id": "f3b98186",
   "metadata": {},
   "source": [
    "So, no missing values in fecha_alta column.\n",
    "<hr>"
   ]
  },
  {
   "cell_type": "code",
   "execution_count": 30,
   "id": "086b9861",
   "metadata": {},
   "outputs": [
    {
     "data": {
      "text/plain": [
       "array([0, 1], dtype=int64)"
      ]
     },
     "execution_count": 30,
     "metadata": {},
     "output_type": "execute_result"
    }
   ],
   "source": [
    "# The unquie value in coulmn (ind_nuevo)\n",
    "# Description about column:New customer Index. 1 if the customer registered in the last 6 months. \n",
    "test_df['ind_nuevo'].unique()"
   ]
  },
  {
   "cell_type": "code",
   "execution_count": 31,
   "id": "b36f0c8c",
   "metadata": {},
   "outputs": [
    {
     "data": {
      "text/plain": [
       "0"
      ]
     },
     "execution_count": 31,
     "metadata": {},
     "output_type": "execute_result"
    }
   ],
   "source": [
    "# Check the missing values in column (ind_nuevo)\n",
    "\n",
    "test_df['ind_nuevo'].isnull().sum()"
   ]
  },
  {
   "cell_type": "markdown",
   "id": "66903ddf",
   "metadata": {},
   "source": [
    "So, no missing values in ind_nuevo column.\n",
    "<hr>"
   ]
  },
  {
   "cell_type": "code",
   "execution_count": 32,
   "id": "6b68ace8",
   "metadata": {},
   "outputs": [
    {
     "data": {
      "text/plain": [
       "array([    256,      34,      11,       5,      33,       4,      30,\n",
       "            32,      15,      18,      25,      23,      16,      26,\n",
       "            31,      13,      27,      29,      20,       8,       7,\n",
       "            24,      14,       3,       1,      10,      28,      22,\n",
       "            21,       2,      19,      17,      12,       9,       6,\n",
       "            37,      35,      36,      38,     150,      41,      40,\n",
       "            39,       0,      47,      48,      45,      42,      44,\n",
       "            46,      49,      43,      51,      50,      52,      55,\n",
       "            54,      53,      56,     186,     168,     128,     120,\n",
       "           220,      75,     172,     103,     159,     145,     135,\n",
       "           160,      93,     156,     157,     170,     148,     175,\n",
       "           176,     167,     104,     123,     133,     147,     112,\n",
       "            87,      99,     129,     171,     134,     144,     169,\n",
       "            72,     149,     106,     166,     113,     184,     139,\n",
       "           187,      62,     152,      81,     196,      78,     146,\n",
       "           161,     174,      96,      70,     109,     155,     131,\n",
       "           163,     143,      89,     158,     153,      73,      59,\n",
       "            65,     177,      95,     124,     132,      68,     138,\n",
       "           130,      98,      84,     122,      74,     141,     100,\n",
       "           115,     164,     204,      64,     136,     119,      88,\n",
       "           121,     117,     118,     127,     125,     165,      67,\n",
       "            97,      58,     111,     173,      77,     162,      63,\n",
       "           202,      94,     137,     110,     194,     154,     102,\n",
       "           199,     116,     140,     114,     105,     244,     195,\n",
       "           151,      86,      69,      76,     126,      90,     107,\n",
       "           142,      82,     108,      92,      79,      91,     233,\n",
       "           101,      83,     215,     217,     248,      80,     207,\n",
       "           188,      60,      66,     179,     185,     224,      57,\n",
       "           190,      61,     180,     206,     212,     197,      71,\n",
       "           246,     221,     183,     210,     219,     198,      85,\n",
       "           229,     231,     181,     213,     200,     228,     237,\n",
       "           192,     205,     230,     178,     209,     191,     189,\n",
       "           182,     218,     203,     236,     227,     201,     243,\n",
       "           216,     211,     241,     226,     193,     242,     214,\n",
       "           223,     235,     240,     238,     225,     234,     253,\n",
       "           252,     208,     222,     232,     249,     239,     247,\n",
       "           257,     251,     245,     254,     255,     250, -999999],\n",
       "      dtype=int64)"
      ]
     },
     "execution_count": 32,
     "metadata": {},
     "output_type": "execute_result"
    }
   ],
   "source": [
    "# The unquie value in coulmn (antiguedad)\n",
    "# Description about column: Customer seniority (in months)\n",
    "test_df['antiguedad'].unique()"
   ]
  },
  {
   "cell_type": "code",
   "execution_count": 33,
   "id": "0b7b2180",
   "metadata": {},
   "outputs": [
    {
     "data": {
      "text/plain": [
       "0"
      ]
     },
     "execution_count": 33,
     "metadata": {},
     "output_type": "execute_result"
    }
   ],
   "source": [
    "# Check the missing values in column (antiguedad)\n",
    "\n",
    "test_df['antiguedad'].isnull().sum()"
   ]
  },
  {
   "cell_type": "markdown",
   "id": "b0680176",
   "metadata": {},
   "source": [
    "So, no missing values in antiguedad column.\n",
    "<hr>"
   ]
  },
  {
   "cell_type": "code",
   "execution_count": 34,
   "id": "d69c3fad",
   "metadata": {},
   "outputs": [
    {
     "data": {
      "text/plain": [
       "array([ 1, 99], dtype=int64)"
      ]
     },
     "execution_count": 34,
     "metadata": {},
     "output_type": "execute_result"
    }
   ],
   "source": [
    "# The unquie value in coulmn (indrel)\n",
    "# Description about column: 1 (First/Primary), 99 (Primary customer during the month but not at the end of the month)\n",
    "test_df['indrel'].unique()"
   ]
  },
  {
   "cell_type": "code",
   "execution_count": 35,
   "id": "fc4ad28a",
   "metadata": {},
   "outputs": [
    {
     "data": {
      "text/plain": [
       "0"
      ]
     },
     "execution_count": 35,
     "metadata": {},
     "output_type": "execute_result"
    }
   ],
   "source": [
    "# Check the missing values in coulmn (antiguedad)\n",
    "\n",
    "test_df['indrel'].isnull().sum()"
   ]
  },
  {
   "cell_type": "markdown",
   "id": "bad47fec",
   "metadata": {},
   "source": [
    "So, no missing values in indrel column.\n",
    "<hr>"
   ]
  },
  {
   "cell_type": "code",
   "execution_count": 36,
   "id": "203f80d5",
   "metadata": {},
   "outputs": [
    {
     "data": {
      "text/plain": [
       "array([nan, '2016-06-03', '2016-06-24', '2016-06-22', '2016-06-02',\n",
       "       '2016-06-14', '2016-06-07', '2016-06-28', '2016-06-27',\n",
       "       '2016-06-20', '2016-06-10', '2016-06-01', '2016-06-08',\n",
       "       '2016-06-17', '2016-06-06', '2016-06-23', '2016-06-21',\n",
       "       '2016-06-29', '2016-06-16', '2016-06-09', '2016-06-15',\n",
       "       '2016-06-13'], dtype=object)"
      ]
     },
     "execution_count": 36,
     "metadata": {},
     "output_type": "execute_result"
    }
   ],
   "source": [
    "# The unquie value in coulmn (ult_fec_cli_1t)\n",
    "# Description about column: Last date as primary customer (if he isn't at the end of the month)\n",
    "test_df['ult_fec_cli_1t'].unique()"
   ]
  },
  {
   "cell_type": "code",
   "execution_count": 37,
   "id": "002900e6",
   "metadata": {},
   "outputs": [
    {
     "data": {
      "text/plain": [
       "927932"
      ]
     },
     "execution_count": 37,
     "metadata": {},
     "output_type": "execute_result"
    }
   ],
   "source": [
    "# Check the missing values in column (ult_fec_cli_1t)\n",
    "\n",
    "test_df['ult_fec_cli_1t'].isnull().sum()"
   ]
  },
  {
   "cell_type": "code",
   "execution_count": 38,
   "id": "687787f0",
   "metadata": {},
   "outputs": [
    {
     "data": {
      "text/html": [
       "<div>\n",
       "<style scoped>\n",
       "    .dataframe tbody tr th:only-of-type {\n",
       "        vertical-align: middle;\n",
       "    }\n",
       "\n",
       "    .dataframe tbody tr th {\n",
       "        vertical-align: top;\n",
       "    }\n",
       "\n",
       "    .dataframe thead th {\n",
       "        text-align: right;\n",
       "    }\n",
       "</style>\n",
       "<table border=\"1\" class=\"dataframe\">\n",
       "  <thead>\n",
       "    <tr style=\"text-align: right;\">\n",
       "      <th></th>\n",
       "      <th>fecha_dato</th>\n",
       "      <th>ncodpers</th>\n",
       "      <th>ind_empleado</th>\n",
       "      <th>pais_residencia</th>\n",
       "      <th>sexo</th>\n",
       "      <th>age</th>\n",
       "      <th>fecha_alta</th>\n",
       "      <th>ind_nuevo</th>\n",
       "      <th>antiguedad</th>\n",
       "      <th>indrel</th>\n",
       "      <th>...</th>\n",
       "      <th>indext</th>\n",
       "      <th>conyuemp</th>\n",
       "      <th>canal_entrada</th>\n",
       "      <th>indfall</th>\n",
       "      <th>tipodom</th>\n",
       "      <th>cod_prov</th>\n",
       "      <th>nomprov</th>\n",
       "      <th>ind_actividad_cliente</th>\n",
       "      <th>renta</th>\n",
       "      <th>segmento</th>\n",
       "    </tr>\n",
       "  </thead>\n",
       "  <tbody>\n",
       "    <tr>\n",
       "      <th>0</th>\n",
       "      <td>2016-06-28</td>\n",
       "      <td>15889</td>\n",
       "      <td>F</td>\n",
       "      <td>ES</td>\n",
       "      <td>Female</td>\n",
       "      <td>56</td>\n",
       "      <td>1995-01-16</td>\n",
       "      <td>0</td>\n",
       "      <td>256</td>\n",
       "      <td>1</td>\n",
       "      <td>...</td>\n",
       "      <td>N</td>\n",
       "      <td>N</td>\n",
       "      <td>KAT</td>\n",
       "      <td>N</td>\n",
       "      <td>1</td>\n",
       "      <td>28.0</td>\n",
       "      <td>MADRID</td>\n",
       "      <td>1</td>\n",
       "      <td>326124.90</td>\n",
       "      <td>01 - TOP</td>\n",
       "    </tr>\n",
       "    <tr>\n",
       "      <th>1</th>\n",
       "      <td>2016-06-28</td>\n",
       "      <td>1170544</td>\n",
       "      <td>N</td>\n",
       "      <td>ES</td>\n",
       "      <td>Male</td>\n",
       "      <td>36</td>\n",
       "      <td>2013-08-28</td>\n",
       "      <td>0</td>\n",
       "      <td>34</td>\n",
       "      <td>1</td>\n",
       "      <td>...</td>\n",
       "      <td>N</td>\n",
       "      <td>NaN</td>\n",
       "      <td>KAT</td>\n",
       "      <td>N</td>\n",
       "      <td>1</td>\n",
       "      <td>3.0</td>\n",
       "      <td>ALICANTE</td>\n",
       "      <td>0</td>\n",
       "      <td>NA</td>\n",
       "      <td>02 - PARTICULARES</td>\n",
       "    </tr>\n",
       "    <tr>\n",
       "      <th>2</th>\n",
       "      <td>2016-06-28</td>\n",
       "      <td>1170545</td>\n",
       "      <td>N</td>\n",
       "      <td>ES</td>\n",
       "      <td>Female</td>\n",
       "      <td>22</td>\n",
       "      <td>2013-08-28</td>\n",
       "      <td>0</td>\n",
       "      <td>34</td>\n",
       "      <td>1</td>\n",
       "      <td>...</td>\n",
       "      <td>N</td>\n",
       "      <td>NaN</td>\n",
       "      <td>KHE</td>\n",
       "      <td>N</td>\n",
       "      <td>1</td>\n",
       "      <td>15.0</td>\n",
       "      <td>CORUÑA, A</td>\n",
       "      <td>1</td>\n",
       "      <td>NA</td>\n",
       "      <td>03 - UNIVERSITARIO</td>\n",
       "    </tr>\n",
       "    <tr>\n",
       "      <th>3</th>\n",
       "      <td>2016-06-28</td>\n",
       "      <td>1170547</td>\n",
       "      <td>N</td>\n",
       "      <td>ES</td>\n",
       "      <td>Male</td>\n",
       "      <td>22</td>\n",
       "      <td>2013-08-28</td>\n",
       "      <td>0</td>\n",
       "      <td>34</td>\n",
       "      <td>1</td>\n",
       "      <td>...</td>\n",
       "      <td>N</td>\n",
       "      <td>NaN</td>\n",
       "      <td>KHE</td>\n",
       "      <td>N</td>\n",
       "      <td>1</td>\n",
       "      <td>8.0</td>\n",
       "      <td>BARCELONA</td>\n",
       "      <td>0</td>\n",
       "      <td>148402.98</td>\n",
       "      <td>03 - UNIVERSITARIO</td>\n",
       "    </tr>\n",
       "    <tr>\n",
       "      <th>4</th>\n",
       "      <td>2016-06-28</td>\n",
       "      <td>1170548</td>\n",
       "      <td>N</td>\n",
       "      <td>ES</td>\n",
       "      <td>Male</td>\n",
       "      <td>22</td>\n",
       "      <td>2013-08-28</td>\n",
       "      <td>0</td>\n",
       "      <td>34</td>\n",
       "      <td>1</td>\n",
       "      <td>...</td>\n",
       "      <td>N</td>\n",
       "      <td>NaN</td>\n",
       "      <td>KHE</td>\n",
       "      <td>N</td>\n",
       "      <td>1</td>\n",
       "      <td>7.0</td>\n",
       "      <td>BALEARS, ILLES</td>\n",
       "      <td>0</td>\n",
       "      <td>106885.80</td>\n",
       "      <td>03 - UNIVERSITARIO</td>\n",
       "    </tr>\n",
       "    <tr>\n",
       "      <th>...</th>\n",
       "      <td>...</td>\n",
       "      <td>...</td>\n",
       "      <td>...</td>\n",
       "      <td>...</td>\n",
       "      <td>...</td>\n",
       "      <td>...</td>\n",
       "      <td>...</td>\n",
       "      <td>...</td>\n",
       "      <td>...</td>\n",
       "      <td>...</td>\n",
       "      <td>...</td>\n",
       "      <td>...</td>\n",
       "      <td>...</td>\n",
       "      <td>...</td>\n",
       "      <td>...</td>\n",
       "      <td>...</td>\n",
       "      <td>...</td>\n",
       "      <td>...</td>\n",
       "      <td>...</td>\n",
       "      <td>...</td>\n",
       "      <td>...</td>\n",
       "    </tr>\n",
       "    <tr>\n",
       "      <th>929610</th>\n",
       "      <td>2016-06-28</td>\n",
       "      <td>660237</td>\n",
       "      <td>N</td>\n",
       "      <td>ES</td>\n",
       "      <td>Female</td>\n",
       "      <td>55</td>\n",
       "      <td>1999-04-21</td>\n",
       "      <td>0</td>\n",
       "      <td>206</td>\n",
       "      <td>1</td>\n",
       "      <td>...</td>\n",
       "      <td>N</td>\n",
       "      <td>NaN</td>\n",
       "      <td>KAT</td>\n",
       "      <td>N</td>\n",
       "      <td>1</td>\n",
       "      <td>28.0</td>\n",
       "      <td>MADRID</td>\n",
       "      <td>1</td>\n",
       "      <td>128643.57</td>\n",
       "      <td>01 - TOP</td>\n",
       "    </tr>\n",
       "    <tr>\n",
       "      <th>929611</th>\n",
       "      <td>2016-06-28</td>\n",
       "      <td>660238</td>\n",
       "      <td>N</td>\n",
       "      <td>ES</td>\n",
       "      <td>Female</td>\n",
       "      <td>30</td>\n",
       "      <td>2006-11-29</td>\n",
       "      <td>0</td>\n",
       "      <td>115</td>\n",
       "      <td>1</td>\n",
       "      <td>...</td>\n",
       "      <td>N</td>\n",
       "      <td>NaN</td>\n",
       "      <td>KFC</td>\n",
       "      <td>N</td>\n",
       "      <td>1</td>\n",
       "      <td>26.0</td>\n",
       "      <td>RIOJA, LA</td>\n",
       "      <td>0</td>\n",
       "      <td>NA</td>\n",
       "      <td>02 - PARTICULARES</td>\n",
       "    </tr>\n",
       "    <tr>\n",
       "      <th>929612</th>\n",
       "      <td>2016-06-28</td>\n",
       "      <td>660240</td>\n",
       "      <td>N</td>\n",
       "      <td>ES</td>\n",
       "      <td>Female</td>\n",
       "      <td>52</td>\n",
       "      <td>2006-11-29</td>\n",
       "      <td>0</td>\n",
       "      <td>115</td>\n",
       "      <td>1</td>\n",
       "      <td>...</td>\n",
       "      <td>N</td>\n",
       "      <td>NaN</td>\n",
       "      <td>KBZ</td>\n",
       "      <td>N</td>\n",
       "      <td>1</td>\n",
       "      <td>33.0</td>\n",
       "      <td>ASTURIAS</td>\n",
       "      <td>1</td>\n",
       "      <td>72765.27</td>\n",
       "      <td>02 - PARTICULARES</td>\n",
       "    </tr>\n",
       "    <tr>\n",
       "      <th>929613</th>\n",
       "      <td>2016-06-28</td>\n",
       "      <td>660243</td>\n",
       "      <td>N</td>\n",
       "      <td>ES</td>\n",
       "      <td>Female</td>\n",
       "      <td>32</td>\n",
       "      <td>2006-11-29</td>\n",
       "      <td>0</td>\n",
       "      <td>115</td>\n",
       "      <td>1</td>\n",
       "      <td>...</td>\n",
       "      <td>N</td>\n",
       "      <td>NaN</td>\n",
       "      <td>KFC</td>\n",
       "      <td>N</td>\n",
       "      <td>1</td>\n",
       "      <td>33.0</td>\n",
       "      <td>ASTURIAS</td>\n",
       "      <td>0</td>\n",
       "      <td>147488.88</td>\n",
       "      <td>02 - PARTICULARES</td>\n",
       "    </tr>\n",
       "    <tr>\n",
       "      <th>929614</th>\n",
       "      <td>2016-06-28</td>\n",
       "      <td>660248</td>\n",
       "      <td>N</td>\n",
       "      <td>ES</td>\n",
       "      <td>Female</td>\n",
       "      <td>92</td>\n",
       "      <td>2006-11-29</td>\n",
       "      <td>0</td>\n",
       "      <td>115</td>\n",
       "      <td>1</td>\n",
       "      <td>...</td>\n",
       "      <td>N</td>\n",
       "      <td>NaN</td>\n",
       "      <td>KAT</td>\n",
       "      <td>N</td>\n",
       "      <td>1</td>\n",
       "      <td>45.0</td>\n",
       "      <td>TOLEDO</td>\n",
       "      <td>0</td>\n",
       "      <td>NA</td>\n",
       "      <td>02 - PARTICULARES</td>\n",
       "    </tr>\n",
       "  </tbody>\n",
       "</table>\n",
       "<p>929615 rows × 23 columns</p>\n",
       "</div>"
      ],
      "text/plain": [
       "        fecha_dato  ncodpers ind_empleado pais_residencia    sexo  age  \\\n",
       "0       2016-06-28     15889            F              ES  Female   56   \n",
       "1       2016-06-28   1170544            N              ES    Male   36   \n",
       "2       2016-06-28   1170545            N              ES  Female   22   \n",
       "3       2016-06-28   1170547            N              ES    Male   22   \n",
       "4       2016-06-28   1170548            N              ES    Male   22   \n",
       "...            ...       ...          ...             ...     ...  ...   \n",
       "929610  2016-06-28    660237            N              ES  Female   55   \n",
       "929611  2016-06-28    660238            N              ES  Female   30   \n",
       "929612  2016-06-28    660240            N              ES  Female   52   \n",
       "929613  2016-06-28    660243            N              ES  Female   32   \n",
       "929614  2016-06-28    660248            N              ES  Female   92   \n",
       "\n",
       "        fecha_alta  ind_nuevo  antiguedad  indrel  ...  indext conyuemp  \\\n",
       "0       1995-01-16          0         256       1  ...       N        N   \n",
       "1       2013-08-28          0          34       1  ...       N      NaN   \n",
       "2       2013-08-28          0          34       1  ...       N      NaN   \n",
       "3       2013-08-28          0          34       1  ...       N      NaN   \n",
       "4       2013-08-28          0          34       1  ...       N      NaN   \n",
       "...            ...        ...         ...     ...  ...     ...      ...   \n",
       "929610  1999-04-21          0         206       1  ...       N      NaN   \n",
       "929611  2006-11-29          0         115       1  ...       N      NaN   \n",
       "929612  2006-11-29          0         115       1  ...       N      NaN   \n",
       "929613  2006-11-29          0         115       1  ...       N      NaN   \n",
       "929614  2006-11-29          0         115       1  ...       N      NaN   \n",
       "\n",
       "       canal_entrada indfall tipodom cod_prov         nomprov  \\\n",
       "0                KAT       N       1     28.0          MADRID   \n",
       "1                KAT       N       1      3.0        ALICANTE   \n",
       "2                KHE       N       1     15.0       CORUÑA, A   \n",
       "3                KHE       N       1      8.0       BARCELONA   \n",
       "4                KHE       N       1      7.0  BALEARS, ILLES   \n",
       "...              ...     ...     ...      ...             ...   \n",
       "929610           KAT       N       1     28.0          MADRID   \n",
       "929611           KFC       N       1     26.0       RIOJA, LA   \n",
       "929612           KBZ       N       1     33.0        ASTURIAS   \n",
       "929613           KFC       N       1     33.0        ASTURIAS   \n",
       "929614           KAT       N       1     45.0          TOLEDO   \n",
       "\n",
       "        ind_actividad_cliente        renta            segmento  \n",
       "0                           1    326124.90            01 - TOP  \n",
       "1                           0           NA   02 - PARTICULARES  \n",
       "2                           1           NA  03 - UNIVERSITARIO  \n",
       "3                           0    148402.98  03 - UNIVERSITARIO  \n",
       "4                           0    106885.80  03 - UNIVERSITARIO  \n",
       "...                       ...          ...                 ...  \n",
       "929610                      1    128643.57            01 - TOP  \n",
       "929611                      0           NA   02 - PARTICULARES  \n",
       "929612                      1     72765.27   02 - PARTICULARES  \n",
       "929613                      0    147488.88   02 - PARTICULARES  \n",
       "929614                      0           NA   02 - PARTICULARES  \n",
       "\n",
       "[929615 rows x 23 columns]"
      ]
     },
     "execution_count": 38,
     "metadata": {},
     "output_type": "execute_result"
    }
   ],
   "source": [
    "# Drop coulmn (ult_fec_cli_1t), becouse the number of missing values  is 927932, I can't handling it\n",
    "\n",
    "test_df.drop(['ult_fec_cli_1t'], axis=1)\n"
   ]
  },
  {
   "cell_type": "markdown",
   "id": "8db1a898",
   "metadata": {},
   "source": [
    "So, I diecide to delete column ult_fec_cli_1t.\n",
    "<hr>"
   ]
  },
  {
   "cell_type": "code",
   "execution_count": 39,
   "id": "5be074df",
   "metadata": {},
   "outputs": [
    {
     "data": {
      "text/plain": [
       "array([ 1.,  3., nan])"
      ]
     },
     "execution_count": 39,
     "metadata": {},
     "output_type": "execute_result"
    }
   ],
   "source": [
    "# The unquie value in coulmn (indrel_1mes)\n",
    "# Description about column: Customer type at the beginning of the month ,1 (First/Primary customer), 2 (co-owner ),P (Potential),3 (former primary), 4(former co-owner)\n",
    "test_df['indrel_1mes'].unique()"
   ]
  },
  {
   "cell_type": "code",
   "execution_count": 40,
   "id": "d940095c",
   "metadata": {},
   "outputs": [
    {
     "data": {
      "text/plain": [
       "23"
      ]
     },
     "execution_count": 40,
     "metadata": {},
     "output_type": "execute_result"
    }
   ],
   "source": [
    "# Check the missing values in column (indrel_1mes)\n",
    "\n",
    "test_df['indrel_1mes'].isnull().sum()"
   ]
  },
  {
   "cell_type": "code",
   "execution_count": 41,
   "id": "d3cbe11e",
   "metadata": {},
   "outputs": [
    {
     "data": {
      "text/plain": [
       "1.0"
      ]
     },
     "execution_count": 41,
     "metadata": {},
     "output_type": "execute_result"
    }
   ],
   "source": [
    "# Calculate mode for indrel_1mes Column\n",
    " \n",
    "indrel_1mes_mode = test_df['indrel_1mes'].mode()[0]\n",
    "indrel_1mes_mode"
   ]
  },
  {
   "cell_type": "code",
   "execution_count": 42,
   "id": "0916c4f1",
   "metadata": {},
   "outputs": [],
   "source": [
    "# Replace NaN values with mode\n",
    "\n",
    "test_df['indrel_1mes'] = test_df['indrel_1mes'].replace(np.NaN, indrel_1mes_mode)"
   ]
  },
  {
   "cell_type": "code",
   "execution_count": 43,
   "id": "823ce580",
   "metadata": {},
   "outputs": [
    {
     "data": {
      "text/plain": [
       "0"
      ]
     },
     "execution_count": 43,
     "metadata": {},
     "output_type": "execute_result"
    }
   ],
   "source": [
    "# how many NaN values in indrel_1mes Column after handling \n",
    "\n",
    "test_df['indrel_1mes'].isnull().sum()"
   ]
  },
  {
   "cell_type": "markdown",
   "id": "de7d5f21",
   "metadata": {},
   "source": [
    "indrel_1mes column has 23 missing values.So, handling  missing values in column by mode\n",
    "<hr>"
   ]
  },
  {
   "cell_type": "code",
   "execution_count": 44,
   "id": "64e0a5f3",
   "metadata": {},
   "outputs": [
    {
     "data": {
      "text/plain": [
       "array(['A', 'I', 'P', nan], dtype=object)"
      ]
     },
     "execution_count": 44,
     "metadata": {},
     "output_type": "execute_result"
    }
   ],
   "source": [
    "# The unquie value in coulmn (tiprel_1mes)\n",
    "# Description about column: Customer relation type at the beginning of the month, A (active), I (inactive), P (former customer),R (Potential)\n",
    "test_df['tiprel_1mes'].unique()"
   ]
  },
  {
   "cell_type": "code",
   "execution_count": 45,
   "id": "61339d76",
   "metadata": {},
   "outputs": [
    {
     "data": {
      "text/plain": [
       "23"
      ]
     },
     "execution_count": 45,
     "metadata": {},
     "output_type": "execute_result"
    }
   ],
   "source": [
    "# Check the missing values in column (tiprel_1mes)\n",
    "\n",
    "test_df['tiprel_1mes'].isnull().sum()"
   ]
  },
  {
   "cell_type": "code",
   "execution_count": 46,
   "id": "ba9d06cc",
   "metadata": {},
   "outputs": [
    {
     "data": {
      "text/plain": [
       "'I'"
      ]
     },
     "execution_count": 46,
     "metadata": {},
     "output_type": "execute_result"
    }
   ],
   "source": [
    "# Calculate mode for tiprel_1mes Column\n",
    " \n",
    "tiprel_1mes_mode = test_df['tiprel_1mes'].mode()[0]\n",
    "tiprel_1mes_mode"
   ]
  },
  {
   "cell_type": "code",
   "execution_count": 47,
   "id": "79f0707c",
   "metadata": {},
   "outputs": [],
   "source": [
    "# Replace NaN values with mode\n",
    "test_df['tiprel_1mes'] = test_df['tiprel_1mes'].replace(np.NaN, tiprel_1mes_mode)"
   ]
  },
  {
   "cell_type": "code",
   "execution_count": 48,
   "id": "16049f84",
   "metadata": {},
   "outputs": [
    {
     "data": {
      "text/plain": [
       "0"
      ]
     },
     "execution_count": 48,
     "metadata": {},
     "output_type": "execute_result"
    }
   ],
   "source": [
    "# how many NaN values in tiprel_1mes Column after handling \n",
    "test_df['tiprel_1mes'].isnull().sum()"
   ]
  },
  {
   "cell_type": "markdown",
   "id": "2b633aea",
   "metadata": {},
   "source": [
    "tiprel_1mes column has 23 missing values.So, handling  missing values in column by mode\n",
    "<hr>"
   ]
  },
  {
   "cell_type": "code",
   "execution_count": 49,
   "id": "2ced2778",
   "metadata": {},
   "outputs": [
    {
     "data": {
      "text/plain": [
       "array(['S', 'N'], dtype=object)"
      ]
     },
     "execution_count": 49,
     "metadata": {},
     "output_type": "execute_result"
    }
   ],
   "source": [
    "# The unquie value in coulmn (indresi)\n",
    "# Description about column: Residence index (S (Yes) or N (No) if the residence country is the same than the bank country)\n",
    "test_df['indresi'].unique()"
   ]
  },
  {
   "cell_type": "code",
   "execution_count": 50,
   "id": "1b1017c5",
   "metadata": {},
   "outputs": [
    {
     "data": {
      "text/plain": [
       "0"
      ]
     },
     "execution_count": 50,
     "metadata": {},
     "output_type": "execute_result"
    }
   ],
   "source": [
    "# Check the missing values in column (indresi)\n",
    "\n",
    "test_df['indresi'].isnull().sum()"
   ]
  },
  {
   "cell_type": "code",
   "execution_count": 51,
   "id": "dd5fd00b",
   "metadata": {},
   "outputs": [],
   "source": [
    "# Repalce  S to Yes and N to No\n",
    "\n",
    "test_df['indresi'] = test_df['indresi'].replace(['S', 'N'], [ 'Yes','No'])\n"
   ]
  },
  {
   "cell_type": "markdown",
   "id": "665d7482",
   "metadata": {},
   "source": [
    "So, no missing values in indresi column.\n",
    "<hr>"
   ]
  },
  {
   "cell_type": "code",
   "execution_count": 52,
   "id": "4e09cccf",
   "metadata": {},
   "outputs": [
    {
     "data": {
      "text/plain": [
       "array(['N', 'S'], dtype=object)"
      ]
     },
     "execution_count": 52,
     "metadata": {},
     "output_type": "execute_result"
    }
   ],
   "source": [
    "# The unquie value in coulmn (indext)\n",
    "# Description about column: Foreigner index (S (Yes) or N (No) if the customer's birth country is different than the bank country)\n",
    "test_df['indext'].unique()"
   ]
  },
  {
   "cell_type": "code",
   "execution_count": 53,
   "id": "62224445",
   "metadata": {},
   "outputs": [
    {
     "data": {
      "text/plain": [
       "0"
      ]
     },
     "execution_count": 53,
     "metadata": {},
     "output_type": "execute_result"
    }
   ],
   "source": [
    "# Check the missing values in column (indext)\n",
    "\n",
    "test_df['indext'].isnull().sum()"
   ]
  },
  {
   "cell_type": "code",
   "execution_count": 54,
   "id": "eefb9812",
   "metadata": {},
   "outputs": [],
   "source": [
    "# Replace 'N' to No and 'S' to Yes \n",
    "\n",
    "test_df['indext'] = test_df['indext'].replace(['N', 'S'], ['No', 'Yes'])\n"
   ]
  },
  {
   "cell_type": "markdown",
   "id": "3cfbae03",
   "metadata": {},
   "source": [
    "So, no missing values in indext column.<br>\n",
    "Replace 'N' to No and 'S' to Yes. \n",
    "<hr>"
   ]
  },
  {
   "cell_type": "code",
   "execution_count": 55,
   "id": "f1b19821",
   "metadata": {},
   "outputs": [
    {
     "data": {
      "text/plain": [
       "array(['N', nan, 'S'], dtype=object)"
      ]
     },
     "execution_count": 55,
     "metadata": {},
     "output_type": "execute_result"
    }
   ],
   "source": [
    "# The unquie value in coulmn (conyuemp)\n",
    "# Description about column: Spouse index. 1 if the customer is spouse of an employee\n",
    "test_df['conyuemp'].unique()"
   ]
  },
  {
   "cell_type": "code",
   "execution_count": 56,
   "id": "cfe29f3f",
   "metadata": {},
   "outputs": [
    {
     "data": {
      "text/plain": [
       "929511"
      ]
     },
     "execution_count": 56,
     "metadata": {},
     "output_type": "execute_result"
    }
   ],
   "source": [
    "# Check the missing values in column (indrel_1mes)\n",
    "\n",
    "test_df['conyuemp'].isnull().sum()"
   ]
  },
  {
   "cell_type": "code",
   "execution_count": 57,
   "id": "79e65e08",
   "metadata": {},
   "outputs": [
    {
     "data": {
      "text/html": [
       "<div>\n",
       "<style scoped>\n",
       "    .dataframe tbody tr th:only-of-type {\n",
       "        vertical-align: middle;\n",
       "    }\n",
       "\n",
       "    .dataframe tbody tr th {\n",
       "        vertical-align: top;\n",
       "    }\n",
       "\n",
       "    .dataframe thead th {\n",
       "        text-align: right;\n",
       "    }\n",
       "</style>\n",
       "<table border=\"1\" class=\"dataframe\">\n",
       "  <thead>\n",
       "    <tr style=\"text-align: right;\">\n",
       "      <th></th>\n",
       "      <th>fecha_dato</th>\n",
       "      <th>ncodpers</th>\n",
       "      <th>ind_empleado</th>\n",
       "      <th>pais_residencia</th>\n",
       "      <th>sexo</th>\n",
       "      <th>age</th>\n",
       "      <th>fecha_alta</th>\n",
       "      <th>ind_nuevo</th>\n",
       "      <th>antiguedad</th>\n",
       "      <th>indrel</th>\n",
       "      <th>...</th>\n",
       "      <th>indresi</th>\n",
       "      <th>indext</th>\n",
       "      <th>canal_entrada</th>\n",
       "      <th>indfall</th>\n",
       "      <th>tipodom</th>\n",
       "      <th>cod_prov</th>\n",
       "      <th>nomprov</th>\n",
       "      <th>ind_actividad_cliente</th>\n",
       "      <th>renta</th>\n",
       "      <th>segmento</th>\n",
       "    </tr>\n",
       "  </thead>\n",
       "  <tbody>\n",
       "    <tr>\n",
       "      <th>0</th>\n",
       "      <td>2016-06-28</td>\n",
       "      <td>15889</td>\n",
       "      <td>F</td>\n",
       "      <td>ES</td>\n",
       "      <td>Female</td>\n",
       "      <td>56</td>\n",
       "      <td>1995-01-16</td>\n",
       "      <td>0</td>\n",
       "      <td>256</td>\n",
       "      <td>1</td>\n",
       "      <td>...</td>\n",
       "      <td>Yes</td>\n",
       "      <td>No</td>\n",
       "      <td>KAT</td>\n",
       "      <td>N</td>\n",
       "      <td>1</td>\n",
       "      <td>28.0</td>\n",
       "      <td>MADRID</td>\n",
       "      <td>1</td>\n",
       "      <td>326124.90</td>\n",
       "      <td>01 - TOP</td>\n",
       "    </tr>\n",
       "    <tr>\n",
       "      <th>1</th>\n",
       "      <td>2016-06-28</td>\n",
       "      <td>1170544</td>\n",
       "      <td>N</td>\n",
       "      <td>ES</td>\n",
       "      <td>Male</td>\n",
       "      <td>36</td>\n",
       "      <td>2013-08-28</td>\n",
       "      <td>0</td>\n",
       "      <td>34</td>\n",
       "      <td>1</td>\n",
       "      <td>...</td>\n",
       "      <td>Yes</td>\n",
       "      <td>No</td>\n",
       "      <td>KAT</td>\n",
       "      <td>N</td>\n",
       "      <td>1</td>\n",
       "      <td>3.0</td>\n",
       "      <td>ALICANTE</td>\n",
       "      <td>0</td>\n",
       "      <td>NA</td>\n",
       "      <td>02 - PARTICULARES</td>\n",
       "    </tr>\n",
       "    <tr>\n",
       "      <th>2</th>\n",
       "      <td>2016-06-28</td>\n",
       "      <td>1170545</td>\n",
       "      <td>N</td>\n",
       "      <td>ES</td>\n",
       "      <td>Female</td>\n",
       "      <td>22</td>\n",
       "      <td>2013-08-28</td>\n",
       "      <td>0</td>\n",
       "      <td>34</td>\n",
       "      <td>1</td>\n",
       "      <td>...</td>\n",
       "      <td>Yes</td>\n",
       "      <td>No</td>\n",
       "      <td>KHE</td>\n",
       "      <td>N</td>\n",
       "      <td>1</td>\n",
       "      <td>15.0</td>\n",
       "      <td>CORUÑA, A</td>\n",
       "      <td>1</td>\n",
       "      <td>NA</td>\n",
       "      <td>03 - UNIVERSITARIO</td>\n",
       "    </tr>\n",
       "    <tr>\n",
       "      <th>3</th>\n",
       "      <td>2016-06-28</td>\n",
       "      <td>1170547</td>\n",
       "      <td>N</td>\n",
       "      <td>ES</td>\n",
       "      <td>Male</td>\n",
       "      <td>22</td>\n",
       "      <td>2013-08-28</td>\n",
       "      <td>0</td>\n",
       "      <td>34</td>\n",
       "      <td>1</td>\n",
       "      <td>...</td>\n",
       "      <td>Yes</td>\n",
       "      <td>No</td>\n",
       "      <td>KHE</td>\n",
       "      <td>N</td>\n",
       "      <td>1</td>\n",
       "      <td>8.0</td>\n",
       "      <td>BARCELONA</td>\n",
       "      <td>0</td>\n",
       "      <td>148402.98</td>\n",
       "      <td>03 - UNIVERSITARIO</td>\n",
       "    </tr>\n",
       "    <tr>\n",
       "      <th>4</th>\n",
       "      <td>2016-06-28</td>\n",
       "      <td>1170548</td>\n",
       "      <td>N</td>\n",
       "      <td>ES</td>\n",
       "      <td>Male</td>\n",
       "      <td>22</td>\n",
       "      <td>2013-08-28</td>\n",
       "      <td>0</td>\n",
       "      <td>34</td>\n",
       "      <td>1</td>\n",
       "      <td>...</td>\n",
       "      <td>Yes</td>\n",
       "      <td>No</td>\n",
       "      <td>KHE</td>\n",
       "      <td>N</td>\n",
       "      <td>1</td>\n",
       "      <td>7.0</td>\n",
       "      <td>BALEARS, ILLES</td>\n",
       "      <td>0</td>\n",
       "      <td>106885.80</td>\n",
       "      <td>03 - UNIVERSITARIO</td>\n",
       "    </tr>\n",
       "    <tr>\n",
       "      <th>...</th>\n",
       "      <td>...</td>\n",
       "      <td>...</td>\n",
       "      <td>...</td>\n",
       "      <td>...</td>\n",
       "      <td>...</td>\n",
       "      <td>...</td>\n",
       "      <td>...</td>\n",
       "      <td>...</td>\n",
       "      <td>...</td>\n",
       "      <td>...</td>\n",
       "      <td>...</td>\n",
       "      <td>...</td>\n",
       "      <td>...</td>\n",
       "      <td>...</td>\n",
       "      <td>...</td>\n",
       "      <td>...</td>\n",
       "      <td>...</td>\n",
       "      <td>...</td>\n",
       "      <td>...</td>\n",
       "      <td>...</td>\n",
       "      <td>...</td>\n",
       "    </tr>\n",
       "    <tr>\n",
       "      <th>929610</th>\n",
       "      <td>2016-06-28</td>\n",
       "      <td>660237</td>\n",
       "      <td>N</td>\n",
       "      <td>ES</td>\n",
       "      <td>Female</td>\n",
       "      <td>55</td>\n",
       "      <td>1999-04-21</td>\n",
       "      <td>0</td>\n",
       "      <td>206</td>\n",
       "      <td>1</td>\n",
       "      <td>...</td>\n",
       "      <td>Yes</td>\n",
       "      <td>No</td>\n",
       "      <td>KAT</td>\n",
       "      <td>N</td>\n",
       "      <td>1</td>\n",
       "      <td>28.0</td>\n",
       "      <td>MADRID</td>\n",
       "      <td>1</td>\n",
       "      <td>128643.57</td>\n",
       "      <td>01 - TOP</td>\n",
       "    </tr>\n",
       "    <tr>\n",
       "      <th>929611</th>\n",
       "      <td>2016-06-28</td>\n",
       "      <td>660238</td>\n",
       "      <td>N</td>\n",
       "      <td>ES</td>\n",
       "      <td>Female</td>\n",
       "      <td>30</td>\n",
       "      <td>2006-11-29</td>\n",
       "      <td>0</td>\n",
       "      <td>115</td>\n",
       "      <td>1</td>\n",
       "      <td>...</td>\n",
       "      <td>Yes</td>\n",
       "      <td>No</td>\n",
       "      <td>KFC</td>\n",
       "      <td>N</td>\n",
       "      <td>1</td>\n",
       "      <td>26.0</td>\n",
       "      <td>RIOJA, LA</td>\n",
       "      <td>0</td>\n",
       "      <td>NA</td>\n",
       "      <td>02 - PARTICULARES</td>\n",
       "    </tr>\n",
       "    <tr>\n",
       "      <th>929612</th>\n",
       "      <td>2016-06-28</td>\n",
       "      <td>660240</td>\n",
       "      <td>N</td>\n",
       "      <td>ES</td>\n",
       "      <td>Female</td>\n",
       "      <td>52</td>\n",
       "      <td>2006-11-29</td>\n",
       "      <td>0</td>\n",
       "      <td>115</td>\n",
       "      <td>1</td>\n",
       "      <td>...</td>\n",
       "      <td>Yes</td>\n",
       "      <td>No</td>\n",
       "      <td>KBZ</td>\n",
       "      <td>N</td>\n",
       "      <td>1</td>\n",
       "      <td>33.0</td>\n",
       "      <td>ASTURIAS</td>\n",
       "      <td>1</td>\n",
       "      <td>72765.27</td>\n",
       "      <td>02 - PARTICULARES</td>\n",
       "    </tr>\n",
       "    <tr>\n",
       "      <th>929613</th>\n",
       "      <td>2016-06-28</td>\n",
       "      <td>660243</td>\n",
       "      <td>N</td>\n",
       "      <td>ES</td>\n",
       "      <td>Female</td>\n",
       "      <td>32</td>\n",
       "      <td>2006-11-29</td>\n",
       "      <td>0</td>\n",
       "      <td>115</td>\n",
       "      <td>1</td>\n",
       "      <td>...</td>\n",
       "      <td>Yes</td>\n",
       "      <td>No</td>\n",
       "      <td>KFC</td>\n",
       "      <td>N</td>\n",
       "      <td>1</td>\n",
       "      <td>33.0</td>\n",
       "      <td>ASTURIAS</td>\n",
       "      <td>0</td>\n",
       "      <td>147488.88</td>\n",
       "      <td>02 - PARTICULARES</td>\n",
       "    </tr>\n",
       "    <tr>\n",
       "      <th>929614</th>\n",
       "      <td>2016-06-28</td>\n",
       "      <td>660248</td>\n",
       "      <td>N</td>\n",
       "      <td>ES</td>\n",
       "      <td>Female</td>\n",
       "      <td>92</td>\n",
       "      <td>2006-11-29</td>\n",
       "      <td>0</td>\n",
       "      <td>115</td>\n",
       "      <td>1</td>\n",
       "      <td>...</td>\n",
       "      <td>Yes</td>\n",
       "      <td>No</td>\n",
       "      <td>KAT</td>\n",
       "      <td>N</td>\n",
       "      <td>1</td>\n",
       "      <td>45.0</td>\n",
       "      <td>TOLEDO</td>\n",
       "      <td>0</td>\n",
       "      <td>NA</td>\n",
       "      <td>02 - PARTICULARES</td>\n",
       "    </tr>\n",
       "  </tbody>\n",
       "</table>\n",
       "<p>929615 rows × 23 columns</p>\n",
       "</div>"
      ],
      "text/plain": [
       "        fecha_dato  ncodpers ind_empleado pais_residencia    sexo  age  \\\n",
       "0       2016-06-28     15889            F              ES  Female   56   \n",
       "1       2016-06-28   1170544            N              ES    Male   36   \n",
       "2       2016-06-28   1170545            N              ES  Female   22   \n",
       "3       2016-06-28   1170547            N              ES    Male   22   \n",
       "4       2016-06-28   1170548            N              ES    Male   22   \n",
       "...            ...       ...          ...             ...     ...  ...   \n",
       "929610  2016-06-28    660237            N              ES  Female   55   \n",
       "929611  2016-06-28    660238            N              ES  Female   30   \n",
       "929612  2016-06-28    660240            N              ES  Female   52   \n",
       "929613  2016-06-28    660243            N              ES  Female   32   \n",
       "929614  2016-06-28    660248            N              ES  Female   92   \n",
       "\n",
       "        fecha_alta  ind_nuevo  antiguedad  indrel  ... indresi  indext  \\\n",
       "0       1995-01-16          0         256       1  ...     Yes      No   \n",
       "1       2013-08-28          0          34       1  ...     Yes      No   \n",
       "2       2013-08-28          0          34       1  ...     Yes      No   \n",
       "3       2013-08-28          0          34       1  ...     Yes      No   \n",
       "4       2013-08-28          0          34       1  ...     Yes      No   \n",
       "...            ...        ...         ...     ...  ...     ...     ...   \n",
       "929610  1999-04-21          0         206       1  ...     Yes      No   \n",
       "929611  2006-11-29          0         115       1  ...     Yes      No   \n",
       "929612  2006-11-29          0         115       1  ...     Yes      No   \n",
       "929613  2006-11-29          0         115       1  ...     Yes      No   \n",
       "929614  2006-11-29          0         115       1  ...     Yes      No   \n",
       "\n",
       "       canal_entrada indfall tipodom cod_prov         nomprov  \\\n",
       "0                KAT       N       1     28.0          MADRID   \n",
       "1                KAT       N       1      3.0        ALICANTE   \n",
       "2                KHE       N       1     15.0       CORUÑA, A   \n",
       "3                KHE       N       1      8.0       BARCELONA   \n",
       "4                KHE       N       1      7.0  BALEARS, ILLES   \n",
       "...              ...     ...     ...      ...             ...   \n",
       "929610           KAT       N       1     28.0          MADRID   \n",
       "929611           KFC       N       1     26.0       RIOJA, LA   \n",
       "929612           KBZ       N       1     33.0        ASTURIAS   \n",
       "929613           KFC       N       1     33.0        ASTURIAS   \n",
       "929614           KAT       N       1     45.0          TOLEDO   \n",
       "\n",
       "        ind_actividad_cliente        renta            segmento  \n",
       "0                           1    326124.90            01 - TOP  \n",
       "1                           0           NA   02 - PARTICULARES  \n",
       "2                           1           NA  03 - UNIVERSITARIO  \n",
       "3                           0    148402.98  03 - UNIVERSITARIO  \n",
       "4                           0    106885.80  03 - UNIVERSITARIO  \n",
       "...                       ...          ...                 ...  \n",
       "929610                      1    128643.57            01 - TOP  \n",
       "929611                      0           NA   02 - PARTICULARES  \n",
       "929612                      1     72765.27   02 - PARTICULARES  \n",
       "929613                      0    147488.88   02 - PARTICULARES  \n",
       "929614                      0           NA   02 - PARTICULARES  \n",
       "\n",
       "[929615 rows x 23 columns]"
      ]
     },
     "execution_count": 57,
     "metadata": {},
     "output_type": "execute_result"
    }
   ],
   "source": [
    "# Drop coulmn (ult_fec_cli_1t), becouse the number of missing values  is 929511, I can't handling it\n",
    "\n",
    "test_df.drop(['conyuemp'], axis=1)\n"
   ]
  },
  {
   "cell_type": "markdown",
   "id": "6d752439",
   "metadata": {},
   "source": [
    "So, I diecide to delete column conyuemp.\n",
    "<hr>"
   ]
  },
  {
   "cell_type": "code",
   "execution_count": 58,
   "id": "4d45cd4f",
   "metadata": {},
   "outputs": [
    {
     "data": {
      "text/plain": [
       "array(['KAT', 'KHE', 'KFC', 'KHN', 'KFA', 'KHM', 'KHL', 'RED', 'KHQ',\n",
       "       'KHO', 'KHK', 'KAZ', 'KEH', 'KBG', 'KHF', 'KHC', 'KHD', nan, 'KAK',\n",
       "       'KAD', 'KDH', 'KGC', 'KFK', 'KGN', 'KHP', 'KHS', '013', 'KFD',\n",
       "       'KEW', 'KEG', 'KAE', 'KAB', 'KAG', 'KCC', 'KAF', 'KAC', 'KAY',\n",
       "       'KES', 'KDU', 'KAA', 'KAP', 'KEN', 'KBZ', 'KEY', '007', 'KBJ',\n",
       "       'KDM', 'KFP', 'KDR', 'KAN', 'KEV', 'KCH', 'KAR', 'KAI', 'KAS',\n",
       "       'KCI', 'KFJ', 'KCF', 'KAQ', 'KAJ', 'KEJ', 'KEL', 'KFT', '025',\n",
       "       'KAH', 'KAW', 'KFS', 'KDT', 'KGV', 'KFG', 'KAL', 'KGY', 'KCM',\n",
       "       'KCB', 'KDQ', 'KFN', 'KGX', 'KBR', 'KEZ', 'KCG', 'KAO', 'KEU',\n",
       "       'KCL', 'KBM', 'KFF', 'KFI', 'KFL', 'KFH', 'KCU', 'KBH', 'KBB',\n",
       "       'KCO', 'KEI', 'KDY', 'KCD', 'KBO', 'KEA', 'KBL', 'KDO', 'KCA',\n",
       "       'KBU', 'KBQ', 'KDV', 'KCK', 'KDC', '004', 'KCE', 'KDE', 'KEC',\n",
       "       'KDX', 'KDA', 'KDS', 'KFU', 'KEB', 'KDG', 'KAM', 'KDF', 'KCN',\n",
       "       'KDZ', 'KCS', 'KCR', 'KDW', 'KEO', 'KFM', 'KEK', 'KED', 'KDN',\n",
       "       'KBF', 'KGW', 'KCQ', 'KEQ', 'KBW', 'KBE', 'KAV', 'KBY', 'KFV',\n",
       "       'KBS', 'KDP', 'KFE', 'KBD', 'KBV', 'KDD', 'KEF', 'KCP', 'KBX',\n",
       "       'KDB', 'KBN', 'KCT', 'KCV', 'KBP', 'KCX', 'KAU', 'KFR', 'KDI',\n",
       "       'KFB', 'KGU', 'KHA', 'K00', 'KEE', 'KHR', 'KCJ', 'KEM', 'KDL'],\n",
       "      dtype=object)"
      ]
     },
     "execution_count": 58,
     "metadata": {},
     "output_type": "execute_result"
    }
   ],
   "source": [
    "# The unquie value in coulmn (canal_entrada)\n",
    "# Description about column: channel used by the customer to join\n",
    "\n",
    "test_df['canal_entrada'].unique()"
   ]
  },
  {
   "cell_type": "code",
   "execution_count": 59,
   "id": "e54d2696",
   "metadata": {},
   "outputs": [
    {
     "data": {
      "text/plain": [
       "2081"
      ]
     },
     "execution_count": 59,
     "metadata": {},
     "output_type": "execute_result"
    }
   ],
   "source": [
    "# Check the missing values in column (canal_entrada)\n",
    "\n",
    "test_df['canal_entrada'].isnull().sum()"
   ]
  },
  {
   "cell_type": "code",
   "execution_count": 60,
   "id": "f7e13f7a",
   "metadata": {},
   "outputs": [
    {
     "data": {
      "text/plain": [
       "'KHE'"
      ]
     },
     "execution_count": 60,
     "metadata": {},
     "output_type": "execute_result"
    }
   ],
   "source": [
    "# Calculate mode for canal_entrada Column \n",
    "canal_entrada_mode = test_df['canal_entrada'].mode()[0]\n",
    "canal_entrada_mode"
   ]
  },
  {
   "cell_type": "code",
   "execution_count": 61,
   "id": "c10dc40e",
   "metadata": {},
   "outputs": [],
   "source": [
    "# Replace NaN values with mode\n",
    "test_df['canal_entrada'] = test_df['canal_entrada'].replace(np.NaN, canal_entrada_mode)"
   ]
  },
  {
   "cell_type": "code",
   "execution_count": 62,
   "id": "17340038",
   "metadata": {},
   "outputs": [
    {
     "data": {
      "text/plain": [
       "0"
      ]
     },
     "execution_count": 62,
     "metadata": {},
     "output_type": "execute_result"
    }
   ],
   "source": [
    "# how many NaN values in Google Column after handling \n",
    "test_df['canal_entrada'].isnull().sum()"
   ]
  },
  {
   "cell_type": "markdown",
   "id": "63560862",
   "metadata": {},
   "source": [
    "canal_entrada column has 2081 missing values.So, handling missing values in column by mode\n",
    "<hr>"
   ]
  },
  {
   "cell_type": "code",
   "execution_count": 63,
   "id": "3d6809bf",
   "metadata": {},
   "outputs": [
    {
     "data": {
      "text/plain": [
       "array(['N', 'S'], dtype=object)"
      ]
     },
     "execution_count": 63,
     "metadata": {},
     "output_type": "execute_result"
    }
   ],
   "source": [
    "# The unquie value in coulmn (indfall)\n",
    "# Description about column: Deceased index. N/S\n",
    "test_df['indfall'].unique()"
   ]
  },
  {
   "cell_type": "code",
   "execution_count": 64,
   "id": "12b95cb9",
   "metadata": {},
   "outputs": [
    {
     "data": {
      "text/plain": [
       "0"
      ]
     },
     "execution_count": 64,
     "metadata": {},
     "output_type": "execute_result"
    }
   ],
   "source": [
    "# Check the missing values in column (indfall)\n",
    "\n",
    "test_df['indfall'].isnull().sum()"
   ]
  },
  {
   "cell_type": "code",
   "execution_count": 65,
   "id": "98517ca8",
   "metadata": {},
   "outputs": [],
   "source": [
    "# Replace 'N' to No and 'S' to Yes \n",
    "\n",
    "test_df['indfall'] = test_df['indfall'].replace(['N', 'S'], ['No', 'Yes'])\n"
   ]
  },
  {
   "cell_type": "markdown",
   "id": "27e8fd32",
   "metadata": {},
   "source": [
    "So, no missing values in indfall column.\n",
    "\n",
    "<hr>"
   ]
  },
  {
   "cell_type": "code",
   "execution_count": 66,
   "id": "b2005128",
   "metadata": {},
   "outputs": [
    {
     "data": {
      "text/plain": [
       "array([1], dtype=int64)"
      ]
     },
     "execution_count": 66,
     "metadata": {},
     "output_type": "execute_result"
    }
   ],
   "source": [
    "# The unquie value in coulmn (tipodom)\n",
    "# Description about column: Addres type. 1, primary address\n",
    "test_df['tipodom'].unique()"
   ]
  },
  {
   "cell_type": "code",
   "execution_count": 67,
   "id": "3f97f92f",
   "metadata": {},
   "outputs": [
    {
     "data": {
      "text/plain": [
       "0"
      ]
     },
     "execution_count": 67,
     "metadata": {},
     "output_type": "execute_result"
    }
   ],
   "source": [
    "# Check the missing values in column (tipodom)\n",
    "\n",
    "test_df['tipodom'].isnull().sum()"
   ]
  },
  {
   "cell_type": "markdown",
   "id": "cb35d3ce",
   "metadata": {},
   "source": [
    "So, no missing values in tipodom column.\n",
    "<hr>"
   ]
  },
  {
   "cell_type": "code",
   "execution_count": 68,
   "id": "49e297df",
   "metadata": {},
   "outputs": [
    {
     "data": {
      "text/plain": [
       "array([28.,  3., 15.,  8.,  7., 35., 45., 14., 30., 16., 29., 23., 11.,\n",
       "       41., 46., 12.,  6., 32., 17., 18., 13., 39., 10., 52., 33., 50.,\n",
       "       22., 44., 27.,  9., 31., 47., 37., 26., 25., 24., 20., 43., 42.,\n",
       "        2., 40., 21., 36.,  4.,  5., 34., 19.,  1., 49., 38., nan, 48.,\n",
       "       51.])"
      ]
     },
     "execution_count": 68,
     "metadata": {},
     "output_type": "execute_result"
    }
   ],
   "source": [
    "# The unquie value in coulmn (cod_prov)\n",
    "# Description about column: Province code (customer's address)\n",
    "test_df['cod_prov'].unique()"
   ]
  },
  {
   "cell_type": "code",
   "execution_count": 69,
   "id": "4f09510b",
   "metadata": {},
   "outputs": [
    {
     "data": {
      "text/plain": [
       "3996"
      ]
     },
     "execution_count": 69,
     "metadata": {},
     "output_type": "execute_result"
    }
   ],
   "source": [
    "# Check the missing values in column (cod_prov)\n",
    "\n",
    "test_df['cod_prov'].isnull().sum()"
   ]
  },
  {
   "cell_type": "code",
   "execution_count": 70,
   "id": "1ba874ba",
   "metadata": {},
   "outputs": [
    {
     "data": {
      "text/plain": [
       "28.0"
      ]
     },
     "execution_count": 70,
     "metadata": {},
     "output_type": "execute_result"
    }
   ],
   "source": [
    "# Calculate mode for cod_prov Column \n",
    "cod_prov_mode = test_df['cod_prov'].mode()[0]\n",
    "cod_prov_mode"
   ]
  },
  {
   "cell_type": "code",
   "execution_count": 71,
   "id": "05b64280",
   "metadata": {},
   "outputs": [],
   "source": [
    "# Replace NaN values with mode\n",
    "test_df['cod_prov'] = test_df['cod_prov'].replace(np.NaN, cod_prov_mode)"
   ]
  },
  {
   "cell_type": "code",
   "execution_count": 72,
   "id": "632db94b",
   "metadata": {},
   "outputs": [
    {
     "data": {
      "text/plain": [
       "0"
      ]
     },
     "execution_count": 72,
     "metadata": {},
     "output_type": "execute_result"
    }
   ],
   "source": [
    "# how many NaN values in cod_prov Column after handling \n",
    "test_df['cod_prov'].isnull().sum()"
   ]
  },
  {
   "cell_type": "markdown",
   "id": "d6a18c4d",
   "metadata": {},
   "source": [
    "cod_prov column has 3996 missing values.So, handling missing values in column by mode\n",
    "<hr>"
   ]
  },
  {
   "cell_type": "code",
   "execution_count": 73,
   "id": "4eeac603",
   "metadata": {},
   "outputs": [
    {
     "data": {
      "text/plain": [
       "array(['MADRID', 'ALICANTE', 'CORUÑA, A', 'BARCELONA', 'BALEARS, ILLES',\n",
       "       'PALMAS, LAS', 'TOLEDO', 'CORDOBA', 'MURCIA', 'CUENCA', 'MALAGA',\n",
       "       'JAEN', 'CADIZ', 'SEVILLA', 'VALENCIA', 'CASTELLON', 'BADAJOZ',\n",
       "       'OURENSE', 'GIRONA', 'GRANADA', 'CIUDAD REAL', 'CANTABRIA',\n",
       "       'CACERES', 'MELILLA', 'ASTURIAS', 'ZARAGOZA', 'HUESCA', 'TERUEL',\n",
       "       'LUGO', 'BURGOS', 'NAVARRA', 'VALLADOLID', 'SALAMANCA',\n",
       "       'RIOJA, LA', 'LERIDA', 'LEON', 'GIPUZKOA', 'TARRAGONA', 'SORIA',\n",
       "       'ALBACETE', 'SEGOVIA', 'HUELVA', 'PONTEVEDRA', 'ALMERIA', 'AVILA',\n",
       "       'PALENCIA', 'GUADALAJARA', 'ALAVA', 'ZAMORA',\n",
       "       'SANTA CRUZ DE TENERIFE', nan, 'BIZKAIA', 'CEUTA'], dtype=object)"
      ]
     },
     "execution_count": 73,
     "metadata": {},
     "output_type": "execute_result"
    }
   ],
   "source": [
    "# The unquie value in coulmn (nomprov)\n",
    "# Description about column: Province name \n",
    "test_df['nomprov'].unique()"
   ]
  },
  {
   "cell_type": "code",
   "execution_count": 74,
   "id": "afaec185",
   "metadata": {},
   "outputs": [
    {
     "data": {
      "text/plain": [
       "3996"
      ]
     },
     "execution_count": 74,
     "metadata": {},
     "output_type": "execute_result"
    }
   ],
   "source": [
    "# Check the missing values in column (nomprov)\n",
    "\n",
    "test_df['nomprov'].isnull().sum()"
   ]
  },
  {
   "cell_type": "code",
   "execution_count": 75,
   "id": "884d47a6",
   "metadata": {},
   "outputs": [
    {
     "data": {
      "text/plain": [
       "'MADRID'"
      ]
     },
     "execution_count": 75,
     "metadata": {},
     "output_type": "execute_result"
    }
   ],
   "source": [
    "# Calculate mode for nomprov Column \n",
    "nomprov_mode = test_df['nomprov'].mode()[0]\n",
    "nomprov_mode"
   ]
  },
  {
   "cell_type": "code",
   "execution_count": 76,
   "id": "ea84a6b3",
   "metadata": {},
   "outputs": [],
   "source": [
    "# Replace NaN values with mode\n",
    "test_df['nomprov'] = test_df['nomprov'].replace(np.NaN, nomprov_mode)"
   ]
  },
  {
   "cell_type": "code",
   "execution_count": 77,
   "id": "d52907b0",
   "metadata": {},
   "outputs": [
    {
     "data": {
      "text/plain": [
       "0"
      ]
     },
     "execution_count": 77,
     "metadata": {},
     "output_type": "execute_result"
    }
   ],
   "source": [
    "# how many NaN values in nomprov Column after handling \n",
    "test_df['nomprov'].isnull().sum()"
   ]
  },
  {
   "cell_type": "markdown",
   "id": "6182f07b",
   "metadata": {},
   "source": [
    "nomprov column has 3996 missing values.So, handling missing values in column by mode\n",
    "<hr>"
   ]
  },
  {
   "cell_type": "code",
   "execution_count": 78,
   "id": "a6399de6",
   "metadata": {},
   "outputs": [
    {
     "data": {
      "text/plain": [
       "array([1, 0], dtype=int64)"
      ]
     },
     "execution_count": 78,
     "metadata": {},
     "output_type": "execute_result"
    }
   ],
   "source": [
    "# The unquie value in coulmn (ind_actividad_cliente)\n",
    "# Description about column: Activity index (1, active customer; 0, inactive customer)\n",
    "test_df['ind_actividad_cliente'].unique()"
   ]
  },
  {
   "cell_type": "code",
   "execution_count": 79,
   "id": "3dea51bc",
   "metadata": {},
   "outputs": [
    {
     "data": {
      "text/plain": [
       "0"
      ]
     },
     "execution_count": 79,
     "metadata": {},
     "output_type": "execute_result"
    }
   ],
   "source": [
    "# Check the missing values in column (ind_actividad_cliente)\n",
    "\n",
    "test_df['ind_actividad_cliente'].isnull().sum()"
   ]
  },
  {
   "cell_type": "markdown",
   "id": "724d56bf",
   "metadata": {},
   "source": [
    "So, no missing values in ind_actividad_cliente column.\n",
    "\n",
    "<hr>"
   ]
  },
  {
   "cell_type": "code",
   "execution_count": 80,
   "id": "c7697248",
   "metadata": {},
   "outputs": [
    {
     "data": {
      "text/plain": [
       "array(['  326124.90', '         NA', '  148402.98', ..., '  139164.12',\n",
       "       '  100647.45', '   72765.27'], dtype=object)"
      ]
     },
     "execution_count": 80,
     "metadata": {},
     "output_type": "execute_result"
    }
   ],
   "source": [
    "# The unquie value in coulmn (renta)\n",
    "# Description about column: Gross income of the household\n",
    "test_df['renta'].unique()"
   ]
  },
  {
   "cell_type": "code",
   "execution_count": 81,
   "id": "442182f6",
   "metadata": {},
   "outputs": [
    {
     "data": {
      "text/plain": [
       "0"
      ]
     },
     "execution_count": 81,
     "metadata": {},
     "output_type": "execute_result"
    }
   ],
   "source": [
    "# Check the missing values in column (renta)\n",
    "\n",
    "test_df['renta'].isnull().sum()"
   ]
  },
  {
   "cell_type": "markdown",
   "id": "f30b0fd3",
   "metadata": {},
   "source": [
    "So, no missing values in renta column.\n",
    "\n",
    "<hr>"
   ]
  },
  {
   "cell_type": "code",
   "execution_count": 82,
   "id": "c45872a5",
   "metadata": {},
   "outputs": [
    {
     "data": {
      "text/plain": [
       "array(['01 - TOP', '02 - PARTICULARES', '03 - UNIVERSITARIO', nan],\n",
       "      dtype=object)"
      ]
     },
     "execution_count": 82,
     "metadata": {},
     "output_type": "execute_result"
    }
   ],
   "source": [
    "# The unquie value in coulmn (segmento)\n",
    "# Description about column: segmentation: 01 - VIP, 02 - Individuals 03 - college graduated\n",
    "test_df['segmento'].unique()"
   ]
  },
  {
   "cell_type": "code",
   "execution_count": 83,
   "id": "02fdc0e4",
   "metadata": {},
   "outputs": [
    {
     "data": {
      "text/plain": [
       "0"
      ]
     },
     "execution_count": 83,
     "metadata": {},
     "output_type": "execute_result"
    }
   ],
   "source": [
    "# Check the missing values in column (indrel_1mes)\n",
    "\n",
    "test_df['indrel_1mes'].isnull().sum()"
   ]
  },
  {
   "cell_type": "markdown",
   "id": "6efc2dd9",
   "metadata": {},
   "source": [
    "So, no missing values in ind_nuevo column.\n",
    "<hr>"
   ]
  },
  {
   "cell_type": "code",
   "execution_count": 84,
   "id": "8549f8f9-89ee-4a18-bdba-a02c126440a2",
   "metadata": {},
   "outputs": [
    {
     "data": {
      "text/plain": [
       "fecha_dato                object\n",
       "ncodpers                   int64\n",
       "ind_empleado              object\n",
       "pais_residencia           object\n",
       "sexo                      object\n",
       "age                        int64\n",
       "fecha_alta                object\n",
       "ind_nuevo                  int64\n",
       "antiguedad                 int64\n",
       "indrel                     int64\n",
       "ult_fec_cli_1t            object\n",
       "indrel_1mes              float64\n",
       "tiprel_1mes               object\n",
       "indresi                   object\n",
       "indext                    object\n",
       "conyuemp                  object\n",
       "canal_entrada             object\n",
       "indfall                   object\n",
       "tipodom                    int64\n",
       "cod_prov                 float64\n",
       "nomprov                   object\n",
       "ind_actividad_cliente      int64\n",
       "renta                     object\n",
       "segmento                  object\n",
       "dtype: object"
      ]
     },
     "execution_count": 84,
     "metadata": {},
     "output_type": "execute_result"
    }
   ],
   "source": [
    "test_df.dtypes"
   ]
  },
  {
   "cell_type": "markdown",
   "id": "240e731c-41bf-4d92-8d12-993845b56682",
   "metadata": {},
   "source": [
    "#### Detect Outliers"
   ]
  },
  {
   "cell_type": "code",
   "execution_count": 85,
   "id": "06692f27-89ad-4881-8b08-49d56963c25d",
   "metadata": {},
   "outputs": [
    {
     "data": {
      "image/png": "[encoded data removed]",
      "text/plain": [
       "<Figure size 1440x1080 with 8 Axes>"
      ]
     },
     "metadata": {
      "needs_background": "light"
     },
     "output_type": "display_data"
    }
   ],
   "source": [
    "# Detect Outliers\n",
    "# I using Box Plot to detect Outliers in the dataset\n",
    "fig,axes = plt.subplots(4,2,figsize=(20, 15), sharey=True)\n",
    "fig.suptitle('Boxplot Distributions of the Variables Before Remove Outliters',fontsize=30)\n",
    "\n",
    "sns.boxplot(ax=axes[0,0], x='ncodpers',color='red', data=test_df)\n",
    "sns.boxplot(ax=axes[0,1], x='age',color='yellow'  , data=test_df) \n",
    "sns.boxplot(ax=axes[1,0], x='ind_nuevo' , color='orange' , data=test_df)\n",
    "sns.boxplot(ax=axes[1,1], x='antiguedad' , color='green' ,   data=test_df)\n",
    "sns.boxplot(ax=axes[2,0], x='indrel_1mes' ,color='pink' ,   data=test_df)\n",
    "sns.boxplot(ax=axes[2,1], x='tipodom' ,color='pink' ,   data=test_df)\n",
    "sns.boxplot(ax=axes[3,0], x='cod_prov' ,color='orange' ,   data=test_df)\n",
    "sns.boxplot(ax=axes[3,1], x='ind_actividad_cliente' ,color='pink' ,   data=test_df);"
   ]
  },
  {
   "cell_type": "code",
   "execution_count": 86,
   "id": "9fb630ae-b347-4f18-8bac-ff361bad1d75",
   "metadata": {},
   "outputs": [],
   "source": [
    "cols = ['age', 'ind_nuevo', 'antiguedad', 'indrel_1mes'] # The columns you want to search for outliers in\n",
    "\n",
    "# Calculate quantiles and IQR\n",
    "Q1 = test_df[cols].quantile(0.25) # Same as np.percentile but maps (0,1) and not (0,100)\n",
    "Q3 = test_df[cols].quantile(0.75)\n",
    "IQR = Q3 - Q1\n",
    "\n",
    "# Return a boolean array of the rows with (any) non-outlier column values\n",
    "condition = ~((test_df[cols] < (Q1 - 1.5 * IQR)) | (test_df[cols] > (Q3 + 1.5 * IQR))).any(axis=1)\n",
    "\n",
    "# Filter our dataframe based on condition\n",
    "test_df = test_df[condition]"
   ]
  },
  {
   "cell_type": "code",
   "execution_count": 87,
   "id": "672ae8a2-813a-4df1-84ed-18be61a379ba",
   "metadata": {},
   "outputs": [
    {
     "data": {
      "text/plain": [
       "(896729, 24)"
      ]
     },
     "execution_count": 87,
     "metadata": {},
     "output_type": "execute_result"
    }
   ],
   "source": [
    "test_df.shape"
   ]
  },
  {
   "cell_type": "code",
   "execution_count": 88,
   "id": "d332b2ad-4420-4d8d-8cbc-54ae233243e9",
   "metadata": {},
   "outputs": [],
   "source": [
    "# All columns solve it from outliers except age column so i will solve it\n",
    "\n",
    "cols = ['age'] # The columns you want to search for outliers in\n",
    "\n",
    "# Calculate quantiles and IQR\n",
    "Q1 = test_df[cols].quantile(0.25) # Same as np.percentile but maps (0,1) and not (0,100)\n",
    "Q3 = test_df[cols].quantile(0.75)\n",
    "IQR = Q3 - Q1\n",
    "\n",
    "# Return a boolean array of the rows with (any) non-outlier column values\n",
    "condition = ~((test_df[cols] < (Q1 - 1.5 * IQR)) | (test_df[cols] > (Q3 + 1.5 * IQR))).any(axis=1)\n",
    "\n",
    "# Filter our dataframe based on condition\n",
    "test_df = test_df[condition]"
   ]
  },
  {
   "cell_type": "code",
   "execution_count": 89,
   "id": "add5e7bd-8a08-4ef2-b0e6-6e46a71ddc99",
   "metadata": {},
   "outputs": [
    {
     "data": {
      "image/png": "[encoded data removed]",
      "text/plain": [
       "<Figure size 1440x1080 with 8 Axes>"
      ]
     },
     "metadata": {
      "needs_background": "light"
     },
     "output_type": "display_data"
    }
   ],
   "source": [
    "# Detect Outliers\n",
    "# I using Box Plot to detect Outliers in the dataset\n",
    "fig,axes = plt.subplots(4,2,figsize=(20, 15), sharey=True)\n",
    "fig.suptitle('Boxplot Distributions of the Variables After Remove Outliters',fontsize=30)\n",
    "\n",
    "sns.boxplot(ax=axes[0,0], x='ncodpers',color='red', data=test_df)\n",
    "sns.boxplot(ax=axes[0,1], x='age',color='yellow'  , data=test_df) \n",
    "sns.boxplot(ax=axes[1,0], x='ind_nuevo' , color='orange' , data=test_df)\n",
    "sns.boxplot(ax=axes[1,1], x='antiguedad' , color='green' ,   data=test_df)\n",
    "sns.boxplot(ax=axes[2,0], x='indrel_1mes' ,color='pink' ,   data=test_df)\n",
    "sns.boxplot(ax=axes[2,1], x='tipodom' ,color='pink' ,   data=test_df)\n",
    "sns.boxplot(ax=axes[3,0], x='cod_prov' ,color='orange' ,   data=test_df)\n",
    "sns.boxplot(ax=axes[3,1], x='ind_actividad_cliente' ,color='pink' ,   data=test_df);"
   ]
  },
  {
   "cell_type": "markdown",
   "id": "04c2d6fd-4101-45f5-a1f5-ddc25565ce45",
   "metadata": {},
   "source": [
    "# Summary \n",
    "Now Dataset clean from \n",
    "1. Null values \n",
    "2. duplicte values \n",
    "3. Outliers\n",
    "So, now can move to next step (EDA)"
   ]
  },
  {
   "cell_type": "markdown",
   "id": "f5cebe5f-352f-4fc6-8c9a-3a96cc082fb7",
   "metadata": {},
   "source": [
    "<hr>"
   ]
  },
  {
   "cell_type": "markdown",
   "id": "db16771e",
   "metadata": {},
   "source": [
    "### Exploratory Data Analysis - EDA"
   ]
  },
  {
   "cell_type": "code",
   "execution_count": 94,
   "id": "7676b73f-f7f5-48fc-9a39-afd4dffffaa7",
   "metadata": {},
   "outputs": [
    {
     "name": "stdout",
     "output_type": "stream",
     "text": [
      "\n",
      " New Feature's datatypes \n",
      "fecha_dato               category\n",
      "ncodpers                    int64\n",
      "ind_empleado             category\n",
      "pais_residencia          category\n",
      "sexo                     category\n",
      "age                         int64\n",
      "fecha_alta               category\n",
      "ind_nuevo                   int64\n",
      "antiguedad                  int64\n",
      "indrel                      int64\n",
      "ult_fec_cli_1t             object\n",
      "indrel_1mes               float64\n",
      "tiprel_1mes              category\n",
      "indresi                  category\n",
      "indext                   category\n",
      "conyuemp                 category\n",
      "canal_entrada            category\n",
      "indfall                  category\n",
      "tipodom                     int64\n",
      "cod_prov                  float64\n",
      "nomprov                  category\n",
      "ind_actividad_cliente       int64\n",
      "renta                    category\n",
      "segmento                 category\n",
      "dtype: object\n"
     ]
    }
   ],
   "source": [
    "# Convert some columns from object to category or from float to int64 datatypes to work with appropriate ones.\n",
    "\n",
    "for column in [ \"fecha_dato\",\"ind_empleado\",\"pais_residencia\" , \"sexo\",\"fecha_alta\",\"tiprel_1mes\",\"indresi\",\n",
    "               \"indext\",\"conyuemp\",\"canal_entrada\",\"indfall\",\"nomprov\",\"renta\",\"segmento\" ] :\n",
    "    \n",
    "        test_df[column] = test_df[column].astype('category')\n",
    "        \n",
    "\n",
    "        \n",
    "print(\"\\n New Feature's datatypes \\n{}\".format(test_df.dtypes))"
   ]
  },
  {
   "cell_type": "code",
   "execution_count": 90,
   "id": "fd341737",
   "metadata": {},
   "outputs": [
    {
     "data": {
      "text/html": [
       "<div>\n",
       "<style scoped>\n",
       "    .dataframe tbody tr th:only-of-type {\n",
       "        vertical-align: middle;\n",
       "    }\n",
       "\n",
       "    .dataframe tbody tr th {\n",
       "        vertical-align: top;\n",
       "    }\n",
       "\n",
       "    .dataframe thead th {\n",
       "        text-align: right;\n",
       "    }\n",
       "</style>\n",
       "<table border=\"1\" class=\"dataframe\">\n",
       "  <thead>\n",
       "    <tr style=\"text-align: right;\">\n",
       "      <th></th>\n",
       "      <th>ncodpers</th>\n",
       "      <th>age</th>\n",
       "      <th>ind_nuevo</th>\n",
       "      <th>antiguedad</th>\n",
       "      <th>indrel</th>\n",
       "      <th>indrel_1mes</th>\n",
       "      <th>tipodom</th>\n",
       "      <th>cod_prov</th>\n",
       "      <th>ind_actividad_cliente</th>\n",
       "    </tr>\n",
       "  </thead>\n",
       "  <tbody>\n",
       "    <tr>\n",
       "      <th>ncodpers</th>\n",
       "      <td>1.000000</td>\n",
       "      <td>-0.669801</td>\n",
       "      <td>NaN</td>\n",
       "      <td>-0.973410</td>\n",
       "      <td>0.020667</td>\n",
       "      <td>NaN</td>\n",
       "      <td>NaN</td>\n",
       "      <td>-0.005295</td>\n",
       "      <td>-0.121970</td>\n",
       "    </tr>\n",
       "    <tr>\n",
       "      <th>age</th>\n",
       "      <td>-0.669801</td>\n",
       "      <td>1.000000</td>\n",
       "      <td>NaN</td>\n",
       "      <td>0.651522</td>\n",
       "      <td>0.001495</td>\n",
       "      <td>NaN</td>\n",
       "      <td>NaN</td>\n",
       "      <td>0.021411</td>\n",
       "      <td>0.165134</td>\n",
       "    </tr>\n",
       "    <tr>\n",
       "      <th>ind_nuevo</th>\n",
       "      <td>NaN</td>\n",
       "      <td>NaN</td>\n",
       "      <td>NaN</td>\n",
       "      <td>NaN</td>\n",
       "      <td>NaN</td>\n",
       "      <td>NaN</td>\n",
       "      <td>NaN</td>\n",
       "      <td>NaN</td>\n",
       "      <td>NaN</td>\n",
       "    </tr>\n",
       "    <tr>\n",
       "      <th>antiguedad</th>\n",
       "      <td>-0.973410</td>\n",
       "      <td>0.651522</td>\n",
       "      <td>NaN</td>\n",
       "      <td>1.000000</td>\n",
       "      <td>-0.022986</td>\n",
       "      <td>NaN</td>\n",
       "      <td>NaN</td>\n",
       "      <td>0.005262</td>\n",
       "      <td>0.111434</td>\n",
       "    </tr>\n",
       "    <tr>\n",
       "      <th>indrel</th>\n",
       "      <td>0.020667</td>\n",
       "      <td>0.001495</td>\n",
       "      <td>NaN</td>\n",
       "      <td>-0.022986</td>\n",
       "      <td>1.000000</td>\n",
       "      <td>NaN</td>\n",
       "      <td>NaN</td>\n",
       "      <td>0.000305</td>\n",
       "      <td>-0.024040</td>\n",
       "    </tr>\n",
       "    <tr>\n",
       "      <th>indrel_1mes</th>\n",
       "      <td>NaN</td>\n",
       "      <td>NaN</td>\n",
       "      <td>NaN</td>\n",
       "      <td>NaN</td>\n",
       "      <td>NaN</td>\n",
       "      <td>NaN</td>\n",
       "      <td>NaN</td>\n",
       "      <td>NaN</td>\n",
       "      <td>NaN</td>\n",
       "    </tr>\n",
       "    <tr>\n",
       "      <th>tipodom</th>\n",
       "      <td>NaN</td>\n",
       "      <td>NaN</td>\n",
       "      <td>NaN</td>\n",
       "      <td>NaN</td>\n",
       "      <td>NaN</td>\n",
       "      <td>NaN</td>\n",
       "      <td>NaN</td>\n",
       "      <td>NaN</td>\n",
       "      <td>NaN</td>\n",
       "    </tr>\n",
       "    <tr>\n",
       "      <th>cod_prov</th>\n",
       "      <td>-0.005295</td>\n",
       "      <td>0.021411</td>\n",
       "      <td>NaN</td>\n",
       "      <td>0.005262</td>\n",
       "      <td>0.000305</td>\n",
       "      <td>NaN</td>\n",
       "      <td>NaN</td>\n",
       "      <td>1.000000</td>\n",
       "      <td>0.012689</td>\n",
       "    </tr>\n",
       "    <tr>\n",
       "      <th>ind_actividad_cliente</th>\n",
       "      <td>-0.121970</td>\n",
       "      <td>0.165134</td>\n",
       "      <td>NaN</td>\n",
       "      <td>0.111434</td>\n",
       "      <td>-0.024040</td>\n",
       "      <td>NaN</td>\n",
       "      <td>NaN</td>\n",
       "      <td>0.012689</td>\n",
       "      <td>1.000000</td>\n",
       "    </tr>\n",
       "  </tbody>\n",
       "</table>\n",
       "</div>"
      ],
      "text/plain": [
       "                       ncodpers       age  ind_nuevo  antiguedad    indrel  \\\n",
       "ncodpers               1.000000 -0.669801        NaN   -0.973410  0.020667   \n",
       "age                   -0.669801  1.000000        NaN    0.651522  0.001495   \n",
       "ind_nuevo                   NaN       NaN        NaN         NaN       NaN   \n",
       "antiguedad            -0.973410  0.651522        NaN    1.000000 -0.022986   \n",
       "indrel                 0.020667  0.001495        NaN   -0.022986  1.000000   \n",
       "indrel_1mes                 NaN       NaN        NaN         NaN       NaN   \n",
       "tipodom                     NaN       NaN        NaN         NaN       NaN   \n",
       "cod_prov              -0.005295  0.021411        NaN    0.005262  0.000305   \n",
       "ind_actividad_cliente -0.121970  0.165134        NaN    0.111434 -0.024040   \n",
       "\n",
       "                       indrel_1mes  tipodom  cod_prov  ind_actividad_cliente  \n",
       "ncodpers                       NaN      NaN -0.005295              -0.121970  \n",
       "age                            NaN      NaN  0.021411               0.165134  \n",
       "ind_nuevo                      NaN      NaN       NaN                    NaN  \n",
       "antiguedad                     NaN      NaN  0.005262               0.111434  \n",
       "indrel                         NaN      NaN  0.000305              -0.024040  \n",
       "indrel_1mes                    NaN      NaN       NaN                    NaN  \n",
       "tipodom                        NaN      NaN       NaN                    NaN  \n",
       "cod_prov                       NaN      NaN  1.000000               0.012689  \n",
       "ind_actividad_cliente          NaN      NaN  0.012689               1.000000  "
      ]
     },
     "execution_count": 90,
     "metadata": {},
     "output_type": "execute_result"
    }
   ],
   "source": [
    "test_df.corr(method='spearman')"
   ]
  },
  {
   "cell_type": "code",
   "execution_count": 91,
   "id": "dd1e7c62-22d4-44cb-b28a-a13dd760b716",
   "metadata": {},
   "outputs": [
    {
     "data": {
      "text/plain": [
       "<AxesSubplot:>"
      ]
     },
     "execution_count": 91,
     "metadata": {},
     "output_type": "execute_result"
    },
    {
     "data": {
      "image/png": "[encoded data removed]",
      "text/plain": [
       "<Figure size 432x288 with 2 Axes>"
      ]
     },
     "metadata": {
      "needs_background": "light"
     },
     "output_type": "display_data"
    }
   ],
   "source": [
    "#Correlation plot\n",
    "\n",
    "sns.heatmap(test_df.corr())"
   ]
  },
  {
   "cell_type": "code",
   "execution_count": 92,
   "id": "0dada13d",
   "metadata": {},
   "outputs": [
    {
     "data": {
      "image/png": "[encoded data removed]",
      "text/plain": [
       "<Figure size 576x360 with 1 Axes>"
      ]
     },
     "metadata": {
      "needs_background": "light"
     },
     "output_type": "display_data"
    }
   ],
   "source": [
    "# ncodpers  & ind_empleado\n",
    "# employees index based on Customer code\n",
    "\n",
    "# Figure size\n",
    "plt.figure(figsize=(8,5))\n",
    "\n",
    "# Figure title\n",
    "plt.title(\" Distribution employees index based on Customer code \", loc=\"center\",fontsize='10')\n",
    "\n",
    "# plot\n",
    "sns.barplot(data= test_df, x=\"ind_empleado\",y=\"ncodpers\",hue=\"ind_empleado\" )\n",
    "plt.xlabel(\"Customer's code\")\n",
    "plt.ylabel('employee index')\n",
    "\n",
    "# Figure show\n",
    "plt.show()\n"
   ]
  },
  {
   "cell_type": "markdown",
   "id": "78783b15-8555-4407-95e5-18738d6e629a",
   "metadata": {},
   "source": [
    "#### summary\n",
    "\n",
    "Based on visualization, the (N) not employee the highest one , (S) in the second , (A) active in the third, (B) ex employed in the fourth, and (F) filial in the last"
   ]
  },
  {
   "cell_type": "code",
   "execution_count": 93,
   "id": "dd932263",
   "metadata": {},
   "outputs": [
    {
     "data": {
      "image/png": "[encoded data removed]",
      "text/plain": [
       "<Figure size 2160x576 with 1 Axes>"
      ]
     },
     "metadata": {
      "needs_background": "light"
     },
     "output_type": "display_data"
    }
   ],
   "source": [
    "# ncodpers & pais_residencia\n",
    "# Customer code and Customer's Country\n",
    "# Figure size\n",
    "plt.figure(figsize=(30,8))\n",
    "\n",
    "# Figure title\n",
    "plt.title(\" Distribution Customer's Country based on Customer code \", loc=\"center\",fontsize='10')\n",
    "\n",
    "# plot\n",
    "sns.lineplot(data= test_df, x=\"pais_residencia\",y=\"ncodpers\" )\n",
    "plt.xlabel(\"Customer's Country\")\n",
    "plt.ylabel(\"Customer's code\")\n",
    "\n",
    "# Figure show\n",
    "plt.show()"
   ]
  },
  {
   "cell_type": "code",
   "execution_count": 97,
   "id": "d67ee329",
   "metadata": {},
   "outputs": [
    {
     "data": {
      "image/png": "[encoded data removed]",
      "text/plain": [
       "<Figure size 720x576 with 1 Axes>"
      ]
     },
     "metadata": {
      "needs_background": "light"
     },
     "output_type": "display_data"
    }
   ],
   "source": [
    "# ncodpers & sexo\n",
    "# Customer code and Customer's Sex\n",
    "# Figure size\n",
    "plt.figure(figsize=(10,8))\n",
    "\n",
    "# Figure title\n",
    "plt.title(\" Distribution Customer's Gender based on Customer code \", loc=\"center\",fontsize='10')\n",
    "\n",
    "# plot\n",
    "sns.barplot(data= test_df, x=\"sexo\",y=\"ncodpers\",hue=\"sexo\" )\n",
    "plt.xlabel(\"Customer's Sex\")\n",
    "plt.ylabel(\"Customer's Code\")\n",
    "\n",
    "# Figure show\n",
    "plt.show()"
   ]
  },
  {
   "cell_type": "markdown",
   "id": "32af4b46-2a6a-42e0-8a2f-9f3e5ff6e770",
   "metadata": {},
   "source": [
    "#### Summary\n",
    "\n",
    "Based on visualization, Male Customers higher than Female Customers based on Customer's code"
   ]
  },
  {
   "cell_type": "code",
   "execution_count": 118,
   "id": "bd4525e3",
   "metadata": {},
   "outputs": [
    {
     "data": {
      "image/png": "[encoded data removed]",
      "text/plain": [
       "<Figure size 720x576 with 1 Axes>"
      ]
     },
     "metadata": {
      "needs_background": "light"
     },
     "output_type": "display_data"
    }
   ],
   "source": [
    "# ncodpers & age\n",
    "# Customer Code and Customer's Age\n",
    "# Figure size\n",
    "plt.figure(figsize=(10,8))\n",
    "\n",
    "# Figure title\n",
    "plt.title(\" Distribution Customer's Age based on Customer code \", loc=\"center\",fontsize='10')\n",
    "\n",
    "# plot\n",
    "sns.scatterplot(data= Alive_dataset, x=\"age\",y=\"ncodpers\" )\n",
    "plt.xlabel(\"Customer's Age\")\n",
    "plt.ylabel(\"Customer's Code\")\n",
    "\n",
    "# Figure show\n",
    "plt.show()"
   ]
  },
  {
   "cell_type": "markdown",
   "id": "3543fce3-7019-4fff-b5d2-1524264bdb75",
   "metadata": {},
   "source": [
    "#### Summary \n",
    "\n",
    "Based on visualization, customers age between 20 - 90"
   ]
  },
  {
   "cell_type": "code",
   "execution_count": 110,
   "id": "40a7ba5e",
   "metadata": {},
   "outputs": [
    {
     "data": {
      "image/png": "[encoded data removed]",
      "text/plain": [
       "<Figure size 720x576 with 1 Axes>"
      ]
     },
     "metadata": {
      "needs_background": "light"
     },
     "output_type": "display_data"
    }
   ],
   "source": [
    "# ncodpers & ind_nuero \n",
    "# code Customer & register in last six months \n",
    "\n",
    "plt.figure(figsize=(10,8))\n",
    "\n",
    "# Figure title\n",
    "plt.title(\" Distribution  the customer registered in the last 6 months \", loc=\"center\",fontsize='10')\n",
    "\n",
    "# plot\n",
    "sns.scatterplot(data= test_df, x=\"ncodpers\" , y=\"ind_nuevo\" )\n",
    "plt.xlabel(\"Customer's Code\")\n",
    "plt.ylabel(\"Customer's Register\")\n",
    "\n",
    "# Figure show\n",
    "plt.show()"
   ]
  },
  {
   "cell_type": "markdown",
   "id": "81d16611-735e-4341-8fe0-4c515f7cd275",
   "metadata": {},
   "source": [
    "#### Summary \n",
    "\n",
    "Based on visualization, No one from customers register in last 6 months"
   ]
  },
  {
   "cell_type": "code",
   "execution_count": 129,
   "id": "ce9f0082-4771-48e9-8248-501daf37ea09",
   "metadata": {},
   "outputs": [
    {
     "data": {
      "image/png": "[encoded data removed]",
      "text/plain": [
       "<Figure size 432x288 with 1 Axes>"
      ]
     },
     "metadata": {
      "needs_background": "light"
     },
     "output_type": "display_data"
    }
   ],
   "source": [
    "# tiprel_1mes\n",
    "# Customer relation type at the beginning of the month, A (active), I (inactive)\n",
    "\n",
    "# Figure title\n",
    "plt.title(\" Distribution  Customer relation type at the beginning of the month \", loc=\"center\",fontsize='10')\n",
    "\n",
    "sns.countplot(x ='tiprel_1mes', data = test_df);\n"
   ]
  },
  {
   "cell_type": "markdown",
   "id": "a16cc63d-6978-4acb-9a24-4fc22693d19c",
   "metadata": {},
   "source": [
    "#### Summary \n",
    "\n",
    "Based on visualization, I (inactive)  Customer relation type at the beginning of the month was higher than A (active)"
   ]
  },
  {
   "cell_type": "code",
   "execution_count": 96,
   "id": "0a87116e",
   "metadata": {},
   "outputs": [
    {
     "data": {
      "text/html": [
       "<div>\n",
       "<style scoped>\n",
       "    .dataframe tbody tr th:only-of-type {\n",
       "        vertical-align: middle;\n",
       "    }\n",
       "\n",
       "    .dataframe tbody tr th {\n",
       "        vertical-align: top;\n",
       "    }\n",
       "\n",
       "    .dataframe thead th {\n",
       "        text-align: right;\n",
       "    }\n",
       "</style>\n",
       "<table border=\"1\" class=\"dataframe\">\n",
       "  <thead>\n",
       "    <tr style=\"text-align: right;\">\n",
       "      <th></th>\n",
       "      <th>fecha_dato</th>\n",
       "      <th>ncodpers</th>\n",
       "      <th>ind_empleado</th>\n",
       "      <th>pais_residencia</th>\n",
       "      <th>sexo</th>\n",
       "      <th>age</th>\n",
       "      <th>fecha_alta</th>\n",
       "      <th>ind_nuevo</th>\n",
       "      <th>antiguedad</th>\n",
       "      <th>indrel</th>\n",
       "      <th>...</th>\n",
       "      <th>indext</th>\n",
       "      <th>conyuemp</th>\n",
       "      <th>canal_entrada</th>\n",
       "      <th>indfall</th>\n",
       "      <th>tipodom</th>\n",
       "      <th>cod_prov</th>\n",
       "      <th>nomprov</th>\n",
       "      <th>ind_actividad_cliente</th>\n",
       "      <th>renta</th>\n",
       "      <th>segmento</th>\n",
       "    </tr>\n",
       "  </thead>\n",
       "  <tbody>\n",
       "    <tr>\n",
       "      <th>0</th>\n",
       "      <td>2016-06-28</td>\n",
       "      <td>15889</td>\n",
       "      <td>F</td>\n",
       "      <td>ES</td>\n",
       "      <td>Female</td>\n",
       "      <td>56</td>\n",
       "      <td>1995-01-16</td>\n",
       "      <td>0</td>\n",
       "      <td>256</td>\n",
       "      <td>1</td>\n",
       "      <td>...</td>\n",
       "      <td>No</td>\n",
       "      <td>N</td>\n",
       "      <td>KAT</td>\n",
       "      <td>No</td>\n",
       "      <td>1</td>\n",
       "      <td>28.0</td>\n",
       "      <td>MADRID</td>\n",
       "      <td>1</td>\n",
       "      <td>326124.90</td>\n",
       "      <td>01 - TOP</td>\n",
       "    </tr>\n",
       "    <tr>\n",
       "      <th>1</th>\n",
       "      <td>2016-06-28</td>\n",
       "      <td>1170544</td>\n",
       "      <td>N</td>\n",
       "      <td>ES</td>\n",
       "      <td>Male</td>\n",
       "      <td>36</td>\n",
       "      <td>2013-08-28</td>\n",
       "      <td>0</td>\n",
       "      <td>34</td>\n",
       "      <td>1</td>\n",
       "      <td>...</td>\n",
       "      <td>No</td>\n",
       "      <td>NaN</td>\n",
       "      <td>KAT</td>\n",
       "      <td>No</td>\n",
       "      <td>1</td>\n",
       "      <td>3.0</td>\n",
       "      <td>ALICANTE</td>\n",
       "      <td>0</td>\n",
       "      <td>NA</td>\n",
       "      <td>02 - PARTICULARES</td>\n",
       "    </tr>\n",
       "    <tr>\n",
       "      <th>2</th>\n",
       "      <td>2016-06-28</td>\n",
       "      <td>1170545</td>\n",
       "      <td>N</td>\n",
       "      <td>ES</td>\n",
       "      <td>Female</td>\n",
       "      <td>22</td>\n",
       "      <td>2013-08-28</td>\n",
       "      <td>0</td>\n",
       "      <td>34</td>\n",
       "      <td>1</td>\n",
       "      <td>...</td>\n",
       "      <td>No</td>\n",
       "      <td>NaN</td>\n",
       "      <td>KHE</td>\n",
       "      <td>No</td>\n",
       "      <td>1</td>\n",
       "      <td>15.0</td>\n",
       "      <td>CORUÑA, A</td>\n",
       "      <td>1</td>\n",
       "      <td>NA</td>\n",
       "      <td>03 - UNIVERSITARIO</td>\n",
       "    </tr>\n",
       "    <tr>\n",
       "      <th>3</th>\n",
       "      <td>2016-06-28</td>\n",
       "      <td>1170547</td>\n",
       "      <td>N</td>\n",
       "      <td>ES</td>\n",
       "      <td>Male</td>\n",
       "      <td>22</td>\n",
       "      <td>2013-08-28</td>\n",
       "      <td>0</td>\n",
       "      <td>34</td>\n",
       "      <td>1</td>\n",
       "      <td>...</td>\n",
       "      <td>No</td>\n",
       "      <td>NaN</td>\n",
       "      <td>KHE</td>\n",
       "      <td>No</td>\n",
       "      <td>1</td>\n",
       "      <td>8.0</td>\n",
       "      <td>BARCELONA</td>\n",
       "      <td>0</td>\n",
       "      <td>148402.98</td>\n",
       "      <td>03 - UNIVERSITARIO</td>\n",
       "    </tr>\n",
       "    <tr>\n",
       "      <th>4</th>\n",
       "      <td>2016-06-28</td>\n",
       "      <td>1170548</td>\n",
       "      <td>N</td>\n",
       "      <td>ES</td>\n",
       "      <td>Male</td>\n",
       "      <td>22</td>\n",
       "      <td>2013-08-28</td>\n",
       "      <td>0</td>\n",
       "      <td>34</td>\n",
       "      <td>1</td>\n",
       "      <td>...</td>\n",
       "      <td>No</td>\n",
       "      <td>NaN</td>\n",
       "      <td>KHE</td>\n",
       "      <td>No</td>\n",
       "      <td>1</td>\n",
       "      <td>7.0</td>\n",
       "      <td>BALEARS, ILLES</td>\n",
       "      <td>0</td>\n",
       "      <td>106885.80</td>\n",
       "      <td>03 - UNIVERSITARIO</td>\n",
       "    </tr>\n",
       "    <tr>\n",
       "      <th>...</th>\n",
       "      <td>...</td>\n",
       "      <td>...</td>\n",
       "      <td>...</td>\n",
       "      <td>...</td>\n",
       "      <td>...</td>\n",
       "      <td>...</td>\n",
       "      <td>...</td>\n",
       "      <td>...</td>\n",
       "      <td>...</td>\n",
       "      <td>...</td>\n",
       "      <td>...</td>\n",
       "      <td>...</td>\n",
       "      <td>...</td>\n",
       "      <td>...</td>\n",
       "      <td>...</td>\n",
       "      <td>...</td>\n",
       "      <td>...</td>\n",
       "      <td>...</td>\n",
       "      <td>...</td>\n",
       "      <td>...</td>\n",
       "      <td>...</td>\n",
       "    </tr>\n",
       "    <tr>\n",
       "      <th>929609</th>\n",
       "      <td>2016-06-28</td>\n",
       "      <td>660235</td>\n",
       "      <td>N</td>\n",
       "      <td>ES</td>\n",
       "      <td>Male</td>\n",
       "      <td>36</td>\n",
       "      <td>2007-01-04</td>\n",
       "      <td>0</td>\n",
       "      <td>113</td>\n",
       "      <td>1</td>\n",
       "      <td>...</td>\n",
       "      <td>No</td>\n",
       "      <td>NaN</td>\n",
       "      <td>KAT</td>\n",
       "      <td>No</td>\n",
       "      <td>1</td>\n",
       "      <td>8.0</td>\n",
       "      <td>BARCELONA</td>\n",
       "      <td>0</td>\n",
       "      <td>100647.45</td>\n",
       "      <td>02 - PARTICULARES</td>\n",
       "    </tr>\n",
       "    <tr>\n",
       "      <th>929610</th>\n",
       "      <td>2016-06-28</td>\n",
       "      <td>660237</td>\n",
       "      <td>N</td>\n",
       "      <td>ES</td>\n",
       "      <td>Female</td>\n",
       "      <td>55</td>\n",
       "      <td>1999-04-21</td>\n",
       "      <td>0</td>\n",
       "      <td>206</td>\n",
       "      <td>1</td>\n",
       "      <td>...</td>\n",
       "      <td>No</td>\n",
       "      <td>NaN</td>\n",
       "      <td>KAT</td>\n",
       "      <td>No</td>\n",
       "      <td>1</td>\n",
       "      <td>28.0</td>\n",
       "      <td>MADRID</td>\n",
       "      <td>1</td>\n",
       "      <td>128643.57</td>\n",
       "      <td>01 - TOP</td>\n",
       "    </tr>\n",
       "    <tr>\n",
       "      <th>929611</th>\n",
       "      <td>2016-06-28</td>\n",
       "      <td>660238</td>\n",
       "      <td>N</td>\n",
       "      <td>ES</td>\n",
       "      <td>Female</td>\n",
       "      <td>30</td>\n",
       "      <td>2006-11-29</td>\n",
       "      <td>0</td>\n",
       "      <td>115</td>\n",
       "      <td>1</td>\n",
       "      <td>...</td>\n",
       "      <td>No</td>\n",
       "      <td>NaN</td>\n",
       "      <td>KFC</td>\n",
       "      <td>No</td>\n",
       "      <td>1</td>\n",
       "      <td>26.0</td>\n",
       "      <td>RIOJA, LA</td>\n",
       "      <td>0</td>\n",
       "      <td>NA</td>\n",
       "      <td>02 - PARTICULARES</td>\n",
       "    </tr>\n",
       "    <tr>\n",
       "      <th>929612</th>\n",
       "      <td>2016-06-28</td>\n",
       "      <td>660240</td>\n",
       "      <td>N</td>\n",
       "      <td>ES</td>\n",
       "      <td>Female</td>\n",
       "      <td>52</td>\n",
       "      <td>2006-11-29</td>\n",
       "      <td>0</td>\n",
       "      <td>115</td>\n",
       "      <td>1</td>\n",
       "      <td>...</td>\n",
       "      <td>No</td>\n",
       "      <td>NaN</td>\n",
       "      <td>KBZ</td>\n",
       "      <td>No</td>\n",
       "      <td>1</td>\n",
       "      <td>33.0</td>\n",
       "      <td>ASTURIAS</td>\n",
       "      <td>1</td>\n",
       "      <td>72765.27</td>\n",
       "      <td>02 - PARTICULARES</td>\n",
       "    </tr>\n",
       "    <tr>\n",
       "      <th>929613</th>\n",
       "      <td>2016-06-28</td>\n",
       "      <td>660243</td>\n",
       "      <td>N</td>\n",
       "      <td>ES</td>\n",
       "      <td>Female</td>\n",
       "      <td>32</td>\n",
       "      <td>2006-11-29</td>\n",
       "      <td>0</td>\n",
       "      <td>115</td>\n",
       "      <td>1</td>\n",
       "      <td>...</td>\n",
       "      <td>No</td>\n",
       "      <td>NaN</td>\n",
       "      <td>KFC</td>\n",
       "      <td>No</td>\n",
       "      <td>1</td>\n",
       "      <td>33.0</td>\n",
       "      <td>ASTURIAS</td>\n",
       "      <td>0</td>\n",
       "      <td>147488.88</td>\n",
       "      <td>02 - PARTICULARES</td>\n",
       "    </tr>\n",
       "  </tbody>\n",
       "</table>\n",
       "<p>891161 rows × 24 columns</p>\n",
       "</div>"
      ],
      "text/plain": [
       "        fecha_dato  ncodpers ind_empleado pais_residencia    sexo  age  \\\n",
       "0       2016-06-28     15889            F              ES  Female   56   \n",
       "1       2016-06-28   1170544            N              ES    Male   36   \n",
       "2       2016-06-28   1170545            N              ES  Female   22   \n",
       "3       2016-06-28   1170547            N              ES    Male   22   \n",
       "4       2016-06-28   1170548            N              ES    Male   22   \n",
       "...            ...       ...          ...             ...     ...  ...   \n",
       "929609  2016-06-28    660235            N              ES    Male   36   \n",
       "929610  2016-06-28    660237            N              ES  Female   55   \n",
       "929611  2016-06-28    660238            N              ES  Female   30   \n",
       "929612  2016-06-28    660240            N              ES  Female   52   \n",
       "929613  2016-06-28    660243            N              ES  Female   32   \n",
       "\n",
       "        fecha_alta  ind_nuevo  antiguedad  indrel  ... indext  conyuemp  \\\n",
       "0       1995-01-16          0         256       1  ...     No         N   \n",
       "1       2013-08-28          0          34       1  ...     No       NaN   \n",
       "2       2013-08-28          0          34       1  ...     No       NaN   \n",
       "3       2013-08-28          0          34       1  ...     No       NaN   \n",
       "4       2013-08-28          0          34       1  ...     No       NaN   \n",
       "...            ...        ...         ...     ...  ...    ...       ...   \n",
       "929609  2007-01-04          0         113       1  ...     No       NaN   \n",
       "929610  1999-04-21          0         206       1  ...     No       NaN   \n",
       "929611  2006-11-29          0         115       1  ...     No       NaN   \n",
       "929612  2006-11-29          0         115       1  ...     No       NaN   \n",
       "929613  2006-11-29          0         115       1  ...     No       NaN   \n",
       "\n",
       "       canal_entrada indfall tipodom cod_prov         nomprov  \\\n",
       "0                KAT      No       1     28.0          MADRID   \n",
       "1                KAT      No       1      3.0        ALICANTE   \n",
       "2                KHE      No       1     15.0       CORUÑA, A   \n",
       "3                KHE      No       1      8.0       BARCELONA   \n",
       "4                KHE      No       1      7.0  BALEARS, ILLES   \n",
       "...              ...     ...     ...      ...             ...   \n",
       "929609           KAT      No       1      8.0       BARCELONA   \n",
       "929610           KAT      No       1     28.0          MADRID   \n",
       "929611           KFC      No       1     26.0       RIOJA, LA   \n",
       "929612           KBZ      No       1     33.0        ASTURIAS   \n",
       "929613           KFC      No       1     33.0        ASTURIAS   \n",
       "\n",
       "       ind_actividad_cliente        renta            segmento  \n",
       "0                          1    326124.90            01 - TOP  \n",
       "1                          0           NA   02 - PARTICULARES  \n",
       "2                          1           NA  03 - UNIVERSITARIO  \n",
       "3                          0    148402.98  03 - UNIVERSITARIO  \n",
       "4                          0    106885.80  03 - UNIVERSITARIO  \n",
       "...                      ...          ...                 ...  \n",
       "929609                     0    100647.45   02 - PARTICULARES  \n",
       "929610                     1    128643.57            01 - TOP  \n",
       "929611                     0           NA   02 - PARTICULARES  \n",
       "929612                     1     72765.27   02 - PARTICULARES  \n",
       "929613                     0    147488.88   02 - PARTICULARES  \n",
       "\n",
       "[891161 rows x 24 columns]"
      ]
     },
     "execution_count": 96,
     "metadata": {},
     "output_type": "execute_result"
    }
   ],
   "source": [
    "#ncodpers & indfall\n",
    "Alive_dataset = test_df [test_df['indfall'] == 'No'] \n",
    "Alive_dataset"
   ]
  },
  {
   "cell_type": "code",
   "execution_count": 99,
   "id": "702ebc9e-b324-4aa7-9f56-4e54d63d04bc",
   "metadata": {},
   "outputs": [
    {
     "data": {
      "image/png": "[encoded data removed]",
      "text/plain": [
       "<Figure size 720x576 with 1 Axes>"
      ]
     },
     "metadata": {
      "needs_background": "light"
     },
     "output_type": "display_data"
    }
   ],
   "source": [
    "#ncodpers & indfall\n",
    "\n",
    "# Figure size\n",
    "plt.figure(figsize=(10,8))\n",
    "\n",
    "# Figure title\n",
    "plt.title(\" Distribution Customer's Deceased or not based on Customer code \", loc=\"center\",fontsize='10')\n",
    "\n",
    "# plot\n",
    "sns.barplot(data= test_df, x=\"indfall\",y=\"ncodpers\",hue=\"indfall\" )\n",
    "plt.xlabel(\"Customer's Deceased \")\n",
    "plt.ylabel(\"Customer's Code\")\n",
    "\n",
    "# Figure show\n",
    "plt.show()"
   ]
  },
  {
   "cell_type": "markdown",
   "id": "7abf5ed3-404d-4e7e-804c-c00548d1f50e",
   "metadata": {},
   "source": [
    "#### Summary \n",
    "\n",
    "Based on visualization, Count of Customer's alive higher than Customer's died"
   ]
  },
  {
   "cell_type": "code",
   "execution_count": 100,
   "id": "12f23051",
   "metadata": {},
   "outputs": [
    {
     "data": {
      "image/png": "[encoded data removed]",
      "text/plain": [
       "<Figure size 720x576 with 1 Axes>"
      ]
     },
     "metadata": {
      "needs_background": "light"
     },
     "output_type": "display_data"
    }
   ],
   "source": [
    "#  ncodpers & segmento\n",
    "# Figure size\n",
    "plt.figure(figsize=(10,8))\n",
    "\n",
    "# Figure title\n",
    "plt.title(\" Distribution Customer's segment based on Customer code \", loc=\"center\",fontsize='10')\n",
    "\n",
    "# plot\n",
    "sns.barplot(data= test_df, x=\"segmento\",y=\"ncodpers\",hue=\"segmento\" )\n",
    "plt.xlabel(\"Customer's segment \")\n",
    "plt.ylabel(\"Customer's Code\")\n",
    "\n",
    "# Figure show\n",
    "plt.show()"
   ]
  },
  {
   "cell_type": "markdown",
   "id": "44c4df94-aa73-402d-b677-120868842824",
   "metadata": {},
   "source": [
    "#### Summary \n",
    "\n",
    "Based on visualization, the customer's segment is divided into 3 types\n",
    "- first, Universitario \n",
    "- Second, Particulares \n",
    "- Third, Top"
   ]
  },
  {
   "cell_type": "code",
   "execution_count": 106,
   "id": "2a45d373",
   "metadata": {},
   "outputs": [
    {
     "data": {
      "image/png": "[encoded data removed]",
      "text/plain": [
       "<Figure size 720x576 with 1 Axes>"
      ]
     },
     "metadata": {
      "needs_background": "light"
     },
     "output_type": "display_data"
    }
   ],
   "source": [
    "# ncodpers & ind_actividad_clinte\n",
    "# Figure size\n",
    "plt.figure(figsize=(10,8))\n",
    "\n",
    "# Figure title\n",
    "plt.title(\" Distribution Customer's active based on Customer code \", loc=\"center\",fontsize='10')\n",
    "\n",
    "# plot\n",
    "sns.barplot(data= test_df, x=\"ind_actividad_cliente\",y=\"ncodpers\",hue=\"ind_actividad_cliente\" )\n",
    "plt.xlabel(\"Customer's active \")\n",
    "plt.ylabel(\"Customer's Code\")\n",
    "\n",
    "# Figure show\n",
    "plt.show()"
   ]
  },
  {
   "cell_type": "markdown",
   "id": "6cec0af7-9a15-48ea-b5ec-8f25bb6c05bd",
   "metadata": {
    "tags": []
   },
   "source": [
    "#### Summary \n",
    "\n",
    "Based on visualization, the Inactive customer's higher than Active"
   ]
  },
  {
   "cell_type": "code",
   "execution_count": 123,
   "id": "575e87c6",
   "metadata": {},
   "outputs": [
    {
     "data": {
      "image/png": "[encoded data removed]",
      "text/plain": [
       "<Figure size 720x1080 with 1 Axes>"
      ]
     },
     "metadata": {
      "needs_background": "light"
     },
     "output_type": "display_data"
    }
   ],
   "source": [
    "# ncodpers & nomprov\n",
    "# Figure size\n",
    "plt.figure(figsize=(10,15))\n",
    "\n",
    "# Figure title\n",
    "plt.title(\" Distribution Province name based on Customer code \", loc=\"center\",fontsize='10')\n",
    "\n",
    "# plot\n",
    "sns.barplot(data= test_df, x=\"ncodpers\",y=\"nomprov\" )\n",
    "plt.xlabel(\"Customer's Code \")\n",
    "plt.ylabel(\"Province name\")\n",
    "\n",
    "# Figure show\n",
    "plt.show()"
   ]
  },
  {
   "cell_type": "markdown",
   "id": "7fce5330-d3ed-46c1-aa8b-19a36fc5e5c8",
   "metadata": {},
   "source": [
    "#### Summary \n",
    "\n",
    "Based on visualization, Show Province name for Customer's Bank"
   ]
  },
  {
   "cell_type": "code",
   "execution_count": 128,
   "id": "7a207ff7-1d25-4c23-bff6-698bd409dd34",
   "metadata": {},
   "outputs": [
    {
     "data": {
      "image/png": "[encoded data removed]",
      "text/plain": [
       "<Figure size 720x576 with 1 Axes>"
      ]
     },
     "metadata": {
      "needs_background": "light"
     },
     "output_type": "display_data"
    }
   ],
   "source": [
    "# ind_actividad_cliente & ind_empleado\n",
    "\n",
    "# Figure size\n",
    "plt.figure(figsize=(10,8))\n",
    "\n",
    "# Figure title\n",
    "plt.title(\" Distribution Customer's Active based on Employee index \", loc=\"center\",fontsize='10')\n",
    "\n",
    "# plot\n",
    "sns.barplot(data= test_df, y=\"ind_actividad_cliente\",x=\"ind_empleado\" )\n",
    "plt.xlabel(\" Customer's Active \")\n",
    "plt.ylabel(\" Employee index \")\n",
    "\n",
    "# Figure show\n",
    "plt.show()"
   ]
  },
  {
   "cell_type": "markdown",
   "id": "66d51655-a824-45f6-a94c-fe475a7a385e",
   "metadata": {},
   "source": [
    "#### Summary \n",
    "\n",
    "Based on visualization, Customer's Active divided into 5 types\n",
    "1. S the highest\n",
    "2. A (active) the Second \n",
    "3. F (filial) the third \n",
    "4. B (ex-employed) the fourth\n",
    "5. N (not employee) the last"
   ]
  },
  {
   "cell_type": "code",
   "execution_count": null,
   "id": "e4434e6b-8bdd-4003-8a26-6c407d5f8d46",
   "metadata": {},
   "outputs": [],
   "source": [
    "test_df.to_csv('Bank.csv')"
   ]
  },
  {
   "cell_type": "markdown",
   "id": "066460fc-c137-434c-bab1-75a55b6b73ef",
   "metadata": {},
   "source": [
    "# The End "
   ]
  }
 ],
 "metadata": {
  "kernelspec": {
   "display_name": "Python 3 (ipykernel)",
   "language": "python",
   "name": "python3"
  },
  "language_info": {
   "codemirror_mode": {
    "name": "ipython",
    "version": 3
   },
   "file_extension": ".py",
   "mimetype": "text/x-python",
   "name": "python",
   "nbconvert_exporter": "python",
   "pygments_lexer": "ipython3",
   "version": "3.8.8"
  },
  "vscode": {
   "interpreter": {
    "hash": "45a6b76dfd373065b487822c642b48298e2b4a05d67eac58f74d4dc6f3d6fc3a"
   }
  }
 },
 "nbformat": 4,
 "nbformat_minor": 5
}
