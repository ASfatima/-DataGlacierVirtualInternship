{
 "cells": [
  {
   "cell_type": "markdown",
   "metadata": {},
   "source": [
    "<center> <h1> Week 9 - Deliverables </h1> </center>"
   ]
  },
  {
   "cell_type": "markdown",
   "metadata": {},
   "source": [
    "<center><h1> Data Science:: Bank Marketing (Campaign)<br> <br>\n",
    "Group Project <br><br>\n",
    " Data Cleansing and Transformation<br> </h1></center>\n",
    "<hr>"
   ]
  },
  {
   "cell_type": "markdown",
   "metadata": {},
   "source": [
    "## Team member's details:\n",
    "- Group Name: Data Girl\n",
    "- Name: Fatimah Asiri\n",
    "- Email: alassirifatima@gmail.com\n",
    "- Country: Saudi Arabia\n",
    "- College/Company: Freelancer\n",
    "- Specialization:  Data Science\n",
    "<hr>"
   ]
  },
  {
   "cell_type": "markdown",
   "metadata": {},
   "source": [
    "## Problem description:\n",
    "- ABC Bank wants to sell its term deposit product to customers and before launching the product they want to develop a model which helps in understanding whether a particular customer will buy its product or not (based on the customer's past interaction with the bank or other Financial institutions).\n"
   ]
  },
  {
   "cell_type": "markdown",
   "metadata": {},
   "source": [
    "## Task:\n",
    "\n",
    "1. Business Understanding\n",
    "2. Data understanding\n",
    "3. Exploratory data Analysis\n",
    "4. Data Preparation\n",
    "5. Model Building ( Logistic Regression, ensemble, Boosting etc)\n",
    "6. Model Selection\n",
    "7. Performance reporting\n",
    "8. Deploy the model\n",
    "9. Converting ML metrics into Business metric and explaining result to business"
   ]
  },
  {
   "cell_type": "markdown",
   "metadata": {},
   "source": [
    "<hr>"
   ]
  },
  {
   "cell_type": "markdown",
   "metadata": {},
   "source": [
    "### 1. Business understanding\n",
    "- Bank wants to use the ML model to shortlist customer whose chances of buying the product is more so that their marketing channels marketing SMS/email marketing, etc. can focus only on those customers whose chances of buying the product is more.\n",
    "\n",
    "- This will save resources and time (which is directly involved in the cost (of resource billing).\n",
    "\n",
    "- Develop a model with Duration and without duration features and report the performance of the model.\n",
    "\n",
    "- The duration feature is not recommended as this will be difficult to explain the result to the business and also it will be difficult for businesses to campaign based on duration.\n"
   ]
  },
  {
   "cell_type": "markdown",
   "metadata": {},
   "source": [
    "<hr>"
   ]
  },
  {
   "cell_type": "markdown",
   "metadata": {},
   "source": [
    "### 2. Data understanding"
   ]
  },
  {
   "cell_type": "markdown",
   "metadata": {},
   "source": [
    "#### 2.1. Import Libraries"
   ]
  },
  {
   "cell_type": "code",
   "execution_count": 1,
   "metadata": {},
   "outputs": [],
   "source": [
    "import pandas as pd\n",
    "import numpy as np\n",
    "import seaborn as sns \n",
    "import matplotlib.pyplot as plt\n"
   ]
  },
  {
   "cell_type": "markdown",
   "metadata": {},
   "source": [
    "#### 2.2. Load Data"
   ]
  },
  {
   "cell_type": "code",
   "execution_count": 2,
   "metadata": {},
   "outputs": [],
   "source": [
    "# read csv file by pandas\n",
    "df=pd.read_csv('Bank.csv')"
   ]
  },
  {
   "cell_type": "markdown",
   "metadata": {},
   "source": [
    "#### 2.3. Basics information about data"
   ]
  },
  {
   "cell_type": "code",
   "execution_count": 3,
   "metadata": {},
   "outputs": [
    {
     "data": {
      "text/html": [
       "<div>\n",
       "<style scoped>\n",
       "    .dataframe tbody tr th:only-of-type {\n",
       "        vertical-align: middle;\n",
       "    }\n",
       "\n",
       "    .dataframe tbody tr th {\n",
       "        vertical-align: top;\n",
       "    }\n",
       "\n",
       "    .dataframe thead th {\n",
       "        text-align: right;\n",
       "    }\n",
       "</style>\n",
       "<table border=\"1\" class=\"dataframe\">\n",
       "  <thead>\n",
       "    <tr style=\"text-align: right;\">\n",
       "      <th></th>\n",
       "      <th>age</th>\n",
       "      <th>job</th>\n",
       "      <th>marital</th>\n",
       "      <th>education</th>\n",
       "      <th>default</th>\n",
       "      <th>balance</th>\n",
       "      <th>housing</th>\n",
       "      <th>loan</th>\n",
       "      <th>contact</th>\n",
       "      <th>day</th>\n",
       "      <th>month</th>\n",
       "      <th>duration</th>\n",
       "      <th>campaign</th>\n",
       "      <th>pdays</th>\n",
       "      <th>previous</th>\n",
       "      <th>poutcome</th>\n",
       "      <th>y</th>\n",
       "    </tr>\n",
       "  </thead>\n",
       "  <tbody>\n",
       "    <tr>\n",
       "      <th>0</th>\n",
       "      <td>58</td>\n",
       "      <td>management</td>\n",
       "      <td>married</td>\n",
       "      <td>tertiary</td>\n",
       "      <td>no</td>\n",
       "      <td>2143</td>\n",
       "      <td>yes</td>\n",
       "      <td>no</td>\n",
       "      <td>unknown</td>\n",
       "      <td>5</td>\n",
       "      <td>may</td>\n",
       "      <td>261</td>\n",
       "      <td>1</td>\n",
       "      <td>-1</td>\n",
       "      <td>0</td>\n",
       "      <td>unknown</td>\n",
       "      <td>no</td>\n",
       "    </tr>\n",
       "    <tr>\n",
       "      <th>1</th>\n",
       "      <td>44</td>\n",
       "      <td>technician</td>\n",
       "      <td>single</td>\n",
       "      <td>secondary</td>\n",
       "      <td>no</td>\n",
       "      <td>29</td>\n",
       "      <td>yes</td>\n",
       "      <td>no</td>\n",
       "      <td>unknown</td>\n",
       "      <td>5</td>\n",
       "      <td>may</td>\n",
       "      <td>151</td>\n",
       "      <td>1</td>\n",
       "      <td>-1</td>\n",
       "      <td>0</td>\n",
       "      <td>unknown</td>\n",
       "      <td>no</td>\n",
       "    </tr>\n",
       "    <tr>\n",
       "      <th>2</th>\n",
       "      <td>33</td>\n",
       "      <td>entrepreneur</td>\n",
       "      <td>married</td>\n",
       "      <td>secondary</td>\n",
       "      <td>no</td>\n",
       "      <td>2</td>\n",
       "      <td>yes</td>\n",
       "      <td>yes</td>\n",
       "      <td>unknown</td>\n",
       "      <td>5</td>\n",
       "      <td>may</td>\n",
       "      <td>76</td>\n",
       "      <td>1</td>\n",
       "      <td>-1</td>\n",
       "      <td>0</td>\n",
       "      <td>unknown</td>\n",
       "      <td>no</td>\n",
       "    </tr>\n",
       "    <tr>\n",
       "      <th>3</th>\n",
       "      <td>47</td>\n",
       "      <td>blue-collar</td>\n",
       "      <td>married</td>\n",
       "      <td>unknown</td>\n",
       "      <td>no</td>\n",
       "      <td>1506</td>\n",
       "      <td>yes</td>\n",
       "      <td>no</td>\n",
       "      <td>unknown</td>\n",
       "      <td>5</td>\n",
       "      <td>may</td>\n",
       "      <td>92</td>\n",
       "      <td>1</td>\n",
       "      <td>-1</td>\n",
       "      <td>0</td>\n",
       "      <td>unknown</td>\n",
       "      <td>no</td>\n",
       "    </tr>\n",
       "    <tr>\n",
       "      <th>4</th>\n",
       "      <td>33</td>\n",
       "      <td>unknown</td>\n",
       "      <td>single</td>\n",
       "      <td>unknown</td>\n",
       "      <td>no</td>\n",
       "      <td>1</td>\n",
       "      <td>no</td>\n",
       "      <td>no</td>\n",
       "      <td>unknown</td>\n",
       "      <td>5</td>\n",
       "      <td>may</td>\n",
       "      <td>198</td>\n",
       "      <td>1</td>\n",
       "      <td>-1</td>\n",
       "      <td>0</td>\n",
       "      <td>unknown</td>\n",
       "      <td>no</td>\n",
       "    </tr>\n",
       "  </tbody>\n",
       "</table>\n",
       "</div>"
      ],
      "text/plain": [
       "   age           job  marital  education default  balance housing loan  \\\n",
       "0   58    management  married   tertiary      no     2143     yes   no   \n",
       "1   44    technician   single  secondary      no       29     yes   no   \n",
       "2   33  entrepreneur  married  secondary      no        2     yes  yes   \n",
       "3   47   blue-collar  married    unknown      no     1506     yes   no   \n",
       "4   33       unknown   single    unknown      no        1      no   no   \n",
       "\n",
       "   contact  day month  duration  campaign  pdays  previous poutcome   y  \n",
       "0  unknown    5   may       261         1     -1         0  unknown  no  \n",
       "1  unknown    5   may       151         1     -1         0  unknown  no  \n",
       "2  unknown    5   may        76         1     -1         0  unknown  no  \n",
       "3  unknown    5   may        92         1     -1         0  unknown  no  \n",
       "4  unknown    5   may       198         1     -1         0  unknown  no  "
      ]
     },
     "execution_count": 3,
     "metadata": {},
     "output_type": "execute_result"
    }
   ],
   "source": [
    "# to see first 5 rows in data \n",
    "df.head()"
   ]
  },
  {
   "cell_type": "markdown",
   "metadata": {},
   "source": [
    "<hr>"
   ]
  },
  {
   "cell_type": "code",
   "execution_count": 4,
   "metadata": {},
   "outputs": [
    {
     "name": "stdout",
     "output_type": "stream",
     "text": [
      "<class 'pandas.core.frame.DataFrame'>\n",
      "RangeIndex: 49732 entries, 0 to 49731\n",
      "Data columns (total 17 columns):\n",
      " #   Column     Non-Null Count  Dtype \n",
      "---  ------     --------------  ----- \n",
      " 0   age        49732 non-null  int64 \n",
      " 1   job        49732 non-null  object\n",
      " 2   marital    49732 non-null  object\n",
      " 3   education  49732 non-null  object\n",
      " 4   default    49732 non-null  object\n",
      " 5   balance    49732 non-null  int64 \n",
      " 6   housing    49732 non-null  object\n",
      " 7   loan       49732 non-null  object\n",
      " 8   contact    49732 non-null  object\n",
      " 9   day        49732 non-null  int64 \n",
      " 10  month      49732 non-null  object\n",
      " 11  duration   49732 non-null  int64 \n",
      " 12  campaign   49732 non-null  int64 \n",
      " 13  pdays      49732 non-null  int64 \n",
      " 14  previous   49732 non-null  int64 \n",
      " 15  poutcome   49732 non-null  object\n",
      " 16  y          49732 non-null  object\n",
      "dtypes: int64(7), object(10)\n",
      "memory usage: 6.5+ MB\n"
     ]
    }
   ],
   "source": [
    "# to see basic infornation about data\n",
    "df.info()"
   ]
  },
  {
   "cell_type": "code",
   "execution_count": 5,
   "metadata": {},
   "outputs": [
    {
     "name": "stdout",
     "output_type": "stream",
     "text": [
      "The Shape of Dataset: (49732, 17)\n"
     ]
    }
   ],
   "source": [
    "# to know how many rows and columns\n",
    "print(\"The Shape of Dataset:\",df.shape)"
   ]
  },
  {
   "cell_type": "code",
   "execution_count": 6,
   "metadata": {},
   "outputs": [
    {
     "data": {
      "text/plain": [
       "age           int64\n",
       "job          object\n",
       "marital      object\n",
       "education    object\n",
       "default      object\n",
       "balance       int64\n",
       "housing      object\n",
       "loan         object\n",
       "contact      object\n",
       "day           int64\n",
       "month        object\n",
       "duration      int64\n",
       "campaign      int64\n",
       "pdays         int64\n",
       "previous      int64\n",
       "poutcome     object\n",
       "y            object\n",
       "dtype: object"
      ]
     },
     "execution_count": 6,
     "metadata": {},
     "output_type": "execute_result"
    }
   ],
   "source": [
    "# to see waht the data types for each column\n",
    "df.dtypes"
   ]
  },
  {
   "cell_type": "code",
   "execution_count": 7,
   "metadata": {},
   "outputs": [
    {
     "data": {
      "text/html": [
       "<div>\n",
       "<style scoped>\n",
       "    .dataframe tbody tr th:only-of-type {\n",
       "        vertical-align: middle;\n",
       "    }\n",
       "\n",
       "    .dataframe tbody tr th {\n",
       "        vertical-align: top;\n",
       "    }\n",
       "\n",
       "    .dataframe thead th {\n",
       "        text-align: right;\n",
       "    }\n",
       "</style>\n",
       "<table border=\"1\" class=\"dataframe\">\n",
       "  <thead>\n",
       "    <tr style=\"text-align: right;\">\n",
       "      <th></th>\n",
       "      <th>age</th>\n",
       "      <th>balance</th>\n",
       "      <th>day</th>\n",
       "      <th>duration</th>\n",
       "      <th>campaign</th>\n",
       "      <th>pdays</th>\n",
       "      <th>previous</th>\n",
       "    </tr>\n",
       "  </thead>\n",
       "  <tbody>\n",
       "    <tr>\n",
       "      <th>count</th>\n",
       "      <td>49732.000000</td>\n",
       "      <td>49732.000000</td>\n",
       "      <td>49732.000000</td>\n",
       "      <td>49732.000000</td>\n",
       "      <td>49732.000000</td>\n",
       "      <td>49732.000000</td>\n",
       "      <td>49732.000000</td>\n",
       "    </tr>\n",
       "    <tr>\n",
       "      <th>mean</th>\n",
       "      <td>40.957472</td>\n",
       "      <td>1367.761562</td>\n",
       "      <td>15.816315</td>\n",
       "      <td>258.690179</td>\n",
       "      <td>2.766549</td>\n",
       "      <td>40.158630</td>\n",
       "      <td>0.576892</td>\n",
       "    </tr>\n",
       "    <tr>\n",
       "      <th>std</th>\n",
       "      <td>10.615008</td>\n",
       "      <td>3041.608766</td>\n",
       "      <td>8.315680</td>\n",
       "      <td>257.743149</td>\n",
       "      <td>3.099075</td>\n",
       "      <td>100.127123</td>\n",
       "      <td>2.254838</td>\n",
       "    </tr>\n",
       "    <tr>\n",
       "      <th>min</th>\n",
       "      <td>18.000000</td>\n",
       "      <td>-8019.000000</td>\n",
       "      <td>1.000000</td>\n",
       "      <td>0.000000</td>\n",
       "      <td>1.000000</td>\n",
       "      <td>-1.000000</td>\n",
       "      <td>0.000000</td>\n",
       "    </tr>\n",
       "    <tr>\n",
       "      <th>25%</th>\n",
       "      <td>33.000000</td>\n",
       "      <td>72.000000</td>\n",
       "      <td>8.000000</td>\n",
       "      <td>103.000000</td>\n",
       "      <td>1.000000</td>\n",
       "      <td>-1.000000</td>\n",
       "      <td>0.000000</td>\n",
       "    </tr>\n",
       "    <tr>\n",
       "      <th>50%</th>\n",
       "      <td>39.000000</td>\n",
       "      <td>448.000000</td>\n",
       "      <td>16.000000</td>\n",
       "      <td>180.000000</td>\n",
       "      <td>2.000000</td>\n",
       "      <td>-1.000000</td>\n",
       "      <td>0.000000</td>\n",
       "    </tr>\n",
       "    <tr>\n",
       "      <th>75%</th>\n",
       "      <td>48.000000</td>\n",
       "      <td>1431.000000</td>\n",
       "      <td>21.000000</td>\n",
       "      <td>320.000000</td>\n",
       "      <td>3.000000</td>\n",
       "      <td>-1.000000</td>\n",
       "      <td>0.000000</td>\n",
       "    </tr>\n",
       "    <tr>\n",
       "      <th>max</th>\n",
       "      <td>95.000000</td>\n",
       "      <td>102127.000000</td>\n",
       "      <td>31.000000</td>\n",
       "      <td>4918.000000</td>\n",
       "      <td>63.000000</td>\n",
       "      <td>871.000000</td>\n",
       "      <td>275.000000</td>\n",
       "    </tr>\n",
       "  </tbody>\n",
       "</table>\n",
       "</div>"
      ],
      "text/plain": [
       "                age        balance           day      duration      campaign  \\\n",
       "count  49732.000000   49732.000000  49732.000000  49732.000000  49732.000000   \n",
       "mean      40.957472    1367.761562     15.816315    258.690179      2.766549   \n",
       "std       10.615008    3041.608766      8.315680    257.743149      3.099075   \n",
       "min       18.000000   -8019.000000      1.000000      0.000000      1.000000   \n",
       "25%       33.000000      72.000000      8.000000    103.000000      1.000000   \n",
       "50%       39.000000     448.000000     16.000000    180.000000      2.000000   \n",
       "75%       48.000000    1431.000000     21.000000    320.000000      3.000000   \n",
       "max       95.000000  102127.000000     31.000000   4918.000000     63.000000   \n",
       "\n",
       "              pdays      previous  \n",
       "count  49732.000000  49732.000000  \n",
       "mean      40.158630      0.576892  \n",
       "std      100.127123      2.254838  \n",
       "min       -1.000000      0.000000  \n",
       "25%       -1.000000      0.000000  \n",
       "50%       -1.000000      0.000000  \n",
       "75%       -1.000000      0.000000  \n",
       "max      871.000000    275.000000  "
      ]
     },
     "execution_count": 7,
     "metadata": {},
     "output_type": "execute_result"
    }
   ],
   "source": [
    "# to Generate descriptive statistics for numeric  \n",
    "df.describe()"
   ]
  },
  {
   "cell_type": "code",
   "execution_count": 8,
   "metadata": {},
   "outputs": [
    {
     "data": {
      "text/html": [
       "<div>\n",
       "<style scoped>\n",
       "    .dataframe tbody tr th:only-of-type {\n",
       "        vertical-align: middle;\n",
       "    }\n",
       "\n",
       "    .dataframe tbody tr th {\n",
       "        vertical-align: top;\n",
       "    }\n",
       "\n",
       "    .dataframe thead th {\n",
       "        text-align: right;\n",
       "    }\n",
       "</style>\n",
       "<table border=\"1\" class=\"dataframe\">\n",
       "  <thead>\n",
       "    <tr style=\"text-align: right;\">\n",
       "      <th></th>\n",
       "      <th>job</th>\n",
       "      <th>marital</th>\n",
       "      <th>education</th>\n",
       "      <th>default</th>\n",
       "      <th>housing</th>\n",
       "      <th>loan</th>\n",
       "      <th>contact</th>\n",
       "      <th>month</th>\n",
       "      <th>poutcome</th>\n",
       "      <th>y</th>\n",
       "    </tr>\n",
       "  </thead>\n",
       "  <tbody>\n",
       "    <tr>\n",
       "      <th>count</th>\n",
       "      <td>49732</td>\n",
       "      <td>49732</td>\n",
       "      <td>49732</td>\n",
       "      <td>49732</td>\n",
       "      <td>49732</td>\n",
       "      <td>49732</td>\n",
       "      <td>49732</td>\n",
       "      <td>49732</td>\n",
       "      <td>49732</td>\n",
       "      <td>49732</td>\n",
       "    </tr>\n",
       "    <tr>\n",
       "      <th>unique</th>\n",
       "      <td>12</td>\n",
       "      <td>3</td>\n",
       "      <td>4</td>\n",
       "      <td>2</td>\n",
       "      <td>2</td>\n",
       "      <td>2</td>\n",
       "      <td>3</td>\n",
       "      <td>12</td>\n",
       "      <td>4</td>\n",
       "      <td>2</td>\n",
       "    </tr>\n",
       "    <tr>\n",
       "      <th>top</th>\n",
       "      <td>blue-collar</td>\n",
       "      <td>married</td>\n",
       "      <td>secondary</td>\n",
       "      <td>no</td>\n",
       "      <td>yes</td>\n",
       "      <td>no</td>\n",
       "      <td>cellular</td>\n",
       "      <td>may</td>\n",
       "      <td>unknown</td>\n",
       "      <td>no</td>\n",
       "    </tr>\n",
       "    <tr>\n",
       "      <th>freq</th>\n",
       "      <td>10678</td>\n",
       "      <td>30011</td>\n",
       "      <td>25508</td>\n",
       "      <td>48841</td>\n",
       "      <td>27689</td>\n",
       "      <td>41797</td>\n",
       "      <td>32181</td>\n",
       "      <td>15164</td>\n",
       "      <td>40664</td>\n",
       "      <td>43922</td>\n",
       "    </tr>\n",
       "  </tbody>\n",
       "</table>\n",
       "</div>"
      ],
      "text/plain": [
       "                job  marital  education default housing   loan   contact  \\\n",
       "count         49732    49732      49732   49732   49732  49732     49732   \n",
       "unique           12        3          4       2       2      2         3   \n",
       "top     blue-collar  married  secondary      no     yes     no  cellular   \n",
       "freq          10678    30011      25508   48841   27689  41797     32181   \n",
       "\n",
       "        month poutcome      y  \n",
       "count   49732    49732  49732  \n",
       "unique     12        4      2  \n",
       "top       may  unknown     no  \n",
       "freq    15164    40664  43922  "
      ]
     },
     "execution_count": 8,
     "metadata": {},
     "output_type": "execute_result"
    }
   ],
   "source": [
    "# to Generate descriptive statistics for obiect\n",
    "df.describe(include=['object']) "
   ]
  },
  {
   "cell_type": "markdown",
   "metadata": {},
   "source": [
    "#### 2.4. checking on missing values"
   ]
  },
  {
   "cell_type": "code",
   "execution_count": 9,
   "metadata": {},
   "outputs": [
    {
     "data": {
      "text/plain": [
       "age          0\n",
       "job          0\n",
       "marital      0\n",
       "education    0\n",
       "default      0\n",
       "balance      0\n",
       "housing      0\n",
       "loan         0\n",
       "contact      0\n",
       "day          0\n",
       "month        0\n",
       "duration     0\n",
       "campaign     0\n",
       "pdays        0\n",
       "previous     0\n",
       "poutcome     0\n",
       "y            0\n",
       "dtype: int64"
      ]
     },
     "execution_count": 9,
     "metadata": {},
     "output_type": "execute_result"
    }
   ],
   "source": [
    "# check on missing data in coulmns\n",
    "df.isna().sum()"
   ]
  },
  {
   "cell_type": "markdown",
   "metadata": {},
   "source": [
    "#### 2.5. checking on dulicates rows"
   ]
  },
  {
   "cell_type": "code",
   "execution_count": null,
   "metadata": {},
   "outputs": [],
   "source": [
    "#identify duplicate rows\n",
    "duplicateRows = df[df.duplicated()]\n",
    "#view duplicate rows\n",
    "duplicateRows"
   ]
  },
  {
   "cell_type": "code",
   "execution_count": null,
   "metadata": {},
   "outputs": [],
   "source": [
    "# drop duplicates rows\n",
    "df.drop_duplicates(keep=False)"
   ]
  },
  {
   "cell_type": "markdown",
   "metadata": {},
   "source": [
    "#### 2.6. Analysis the columns"
   ]
  },
  {
   "cell_type": "code",
   "execution_count": null,
   "metadata": {},
   "outputs": [],
   "source": [
    "# to see the coulmns names for dataset\n",
    "df.columns"
   ]
  },
  {
   "cell_type": "code",
   "execution_count": null,
   "metadata": {},
   "outputs": [],
   "source": [
    "# to see how many unique value in each columns\n",
    "df.nunique()"
   ]
  },
  {
   "cell_type": "code",
   "execution_count": null,
   "metadata": {},
   "outputs": [],
   "source": [
    "# The unquie value in coulmn (age)\n",
    "df['age'].unique()"
   ]
  },
  {
   "cell_type": "code",
   "execution_count": null,
   "metadata": {},
   "outputs": [],
   "source": [
    "# Figure size\n",
    "plt.figure(figsize=(20,10))\n",
    "\n",
    "# Figure title\n",
    "plt.title(\" Distribution the age of Bank Clients \", loc=\"center\",fontsize='15')\n",
    "\n",
    "# plot\n",
    "sns.histplot(data= df, x=\"age\" , common_norm=False,shrink=.8,multiple=\"dodge\")\n",
    "\n",
    "# Figure show\n",
    "plt.show()"
   ]
  },
  {
   "cell_type": "markdown",
   "metadata": {},
   "source": [
    "<hr>"
   ]
  },
  {
   "cell_type": "code",
   "execution_count": null,
   "metadata": {},
   "outputs": [],
   "source": [
    "# The unquie value in coulmn (job)\n",
    "df['job'].unique()"
   ]
  },
  {
   "cell_type": "code",
   "execution_count": null,
   "metadata": {},
   "outputs": [],
   "source": [
    "# Figure size\n",
    "plt.figure(figsize=(20,10))\n",
    "\n",
    "# Figure title\n",
    "plt.title(\" Distribution the job of Bank Clients \", loc=\"center\",fontsize='15')\n",
    "\n",
    "# plot\n",
    "sns.histplot(data= df, x=\"job\" , common_norm=False,shrink=.8,multiple=\"dodge\")\n",
    "\n",
    "# Figure show\n",
    "plt.show()"
   ]
  },
  {
   "cell_type": "markdown",
   "metadata": {},
   "source": [
    "<hr>"
   ]
  },
  {
   "cell_type": "code",
   "execution_count": null,
   "metadata": {},
   "outputs": [],
   "source": [
    "# The unquie value in coulmn (marital)\n",
    "df['marital'].unique()"
   ]
  },
  {
   "cell_type": "code",
   "execution_count": null,
   "metadata": {},
   "outputs": [],
   "source": [
    "# Figure size\n",
    "plt.figure(figsize=(20,10))\n",
    "\n",
    "# Figure title\n",
    "plt.title(\" Distribution the marital status of Bank Clients \", loc=\"center\",fontsize='15')\n",
    "\n",
    "# plot\n",
    "sns.histplot(data= df, x=\"marital\" , common_norm=False,shrink=.8,multiple=\"dodge\")\n",
    "\n",
    "# Figure show\n",
    "plt.show()"
   ]
  },
  {
   "cell_type": "markdown",
   "metadata": {},
   "source": [
    "<hr>"
   ]
  },
  {
   "cell_type": "code",
   "execution_count": null,
   "metadata": {},
   "outputs": [],
   "source": [
    "# The unquie value in coulmn (education)\n",
    "df['education'].unique()"
   ]
  },
  {
   "cell_type": "code",
   "execution_count": null,
   "metadata": {},
   "outputs": [],
   "source": [
    "# Figure size\n",
    "plt.figure(figsize=(20,10))\n",
    "\n",
    "# Figure title\n",
    "plt.title(\" Distribution the education status of Bank Clients \", loc=\"center\",fontsize='15')\n",
    "\n",
    "# plot\n",
    "sns.histplot(data= df, x=\"education\" , common_norm=False,shrink=.8,multiple=\"dodge\")\n",
    "\n",
    "# Figure show\n",
    "plt.show()"
   ]
  },
  {
   "cell_type": "markdown",
   "metadata": {},
   "source": [
    "<hr>"
   ]
  },
  {
   "cell_type": "code",
   "execution_count": null,
   "metadata": {},
   "outputs": [],
   "source": [
    "# The unquie value in coulmn (default)\n",
    "df['default'].unique()"
   ]
  },
  {
   "cell_type": "code",
   "execution_count": null,
   "metadata": {},
   "outputs": [],
   "source": [
    "# Figure size\n",
    "plt.figure(figsize=(8,5))\n",
    "\n",
    "# Figure title\n",
    "plt.title(\" Distribution Bank Clients have cridet card \", loc=\"center\",fontsize='15')\n",
    "\n",
    "# plot\n",
    "sns.histplot(data= df, x=\"default\" , common_norm=False,shrink=.8,multiple=\"dodge\")\n",
    "\n",
    "# Figure show\n",
    "plt.show()"
   ]
  },
  {
   "cell_type": "markdown",
   "metadata": {},
   "source": [
    "<hr>"
   ]
  },
  {
   "cell_type": "code",
   "execution_count": null,
   "metadata": {},
   "outputs": [],
   "source": [
    "# The unquie value in coulmn (balance)\n",
    "df['balance'].unique()"
   ]
  },
  {
   "cell_type": "code",
   "execution_count": null,
   "metadata": {},
   "outputs": [],
   "source": [
    "# Figure size\n",
    "plt.figure(figsize=(20,10))\n",
    "\n",
    "# Figure title\n",
    "plt.title(\" Distribution the balance of Bank Clients \", loc=\"center\",fontsize='15')\n",
    "\n",
    "# plot\n",
    "sns.histplot(data= df, x=\"balance\" , common_norm=False,shrink=.8,multiple=\"dodge\")\n",
    "\n",
    "# Figure show\n",
    "plt.show()"
   ]
  },
  {
   "cell_type": "markdown",
   "metadata": {},
   "source": [
    "<hr>"
   ]
  },
  {
   "cell_type": "code",
   "execution_count": null,
   "metadata": {},
   "outputs": [],
   "source": [
    "# The unquie value in coulmn (housing)\n",
    "df['housing'].unique()"
   ]
  },
  {
   "cell_type": "code",
   "execution_count": null,
   "metadata": {},
   "outputs": [],
   "source": [
    "# Figure size\n",
    "plt.figure(figsize=(8,5))\n",
    "\n",
    "# Figure title\n",
    "plt.title(\" Distribution Bank Clients have housing loan \", loc=\"center\",fontsize='15')\n",
    "\n",
    "# plot\n",
    "sns.histplot(data= df, x=\"housing\" , common_norm=False,shrink=.8,multiple=\"dodge\")\n",
    "\n",
    "# Figure show\n",
    "plt.show()"
   ]
  },
  {
   "cell_type": "markdown",
   "metadata": {},
   "source": [
    "<hr>"
   ]
  },
  {
   "cell_type": "code",
   "execution_count": null,
   "metadata": {},
   "outputs": [],
   "source": [
    "# The unquie value in coulmn (loan)\n",
    "df['loan'].unique()"
   ]
  },
  {
   "cell_type": "code",
   "execution_count": null,
   "metadata": {},
   "outputs": [],
   "source": [
    "# Figure size\n",
    "plt.figure(figsize=(8,5))\n",
    "\n",
    "# Figure title\n",
    "plt.title(\" Distribution Bank Clients have loan \", loc=\"center\",fontsize='15')\n",
    "\n",
    "# plot\n",
    "sns.histplot(data= df, x=\"loan\" , common_norm=False,shrink=.8,multiple=\"dodge\")\n",
    "\n",
    "# Figure show\n",
    "plt.show()"
   ]
  },
  {
   "cell_type": "markdown",
   "metadata": {},
   "source": [
    "<hr>"
   ]
  },
  {
   "cell_type": "code",
   "execution_count": null,
   "metadata": {},
   "outputs": [],
   "source": [
    "# The unquie value in coulmn (contact)\n",
    "df['contact'].unique()"
   ]
  },
  {
   "cell_type": "code",
   "execution_count": null,
   "metadata": {},
   "outputs": [],
   "source": [
    "# Figure size\n",
    "plt.figure(figsize=(20,10))\n",
    "\n",
    "# Figure title\n",
    "plt.title(\" Distribution the contact away of Bank Clients \", loc=\"center\",fontsize='15')\n",
    "\n",
    "# plot\n",
    "sns.histplot(data= df, x=\"contact\" , common_norm=False,shrink=.8,multiple=\"dodge\")\n",
    "\n",
    "# Figure show\n",
    "plt.show()"
   ]
  },
  {
   "cell_type": "markdown",
   "metadata": {},
   "source": [
    "<hr>"
   ]
  },
  {
   "cell_type": "code",
   "execution_count": null,
   "metadata": {},
   "outputs": [],
   "source": [
    "# The unquie value in coulmn (day)\n",
    "df['day'].unique()"
   ]
  },
  {
   "cell_type": "code",
   "execution_count": null,
   "metadata": {},
   "outputs": [],
   "source": [
    "# Figure size\n",
    "plt.figure(figsize=(20,10))\n",
    "\n",
    "# Figure title\n",
    "plt.title(\" Distribution the  Active day of Bank Clients \", loc=\"center\",fontsize='15')\n",
    "\n",
    "# plot\n",
    "sns.histplot(data= df, x=\"day\" , common_norm=False,shrink=.8,multiple=\"dodge\")\n",
    "\n",
    "# Figure show\n",
    "plt.show()"
   ]
  },
  {
   "cell_type": "markdown",
   "metadata": {},
   "source": [
    "<hr>"
   ]
  },
  {
   "cell_type": "code",
   "execution_count": null,
   "metadata": {},
   "outputs": [],
   "source": [
    "# The unquie value in coulmn (month)\n",
    "df['month'].unique()"
   ]
  },
  {
   "cell_type": "code",
   "execution_count": null,
   "metadata": {},
   "outputs": [],
   "source": [
    "# Figure size\n",
    "plt.figure(figsize=(20,10))\n",
    "\n",
    "# Figure title\n",
    "plt.title(\" Distribution the Active month of Bank Clients \", loc=\"center\",fontsize='15')\n",
    "\n",
    "# plot\n",
    "sns.histplot(data= df, x=\"month\" , common_norm=False,shrink=.8,multiple=\"dodge\")\n",
    "\n",
    "# Figure show\n",
    "plt.show()"
   ]
  },
  {
   "cell_type": "markdown",
   "metadata": {},
   "source": [
    "<hr>"
   ]
  },
  {
   "cell_type": "code",
   "execution_count": null,
   "metadata": {},
   "outputs": [],
   "source": [
    "# The unquie value in coulmn (duration)\n",
    "df['duration'].unique()"
   ]
  },
  {
   "cell_type": "code",
   "execution_count": null,
   "metadata": {},
   "outputs": [],
   "source": [
    "# Figure size\n",
    "plt.figure(figsize=(20,10))\n",
    "\n",
    "# Figure title\n",
    "plt.title(\" Distribution the duration of Bank Clients \", loc=\"center\",fontsize='15')\n",
    "\n",
    "# plot\n",
    "sns.histplot(data= df, x=\"duration\" , common_norm=False,shrink=.8,multiple=\"dodge\")\n",
    "\n",
    "# Figure show\n",
    "plt.show()"
   ]
  },
  {
   "cell_type": "markdown",
   "metadata": {},
   "source": [
    "<hr>"
   ]
  },
  {
   "cell_type": "code",
   "execution_count": null,
   "metadata": {},
   "outputs": [],
   "source": [
    "# The unquie value in coulmn (campaign)\n",
    "df['campaign'].unique()"
   ]
  },
  {
   "cell_type": "code",
   "execution_count": null,
   "metadata": {},
   "outputs": [],
   "source": [
    "# Figure size\n",
    "plt.figure(figsize=(20,10))\n",
    "\n",
    "# Figure title\n",
    "plt.title(\" Distribution the campaign of Bank Clients \", loc=\"center\",fontsize='15')\n",
    "\n",
    "# plot\n",
    "sns.histplot(data= df, x=\"campaign\" , common_norm=False,shrink=.8,multiple=\"dodge\")\n",
    "\n",
    "# Figure show\n",
    "plt.show()"
   ]
  },
  {
   "cell_type": "markdown",
   "metadata": {},
   "source": [
    "<hr>"
   ]
  },
  {
   "cell_type": "code",
   "execution_count": null,
   "metadata": {},
   "outputs": [],
   "source": [
    "# The unquie value in coulmn (pervious)\n",
    "df['previous'].unique()"
   ]
  },
  {
   "cell_type": "code",
   "execution_count": null,
   "metadata": {},
   "outputs": [],
   "source": [
    "# Figure size\n",
    "plt.figure(figsize=(20,10))\n",
    "\n",
    "# Figure title\n",
    "plt.title(\" Distribution the previous  of Bank Clients \", loc=\"center\",fontsize='15')\n",
    "\n",
    "# plot\n",
    "sns.histplot(data= df, x=\"previous\" , common_norm=False,shrink=.8,multiple=\"dodge\")\n",
    "\n",
    "# Figure show\n",
    "plt.show()"
   ]
  },
  {
   "cell_type": "markdown",
   "metadata": {},
   "source": [
    "<hr>"
   ]
  },
  {
   "cell_type": "code",
   "execution_count": null,
   "metadata": {},
   "outputs": [],
   "source": [
    "# The unquie value in coulmn (pdays)\n",
    "df['pdays'].unique()"
   ]
  },
  {
   "cell_type": "code",
   "execution_count": null,
   "metadata": {},
   "outputs": [],
   "source": [
    "# Figure size\n",
    "plt.figure(figsize=(20,10))\n",
    "\n",
    "# Figure title\n",
    "plt.title(\" Distribution the pdays \", loc=\"center\",fontsize='15')\n",
    "\n",
    "# plot\n",
    "sns.histplot(data= df, x=\"pdays\" , common_norm=False,shrink=.8,multiple=\"dodge\")\n",
    "\n",
    "# Figure show\n",
    "plt.show()"
   ]
  },
  {
   "cell_type": "markdown",
   "metadata": {},
   "source": [
    "<hr>"
   ]
  },
  {
   "cell_type": "code",
   "execution_count": null,
   "metadata": {},
   "outputs": [],
   "source": [
    "# The unquie value in coulmn (y)\n",
    "df['y'].unique()"
   ]
  },
  {
   "cell_type": "code",
   "execution_count": null,
   "metadata": {},
   "outputs": [],
   "source": [
    "# Figure size\n",
    "plt.figure(figsize=(8,5))\n",
    "\n",
    "# Figure title\n",
    "plt.title(\" Distribution the y \", loc=\"center\",fontsize='15')\n",
    "\n",
    "# plot\n",
    "sns.histplot(data= df, x=\"y\" , common_norm=False,shrink=.8,multiple=\"dodge\")\n",
    "\n",
    "# Figure show\n",
    "plt.show()"
   ]
  },
  {
   "cell_type": "markdown",
   "metadata": {},
   "source": [
    "<hr>"
   ]
  },
  {
   "cell_type": "markdown",
   "metadata": {},
   "source": [
    "#### 2.7. Detect Outliers"
   ]
  },
  {
   "cell_type": "code",
   "execution_count": null,
   "metadata": {},
   "outputs": [],
   "source": [
    "# Detect Outliers\n",
    "# I using Box Plot to detect Outliers in the dataset\n",
    "fig,axes = plt.subplots(3,2,figsize=(20, 10), sharey=True)\n",
    "fig.suptitle('Boxplot Distributions of the Variables Before Remove Outliters',fontsize=30)\n",
    "\n",
    "sns.boxplot(ax=axes[0,0], x='age',color='red', data=df)\n",
    "sns.boxplot(ax=axes[0,1], x='balance',color='yellow'  , data=df) \n",
    "sns.boxplot(ax=axes[1,0], x='duration' , color='orange' , data=df)\n",
    "sns.boxplot(ax=axes[1,1], x='campaign' , color='green' ,   data=df)\n",
    "sns.boxplot(ax=axes[2,0], x='pdays' ,color='pink' ,   data=df)\n",
    "sns.boxplot(ax=axes[2,1], x='previous' ,color='pink' ,   data=df);"
   ]
  },
  {
   "cell_type": "code",
   "execution_count": null,
   "metadata": {},
   "outputs": [],
   "source": [
    "cols = ['pdays', 'campaign', 'previous', 'duration' , 'age' , 'balance'] # The columns you want to search for outliers in\n",
    "\n",
    "# Calculate quantiles and IQR\n",
    "Q1 = df[cols].quantile(0.25) # Same as np.percentile but maps (0,1) and not (0,100)\n",
    "Q3 = df[cols].quantile(0.75)\n",
    "IQR = Q3 - Q1\n",
    "\n",
    "# Return a boolean array of the rows with (any) non-outlier column values\n",
    "condition = ~((df[cols] < (Q1 - 1.5 * IQR)) | (df[cols] > (Q3 + 1.5 * IQR))).any(axis=1)\n",
    "\n",
    "# Filter our dataframe based on condition\n",
    "df = df[condition]"
   ]
  },
  {
   "cell_type": "code",
   "execution_count": null,
   "metadata": {},
   "outputs": [],
   "source": [
    "df.shape"
   ]
  },
  {
   "cell_type": "code",
   "execution_count": null,
   "metadata": {},
   "outputs": [],
   "source": [
    "# Detect Outliers\n",
    "# I using Box Plot to detect Outliers in the dataset\n",
    "fig,axes = plt.subplots(3,2,figsize=(20, 10), sharey=True)\n",
    "fig.suptitle('Boxplot Distributions of the Variables During Handling with Outliters',fontsize=30)\n",
    "\n",
    "sns.boxplot(ax=axes[0,0], x='age',color='red', data=df)\n",
    "sns.boxplot(ax=axes[0,1], x='balance',color='yellow'  , data=df) \n",
    "sns.boxplot(ax=axes[1,0], x='duration' , color='orange' , data=df)\n",
    "sns.boxplot(ax=axes[1,1], x='campaign' , color='green' ,   data=df)\n",
    "sns.boxplot(ax=axes[2,0], x='pdays' ,color='pink' ,   data=df)\n",
    "sns.boxplot(ax=axes[2,1], x='previous' ,color='pink' ,   data=df);"
   ]
  },
  {
   "cell_type": "code",
   "execution_count": null,
   "metadata": {},
   "outputs": [],
   "source": [
    "cols = [ 'duration' ,'balance','age'] # The columns you want to search for outliers in\n",
    "\n",
    "# Calculate quantiles and IQR\n",
    "Q1 = df[cols].quantile(0.25) # Same as np.percentile but maps (0,1) and not (0,100)\n",
    "Q3 = df[cols].quantile(0.75)\n",
    "IQR = Q3 - Q1\n",
    "\n",
    "# Return a boolean array of the rows with (any) non-outlier column values\n",
    "condition = ~((df[cols] < (Q1 - 1.5 * IQR)) | (df[cols] > (Q3 + 1.5 * IQR))).any(axis=1)\n",
    "\n",
    "# Filter our dataframe based on condition\n",
    "df = df[condition]"
   ]
  },
  {
   "cell_type": "code",
   "execution_count": null,
   "metadata": {},
   "outputs": [],
   "source": [
    "# Detect Outliers\n",
    "# I using Box Plot to detect Outliers in the dataset\n",
    "fig,axes = plt.subplots(3,2,figsize=(20, 10), sharey=True)\n",
    "fig.suptitle('Boxplot Distributions of the Variables During Handling with Outliters',fontsize=30)\n",
    "\n",
    "sns.boxplot(ax=axes[0,0], x='age',color='red', data=df)\n",
    "sns.boxplot(ax=axes[0,1], x='balance',color='yellow'  , data=df) \n",
    "sns.boxplot(ax=axes[1,0], x='duration' , color='orange' , data=df)\n",
    "sns.boxplot(ax=axes[1,1], x='campaign' , color='green' ,   data=df)\n",
    "sns.boxplot(ax=axes[2,0], x='pdays' ,color='pink' ,   data=df)\n",
    "sns.boxplot(ax=axes[2,1], x='previous' ,color='pink' ,   data=df);"
   ]
  },
  {
   "cell_type": "code",
   "execution_count": null,
   "metadata": {},
   "outputs": [],
   "source": [
    "cols = [ 'duration' ,'balance','age'] # The columns you want to search for outliers in\n",
    "\n",
    "# Calculate quantiles and IQR\n",
    "Q1 = df[cols].quantile(0.25) # Same as np.percentile but maps (0,1) and not (0,100)\n",
    "Q3 = df[cols].quantile(0.75)\n",
    "IQR = Q3 - Q1\n",
    "\n",
    "# Return a boolean array of the rows with (any) non-outlier column values\n",
    "condition = ~((df[cols] < (Q1 - 1.5 * IQR)) | (df[cols] > (Q3 + 1.5 * IQR))).any(axis=1)\n",
    "\n",
    "# Filter our dataframe based on condition\n",
    "df = df[condition]"
   ]
  },
  {
   "cell_type": "code",
   "execution_count": null,
   "metadata": {},
   "outputs": [],
   "source": [
    "# Detect Outliers\n",
    "# I using Box Plot to detect Outliers in the dataset\n",
    "fig,axes = plt.subplots(3,2,figsize=(20, 10), sharey=True)\n",
    "fig.suptitle('Boxplot Distributions of the Variables During Handling with Outliters',fontsize=30)\n",
    "\n",
    "sns.boxplot(ax=axes[0,0], x='age',color='red', data=df)\n",
    "sns.boxplot(ax=axes[0,1], x='balance',color='yellow'  , data=df) \n",
    "sns.boxplot(ax=axes[1,0], x='duration' , color='orange' , data=df)\n",
    "sns.boxplot(ax=axes[1,1], x='campaign' , color='green' ,   data=df)\n",
    "sns.boxplot(ax=axes[2,0], x='pdays' ,color='pink' ,   data=df)\n",
    "sns.boxplot(ax=axes[2,1], x='previous' ,color='pink' ,   data=df);"
   ]
  },
  {
   "cell_type": "code",
   "execution_count": null,
   "metadata": {},
   "outputs": [],
   "source": [
    "cols = [ 'duration' ,'balance','age'] # The columns you want to search for outliers in\n",
    "\n",
    "# Calculate quantiles and IQR\n",
    "Q1 = df[cols].quantile(0.25) # Same as np.percentile but maps (0,1) and not (0,100)\n",
    "Q3 = df[cols].quantile(0.75)\n",
    "IQR = Q3 - Q1\n",
    "\n",
    "# Return a boolean array of the rows with (any) non-outlier column values\n",
    "condition = ~((df[cols] < (Q1 - 1.5 * IQR)) | (df[cols] > (Q3 + 1.5 * IQR))).any(axis=1)\n",
    "\n",
    "# Filter our dataframe based on condition\n",
    "df = df[condition]"
   ]
  },
  {
   "cell_type": "code",
   "execution_count": null,
   "metadata": {},
   "outputs": [],
   "source": [
    "# Detect Outliers\n",
    "# I using Box Plot to detect Outliers in the dataset\n",
    "fig,axes = plt.subplots(3,2,figsize=(20, 10), sharey=True)\n",
    "fig.suptitle('Boxplot Distributions of the Variables During Handling with Outliters',fontsize=30)\n",
    "\n",
    "sns.boxplot(ax=axes[0,0], x='age',color='red', data=df)\n",
    "sns.boxplot(ax=axes[0,1], x='balance',color='yellow'  , data=df) \n",
    "sns.boxplot(ax=axes[1,0], x='duration' , color='orange' , data=df)\n",
    "sns.boxplot(ax=axes[1,1], x='campaign' , color='green' ,   data=df)\n",
    "sns.boxplot(ax=axes[2,0], x='pdays' ,color='pink' ,   data=df)\n",
    "sns.boxplot(ax=axes[2,1], x='previous' ,color='pink' ,   data=df);"
   ]
  },
  {
   "cell_type": "code",
   "execution_count": null,
   "metadata": {},
   "outputs": [],
   "source": [
    "cols = [ 'duration' ,'balance','age'] # The columns you want to search for outliers in\n",
    "\n",
    "# Calculate quantiles and IQR\n",
    "Q1 = df[cols].quantile(0.25) # Same as np.percentile but maps (0,1) and not (0,100)\n",
    "Q3 = df[cols].quantile(0.75)\n",
    "IQR = Q3 - Q1\n",
    "\n",
    "# Return a boolean array of the rows with (any) non-outlier column values\n",
    "condition = ~((df[cols] < (Q1 - 1.5 * IQR)) | (df[cols] > (Q3 + 1.5 * IQR))).any(axis=1)\n",
    "\n",
    "# Filter our dataframe based on condition\n",
    "df = df[condition]"
   ]
  },
  {
   "cell_type": "code",
   "execution_count": null,
   "metadata": {},
   "outputs": [],
   "source": [
    "# Detect Outliers\n",
    "# I using Box Plot to detect Outliers in the dataset\n",
    "fig,axes = plt.subplots(3,2,figsize=(20, 10), sharey=True)\n",
    "fig.suptitle('Boxplot Distributions of the Variables During Handling with Outliters',fontsize=30)\n",
    "\n",
    "sns.boxplot(ax=axes[0,0], x='age',color='red', data=df)\n",
    "sns.boxplot(ax=axes[0,1], x='balance',color='yellow'  , data=df) \n",
    "sns.boxplot(ax=axes[1,0], x='duration' , color='orange' , data=df)\n",
    "sns.boxplot(ax=axes[1,1], x='campaign' , color='green' ,   data=df)\n",
    "sns.boxplot(ax=axes[2,0], x='pdays' ,color='pink' ,   data=df)\n",
    "sns.boxplot(ax=axes[2,1], x='previous' ,color='pink' ,   data=df);"
   ]
  },
  {
   "cell_type": "code",
   "execution_count": null,
   "metadata": {},
   "outputs": [],
   "source": [
    "cols = [ 'duration' ,'balance','age'] # The columns you want to search for outliers in\n",
    "\n",
    "# Calculate quantiles and IQR\n",
    "Q1 = df[cols].quantile(0.25) # Same as np.percentile but maps (0,1) and not (0,100)\n",
    "Q3 = df[cols].quantile(0.75)\n",
    "IQR = Q3 - Q1\n",
    "\n",
    "# Return a boolean array of the rows with (any) non-outlier column values\n",
    "condition = ~((df[cols] < (Q1 - 1.5 * IQR)) | (df[cols] > (Q3 + 1.5 * IQR))).any(axis=1)\n",
    "\n",
    "# Filter our dataframe based on condition\n",
    "df = df[condition]"
   ]
  },
  {
   "cell_type": "code",
   "execution_count": null,
   "metadata": {},
   "outputs": [],
   "source": [
    "# Detect Outliers\n",
    "# I using Box Plot to detect Outliers in the dataset\n",
    "fig,axes = plt.subplots(3,2,figsize=(20, 10), sharey=True)\n",
    "fig.suptitle('Boxplot Distributions of the Variables During Handling with Outliters',fontsize=30)\n",
    "\n",
    "sns.boxplot(ax=axes[0,0], x='age',color='red', data=df)\n",
    "sns.boxplot(ax=axes[0,1], x='balance',color='yellow'  , data=df) \n",
    "sns.boxplot(ax=axes[1,0], x='duration' , color='orange' , data=df)\n",
    "sns.boxplot(ax=axes[1,1], x='campaign' , color='green' ,   data=df)\n",
    "sns.boxplot(ax=axes[2,0], x='pdays' ,color='pink' ,   data=df)\n",
    "sns.boxplot(ax=axes[2,1], x='previous' ,color='pink' ,   data=df);"
   ]
  },
  {
   "cell_type": "code",
   "execution_count": null,
   "metadata": {},
   "outputs": [],
   "source": [
    "cols = [ 'duration' ,'balance','age'] # The columns you want to search for outliers in\n",
    "\n",
    "# Calculate quantiles and IQR\n",
    "Q1 = df[cols].quantile(0.25) # Same as np.percentile but maps (0,1) and not (0,100)\n",
    "Q3 = df[cols].quantile(0.75)\n",
    "IQR = Q3 - Q1\n",
    "\n",
    "# Return a boolean array of the rows with (any) non-outlier column values\n",
    "condition = ~((df[cols] < (Q1 - 1.5 * IQR)) | (df[cols] > (Q3 + 1.5 * IQR))).any(axis=1)\n",
    "\n",
    "# Filter our dataframe based on condition\n",
    "df = df[condition]"
   ]
  },
  {
   "cell_type": "code",
   "execution_count": null,
   "metadata": {},
   "outputs": [],
   "source": [
    "# Detect Outliers\n",
    "# I using Box Plot to detect Outliers in the dataset\n",
    "fig,axes = plt.subplots(3,2,figsize=(20, 10), sharey=True)\n",
    "fig.suptitle('Boxplot Distributions of the Variables During Handling with Outliters',fontsize=30)\n",
    "\n",
    "sns.boxplot(ax=axes[0,0], x='age',color='red', data=df)\n",
    "sns.boxplot(ax=axes[0,1], x='balance',color='yellow'  , data=df) \n",
    "sns.boxplot(ax=axes[1,0], x='duration' , color='orange' , data=df)\n",
    "sns.boxplot(ax=axes[1,1], x='campaign' , color='green' ,   data=df)\n",
    "sns.boxplot(ax=axes[2,0], x='pdays' ,color='pink' ,   data=df)\n",
    "sns.boxplot(ax=axes[2,1], x='previous' ,color='pink' ,   data=df);"
   ]
  },
  {
   "cell_type": "code",
   "execution_count": null,
   "metadata": {},
   "outputs": [],
   "source": [
    "cols = [ 'duration' ,'balance','age'] # The columns you want to search for outliers in\n",
    "\n",
    "# Calculate quantiles and IQR\n",
    "Q1 = df[cols].quantile(0.25) # Same as np.percentile but maps (0,1) and not (0,100)\n",
    "Q3 = df[cols].quantile(0.75)\n",
    "IQR = Q3 - Q1\n",
    "\n",
    "# Return a boolean array of the rows with (any) non-outlier column values\n",
    "condition = ~((df[cols] < (Q1 - 1.5 * IQR)) | (df[cols] > (Q3 + 1.5 * IQR))).any(axis=1)\n",
    "\n",
    "# Filter our dataframe based on condition\n",
    "df = df[condition]"
   ]
  },
  {
   "cell_type": "code",
   "execution_count": null,
   "metadata": {},
   "outputs": [],
   "source": [
    "# Detect Outliers\n",
    "# I using Box Plot to detect Outliers in the dataset\n",
    "fig,axes = plt.subplots(3,2,figsize=(20, 10), sharey=True)\n",
    "fig.suptitle('Boxplot Distributions of the Variables During Handling with Outliters',fontsize=30)\n",
    "\n",
    "sns.boxplot(ax=axes[0,0], x='age',color='red', data=df)\n",
    "sns.boxplot(ax=axes[0,1], x='balance',color='yellow'  , data=df) \n",
    "sns.boxplot(ax=axes[1,0], x='duration' , color='orange' , data=df)\n",
    "sns.boxplot(ax=axes[1,1], x='campaign' , color='green' ,   data=df)\n",
    "sns.boxplot(ax=axes[2,0], x='pdays' ,color='pink' ,   data=df)\n",
    "sns.boxplot(ax=axes[2,1], x='previous' ,color='pink' ,   data=df);"
   ]
  },
  {
   "cell_type": "code",
   "execution_count": null,
   "metadata": {},
   "outputs": [],
   "source": [
    "cols = [ 'duration' ,'balance','age'] # The columns you want to search for outliers in\n",
    "\n",
    "# Calculate quantiles and IQR\n",
    "Q1 = df[cols].quantile(0.25) # Same as np.percentile but maps (0,1) and not (0,100)\n",
    "Q3 = df[cols].quantile(0.75)\n",
    "IQR = Q3 - Q1\n",
    "\n",
    "# Return a boolean array of the rows with (any) non-outlier column values\n",
    "condition = ~((df[cols] < (Q1 - 1.5 * IQR)) | (df[cols] > (Q3 + 1.5 * IQR))).any(axis=1)\n",
    "\n",
    "# Filter our dataframe based on condition\n",
    "df = df[condition]"
   ]
  },
  {
   "cell_type": "code",
   "execution_count": null,
   "metadata": {},
   "outputs": [],
   "source": [
    "# Detect Outliers\n",
    "# I using Box Plot to detect Outliers in the dataset\n",
    "fig,axes = plt.subplots(3,2,figsize=(20, 10), sharey=True)\n",
    "fig.suptitle('Boxplot Distributions of the Variables During Handling with Outliters',fontsize=30)\n",
    "\n",
    "sns.boxplot(ax=axes[0,0], x='age',color='red', data=df)\n",
    "sns.boxplot(ax=axes[0,1], x='balance',color='yellow'  , data=df) \n",
    "sns.boxplot(ax=axes[1,0], x='duration' , color='orange' , data=df)\n",
    "sns.boxplot(ax=axes[1,1], x='campaign' , color='green' ,   data=df)\n",
    "sns.boxplot(ax=axes[2,0], x='pdays' ,color='pink' ,   data=df)\n",
    "sns.boxplot(ax=axes[2,1], x='previous' ,color='pink' ,   data=df);"
   ]
  },
  {
   "cell_type": "code",
   "execution_count": null,
   "metadata": {},
   "outputs": [],
   "source": [
    "cols = [ 'duration' ,'balance','age'] # The columns you want to search for outliers in\n",
    "\n",
    "# Calculate quantiles and IQR\n",
    "Q1 = df[cols].quantile(0.25) # Same as np.percentile but maps (0,1) and not (0,100)\n",
    "Q3 = df[cols].quantile(0.75)\n",
    "IQR = Q3 - Q1\n",
    "\n",
    "# Return a boolean array of the rows with (any) non-outlier column values\n",
    "condition = ~((df[cols] < (Q1 - 1.5 * IQR)) | (df[cols] > (Q3 + 1.5 * IQR))).any(axis=1)\n",
    "\n",
    "# Filter our dataframe based on condition\n",
    "df = df[condition]"
   ]
  },
  {
   "cell_type": "code",
   "execution_count": null,
   "metadata": {},
   "outputs": [],
   "source": [
    "# Detect Outliers\n",
    "# I using Box Plot to detect Outliers in the dataset\n",
    "fig,axes = plt.subplots(3,2,figsize=(20, 10), sharey=True)\n",
    "fig.suptitle('Boxplot Distributions of the Variables after Outliters',fontsize=30)\n",
    "\n",
    "sns.boxplot(ax=axes[0,0], x='age',color='red', data=df)\n",
    "sns.boxplot(ax=axes[0,1], x='balance',color='yellow'  , data=df) \n",
    "sns.boxplot(ax=axes[1,0], x='duration' , color='orange' , data=df)\n",
    "sns.boxplot(ax=axes[1,1], x='campaign' , color='green' ,   data=df)\n",
    "sns.boxplot(ax=axes[2,0], x='pdays' ,color='pink' ,   data=df)\n",
    "sns.boxplot(ax=axes[2,1], x='previous' ,color='pink' ,   data=df);"
   ]
  },
  {
   "cell_type": "markdown",
   "metadata": {},
   "source": [
    "##### Summary"
   ]
  },
  {
   "cell_type": "markdown",
   "metadata": {},
   "source": [
    "- In this stage, I doing many steps \n",
    "- Load Libraries and dataset.\n",
    "- Know the basic information about data by using the same function scuh as head, shape , dtypes , info , describe \n",
    "- Checking on missing values\n",
    "- Checking on duplicates values\n",
    "- Detecting outliters"
   ]
  },
  {
   "cell_type": "markdown",
   "metadata": {},
   "source": [
    "<hr>"
   ]
  },
  {
   "cell_type": "markdown",
   "metadata": {},
   "source": [
    "# Done"
   ]
  }
 ],
 "metadata": {
  "kernelspec": {
   "display_name": "Python 3 (ipykernel)",
   "language": "python",
   "name": "python3"
  },
  "language_info": {
   "codemirror_mode": {
    "name": "ipython",
    "version": 3
   },
   "file_extension": ".py",
   "mimetype": "text/x-python",
   "name": "python",
   "nbconvert_exporter": "python",
   "pygments_lexer": "ipython3",
   "version": "3.8.8"
  },
  "vscode": {
   "interpreter": {
    "hash": "45a6b76dfd373065b487822c642b48298e2b4a05d67eac58f74d4dc6f3d6fc3a"
   }
  }
 },
 "nbformat": 4,
 "nbformat_minor": 4
}
